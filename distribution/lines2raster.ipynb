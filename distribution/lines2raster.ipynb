{
 "cells": [
  {
   "cell_type": "code",
   "execution_count": 1,
   "metadata": {},
   "outputs": [],
   "source": [
    "%matplotlib widget"
   ]
  },
  {
   "cell_type": "code",
   "execution_count": 2,
   "metadata": {},
   "outputs": [],
   "source": [
    "import pandas as pd\n",
    "import geopandas as gpd\n",
    "\n",
    "import matplotlib.pyplot as plt\n",
    "import folium"
   ]
  },
  {
   "cell_type": "markdown",
   "metadata": {},
   "source": [
    "# read Grid Baden-Württemberg (1x1km)\n",
    "\n",
    "sources:\n",
    "\n",
    "https://gdz.bkg.bund.de/index.php/default/geographische-gitter-fur-deutschland-in-utm-projektion-geogitter-national.html\n",
    "\n",
    "https://www.eea.europa.eu/data-and-maps/data/eea-reference-grids-2"
   ]
  },
  {
   "cell_type": "code",
   "execution_count": 3,
   "metadata": {},
   "outputs": [],
   "source": [
    "path_ = r\"D:\\Projekte\\HiMeMo\\shp\\\\\""
   ]
  },
  {
   "cell_type": "code",
   "execution_count": 4,
   "metadata": {},
   "outputs": [],
   "source": [
    "grid=gpd.read_file(path_+r'grid-bw\\baden-wuerttemberg-grid1km.shp')"
   ]
  },
  {
   "cell_type": "code",
   "execution_count": 5,
   "metadata": {},
   "outputs": [
    {
     "data": {
      "application/vnd.jupyter.widget-view+json": {
       "model_id": "5ca402c6a5a64840bf562e400569101d",
       "version_major": 2,
       "version_minor": 0
      },
      "text/plain": [
       "Canvas(toolbar=Toolbar(toolitems=[('Home', 'Reset original view', 'home', 'home'), ('Back', 'Back to previous …"
      ]
     },
     "metadata": {},
     "output_type": "display_data"
    },
    {
     "data": {
      "text/plain": [
       "<matplotlib.axes._subplots.AxesSubplot at 0x1088f311508>"
      ]
     },
     "execution_count": 5,
     "metadata": {},
     "output_type": "execute_result"
    }
   ],
   "source": [
    "grid.plot()"
   ]
  },
  {
   "cell_type": "code",
   "execution_count": 6,
   "metadata": {},
   "outputs": [],
   "source": [
    "plt.close(1)"
   ]
  },
  {
   "cell_type": "code",
   "execution_count": 7,
   "metadata": {},
   "outputs": [
    {
     "data": {
      "text/plain": [
       "<Projected CRS: EPSG:25832>\n",
       "Name: ETRS89 / UTM zone 32N\n",
       "Axis Info [cartesian]:\n",
       "- E[east]: Easting (metre)\n",
       "- N[north]: Northing (metre)\n",
       "Area of Use:\n",
       "- name: Europe - 6°E to 12°E and ETRS89 by country\n",
       "- bounds: (6.0, 38.76, 12.0, 83.92)\n",
       "Coordinate Operation:\n",
       "- name: UTM zone 32N\n",
       "- method: Transverse Mercator\n",
       "Datum: European Terrestrial Reference System 1989\n",
       "- Ellipsoid: GRS 1980\n",
       "- Prime Meridian: Greenwich"
      ]
     },
     "execution_count": 7,
     "metadata": {},
     "output_type": "execute_result"
    }
   ],
   "source": [
    "grid.crs"
   ]
  },
  {
   "cell_type": "code",
   "execution_count": 8,
   "metadata": {},
   "outputs": [
    {
     "name": "stderr",
     "output_type": "stream",
     "text": [
      "C:\\Users\\thom_nn\\.conda\\envs\\geo_basics\\lib\\site-packages\\pyproj\\crs.py:77: FutureWarning: '+init=<authority>:<code>' syntax is deprecated. '<authority>:<code>' is the preferred initialization method.\n",
      "  return _prepare_from_string(\" \".join(pjargs))\n"
     ]
    }
   ],
   "source": [
    "#grid.crs\n",
    "grid = grid.to_crs({'init': 'epsg:3035'})"
   ]
  },
  {
   "cell_type": "code",
   "execution_count": 9,
   "metadata": {},
   "outputs": [
    {
     "data": {
      "text/html": [
       "<div>\n",
       "<style scoped>\n",
       "    .dataframe tbody tr th:only-of-type {\n",
       "        vertical-align: middle;\n",
       "    }\n",
       "\n",
       "    .dataframe tbody tr th {\n",
       "        vertical-align: top;\n",
       "    }\n",
       "\n",
       "    .dataframe thead th {\n",
       "        text-align: right;\n",
       "    }\n",
       "</style>\n",
       "<table border=\"1\" class=\"dataframe\">\n",
       "  <thead>\n",
       "    <tr style=\"text-align: right;\">\n",
       "      <th></th>\n",
       "      <th>rowid</th>\n",
       "      <th>featuretyp</th>\n",
       "      <th>dataset_na</th>\n",
       "      <th>OBJECTID</th>\n",
       "      <th>id</th>\n",
       "      <th>x_sw</th>\n",
       "      <th>y_sw</th>\n",
       "      <th>x_mp</th>\n",
       "      <th>y_mp</th>\n",
       "      <th>f_staat</th>\n",
       "      <th>...</th>\n",
       "      <th>SN_V2</th>\n",
       "      <th>SN_G</th>\n",
       "      <th>FK_S3</th>\n",
       "      <th>NUTS</th>\n",
       "      <th>EWZ</th>\n",
       "      <th>KFL</th>\n",
       "      <th>SHAPE_Le_1</th>\n",
       "      <th>SHAPE_Ar_1</th>\n",
       "      <th>_sum</th>\n",
       "      <th>geometry</th>\n",
       "    </tr>\n",
       "  </thead>\n",
       "  <tbody>\n",
       "    <tr>\n",
       "      <th>0</th>\n",
       "      <td>1202.0</td>\n",
       "      <td>DE_Grid_ETRS89-UTM32_1km</td>\n",
       "      <td>de_grid_utm32_1km</td>\n",
       "      <td>1202</td>\n",
       "      <td>1kmN5265E399</td>\n",
       "      <td>399000.0</td>\n",
       "      <td>5265000.0</td>\n",
       "      <td>399500.0</td>\n",
       "      <td>5265500.0</td>\n",
       "      <td>193454.0</td>\n",
       "      <td>...</td>\n",
       "      <td>00</td>\n",
       "      <td>000</td>\n",
       "      <td>0</td>\n",
       "      <td>DE1</td>\n",
       "      <td>10951893</td>\n",
       "      <td>35748.17</td>\n",
       "      <td>2.544263e+06</td>\n",
       "      <td>8.151755e+10</td>\n",
       "      <td>180.808108</td>\n",
       "      <td>POLYGON ((4145049.219 2716779.268, 4145587.602...</td>\n",
       "    </tr>\n",
       "    <tr>\n",
       "      <th>1</th>\n",
       "      <td>1203.0</td>\n",
       "      <td>DE_Grid_ETRS89-UTM32_1km</td>\n",
       "      <td>de_grid_utm32_1km</td>\n",
       "      <td>1203</td>\n",
       "      <td>1kmN5265E400</td>\n",
       "      <td>400000.0</td>\n",
       "      <td>5265000.0</td>\n",
       "      <td>400500.0</td>\n",
       "      <td>5265500.0</td>\n",
       "      <td>724457.0</td>\n",
       "      <td>...</td>\n",
       "      <td>00</td>\n",
       "      <td>000</td>\n",
       "      <td>0</td>\n",
       "      <td>DE1</td>\n",
       "      <td>10951893</td>\n",
       "      <td>35748.17</td>\n",
       "      <td>2.544263e+06</td>\n",
       "      <td>8.151755e+10</td>\n",
       "      <td>804.211853</td>\n",
       "      <td>POLYGON ((4145580.204 2716219.458, 4145587.602...</td>\n",
       "    </tr>\n",
       "    <tr>\n",
       "      <th>2</th>\n",
       "      <td>1204.0</td>\n",
       "      <td>DE_Grid_ETRS89-UTM32_1km</td>\n",
       "      <td>de_grid_utm32_1km</td>\n",
       "      <td>1204</td>\n",
       "      <td>1kmN5265E401</td>\n",
       "      <td>401000.0</td>\n",
       "      <td>5265000.0</td>\n",
       "      <td>401500.0</td>\n",
       "      <td>5265500.0</td>\n",
       "      <td>822318.0</td>\n",
       "      <td>...</td>\n",
       "      <td>00</td>\n",
       "      <td>000</td>\n",
       "      <td>0</td>\n",
       "      <td>DE1</td>\n",
       "      <td>10951893</td>\n",
       "      <td>35748.17</td>\n",
       "      <td>2.544263e+06</td>\n",
       "      <td>8.151755e+10</td>\n",
       "      <td>1133.568177</td>\n",
       "      <td>POLYGON ((4146577.415 2715940.046, 4146588.363...</td>\n",
       "    </tr>\n",
       "    <tr>\n",
       "      <th>3</th>\n",
       "      <td>1205.0</td>\n",
       "      <td>DE_Grid_ETRS89-UTM32_1km</td>\n",
       "      <td>de_grid_utm32_1km</td>\n",
       "      <td>1205</td>\n",
       "      <td>1kmN5265E402</td>\n",
       "      <td>402000.0</td>\n",
       "      <td>5265000.0</td>\n",
       "      <td>402500.0</td>\n",
       "      <td>5265500.0</td>\n",
       "      <td>447244.0</td>\n",
       "      <td>...</td>\n",
       "      <td>00</td>\n",
       "      <td>000</td>\n",
       "      <td>0</td>\n",
       "      <td>DE1</td>\n",
       "      <td>10951893</td>\n",
       "      <td>35748.17</td>\n",
       "      <td>2.544263e+06</td>\n",
       "      <td>8.151755e+10</td>\n",
       "      <td>416.022656</td>\n",
       "      <td>POLYGON ((4147578.976 2715984.983, 4147589.127...</td>\n",
       "    </tr>\n",
       "    <tr>\n",
       "      <th>4</th>\n",
       "      <td>1206.0</td>\n",
       "      <td>DE_Grid_ETRS89-UTM32_1km</td>\n",
       "      <td>de_grid_utm32_1km</td>\n",
       "      <td>1206</td>\n",
       "      <td>1kmN5265E403</td>\n",
       "      <td>403000.0</td>\n",
       "      <td>5265000.0</td>\n",
       "      <td>403500.0</td>\n",
       "      <td>5265500.0</td>\n",
       "      <td>24422.0</td>\n",
       "      <td>...</td>\n",
       "      <td>00</td>\n",
       "      <td>000</td>\n",
       "      <td>0</td>\n",
       "      <td>DE1</td>\n",
       "      <td>10951893</td>\n",
       "      <td>35748.17</td>\n",
       "      <td>2.544263e+06</td>\n",
       "      <td>8.151755e+10</td>\n",
       "      <td>24.337452</td>\n",
       "      <td>POLYGON ((4148587.305 2716535.038, 4148589.895...</td>\n",
       "    </tr>\n",
       "  </tbody>\n",
       "</table>\n",
       "<p>5 rows × 40 columns</p>\n",
       "</div>"
      ],
      "text/plain": [
       "    rowid                featuretyp         dataset_na  OBJECTID  \\\n",
       "0  1202.0  DE_Grid_ETRS89-UTM32_1km  de_grid_utm32_1km      1202   \n",
       "1  1203.0  DE_Grid_ETRS89-UTM32_1km  de_grid_utm32_1km      1203   \n",
       "2  1204.0  DE_Grid_ETRS89-UTM32_1km  de_grid_utm32_1km      1204   \n",
       "3  1205.0  DE_Grid_ETRS89-UTM32_1km  de_grid_utm32_1km      1205   \n",
       "4  1206.0  DE_Grid_ETRS89-UTM32_1km  de_grid_utm32_1km      1206   \n",
       "\n",
       "             id      x_sw       y_sw      x_mp       y_mp   f_staat  ...  \\\n",
       "0  1kmN5265E399  399000.0  5265000.0  399500.0  5265500.0  193454.0  ...   \n",
       "1  1kmN5265E400  400000.0  5265000.0  400500.0  5265500.0  724457.0  ...   \n",
       "2  1kmN5265E401  401000.0  5265000.0  401500.0  5265500.0  822318.0  ...   \n",
       "3  1kmN5265E402  402000.0  5265000.0  402500.0  5265500.0  447244.0  ...   \n",
       "4  1kmN5265E403  403000.0  5265000.0  403500.0  5265500.0   24422.0  ...   \n",
       "\n",
       "   SN_V2  SN_G  FK_S3  NUTS       EWZ       KFL    SHAPE_Le_1    SHAPE_Ar_1  \\\n",
       "0     00   000      0   DE1  10951893  35748.17  2.544263e+06  8.151755e+10   \n",
       "1     00   000      0   DE1  10951893  35748.17  2.544263e+06  8.151755e+10   \n",
       "2     00   000      0   DE1  10951893  35748.17  2.544263e+06  8.151755e+10   \n",
       "3     00   000      0   DE1  10951893  35748.17  2.544263e+06  8.151755e+10   \n",
       "4     00   000      0   DE1  10951893  35748.17  2.544263e+06  8.151755e+10   \n",
       "\n",
       "          _sum                                           geometry  \n",
       "0   180.808108  POLYGON ((4145049.219 2716779.268, 4145587.602...  \n",
       "1   804.211853  POLYGON ((4145580.204 2716219.458, 4145587.602...  \n",
       "2  1133.568177  POLYGON ((4146577.415 2715940.046, 4146588.363...  \n",
       "3   416.022656  POLYGON ((4147578.976 2715984.983, 4147589.127...  \n",
       "4    24.337452  POLYGON ((4148587.305 2716535.038, 4148589.895...  \n",
       "\n",
       "[5 rows x 40 columns]"
      ]
     },
     "execution_count": 9,
     "metadata": {},
     "output_type": "execute_result"
    }
   ],
   "source": [
    "grid.head()"
   ]
  },
  {
   "cell_type": "markdown",
   "metadata": {},
   "source": [
    "# read Lines"
   ]
  },
  {
   "cell_type": "code",
   "execution_count": 10,
   "metadata": {},
   "outputs": [
    {
     "data": {
      "text/plain": [
       "18244"
      ]
     },
     "execution_count": 10,
     "metadata": {},
     "output_type": "execute_result"
    }
   ],
   "source": [
    "line=gpd.read_file(path_ + 'bawue/bw-links.shp')\n",
    "len(line)"
   ]
  },
  {
   "cell_type": "code",
   "execution_count": 11,
   "metadata": {},
   "outputs": [
    {
     "data": {
      "text/html": [
       "<div>\n",
       "<style scoped>\n",
       "    .dataframe tbody tr th:only-of-type {\n",
       "        vertical-align: middle;\n",
       "    }\n",
       "\n",
       "    .dataframe tbody tr th {\n",
       "        vertical-align: top;\n",
       "    }\n",
       "\n",
       "    .dataframe thead th {\n",
       "        text-align: right;\n",
       "    }\n",
       "</style>\n",
       "<table border=\"1\" class=\"dataframe\">\n",
       "  <thead>\n",
       "    <tr style=\"text-align: right;\">\n",
       "      <th></th>\n",
       "      <th>id</th>\n",
       "      <th>fromnode</th>\n",
       "      <th>tonode</th>\n",
       "      <th>length</th>\n",
       "      <th>type</th>\n",
       "      <th>nuts_id</th>\n",
       "      <th>urban</th>\n",
       "      <th>load_car</th>\n",
       "      <th>load_lcv</th>\n",
       "      <th>load_mft</th>\n",
       "      <th>...</th>\n",
       "      <th>SN_V1</th>\n",
       "      <th>SN_V2</th>\n",
       "      <th>SN_G</th>\n",
       "      <th>FK_S3</th>\n",
       "      <th>NUTS</th>\n",
       "      <th>EWZ</th>\n",
       "      <th>KFL</th>\n",
       "      <th>SHAPE_Leng</th>\n",
       "      <th>SHAPE_Area</th>\n",
       "      <th>geometry</th>\n",
       "    </tr>\n",
       "  </thead>\n",
       "  <tbody>\n",
       "    <tr>\n",
       "      <th>0</th>\n",
       "      <td>80677104</td>\n",
       "      <td>80192562</td>\n",
       "      <td>80192249</td>\n",
       "      <td>0.561741</td>\n",
       "      <td>3.0</td>\n",
       "      <td>DE111</td>\n",
       "      <td>2.0</td>\n",
       "      <td>1.396141e+07</td>\n",
       "      <td>1095814.0</td>\n",
       "      <td>205465.0</td>\n",
       "      <td>...</td>\n",
       "      <td>00</td>\n",
       "      <td>00</td>\n",
       "      <td>000</td>\n",
       "      <td>0</td>\n",
       "      <td>DE1</td>\n",
       "      <td>10951893</td>\n",
       "      <td>35748.17</td>\n",
       "      <td>2.544263e+06</td>\n",
       "      <td>8.151755e+10</td>\n",
       "      <td>LINESTRING (509846.088 5401249.130, 509293.011...</td>\n",
       "    </tr>\n",
       "    <tr>\n",
       "      <th>1</th>\n",
       "      <td>80719516</td>\n",
       "      <td>80196271</td>\n",
       "      <td>80196192</td>\n",
       "      <td>0.333840</td>\n",
       "      <td>2.0</td>\n",
       "      <td>DE111</td>\n",
       "      <td>1.0</td>\n",
       "      <td>2.681434e+07</td>\n",
       "      <td>365271.0</td>\n",
       "      <td>68488.0</td>\n",
       "      <td>...</td>\n",
       "      <td>00</td>\n",
       "      <td>00</td>\n",
       "      <td>000</td>\n",
       "      <td>0</td>\n",
       "      <td>DE1</td>\n",
       "      <td>10951893</td>\n",
       "      <td>35748.17</td>\n",
       "      <td>2.544263e+06</td>\n",
       "      <td>8.151755e+10</td>\n",
       "      <td>LINESTRING (513015.178 5403306.694, 512956.454...</td>\n",
       "    </tr>\n",
       "    <tr>\n",
       "      <th>2</th>\n",
       "      <td>80255352</td>\n",
       "      <td>80196531</td>\n",
       "      <td>80197157</td>\n",
       "      <td>0.699563</td>\n",
       "      <td>3.0</td>\n",
       "      <td>DE111</td>\n",
       "      <td>1.0</td>\n",
       "      <td>1.857994e+07</td>\n",
       "      <td>1095814.0</td>\n",
       "      <td>205465.0</td>\n",
       "      <td>...</td>\n",
       "      <td>00</td>\n",
       "      <td>00</td>\n",
       "      <td>000</td>\n",
       "      <td>0</td>\n",
       "      <td>DE1</td>\n",
       "      <td>10951893</td>\n",
       "      <td>35748.17</td>\n",
       "      <td>2.544263e+06</td>\n",
       "      <td>8.151755e+10</td>\n",
       "      <td>LINESTRING (513133.381 5410162.765, 513530.876...</td>\n",
       "    </tr>\n",
       "    <tr>\n",
       "      <th>3</th>\n",
       "      <td>80262630</td>\n",
       "      <td>80191842</td>\n",
       "      <td>80192835</td>\n",
       "      <td>1.543261</td>\n",
       "      <td>3.0</td>\n",
       "      <td>DE111</td>\n",
       "      <td>2.0</td>\n",
       "      <td>1.373626e+07</td>\n",
       "      <td>1095814.0</td>\n",
       "      <td>205465.0</td>\n",
       "      <td>...</td>\n",
       "      <td>00</td>\n",
       "      <td>00</td>\n",
       "      <td>000</td>\n",
       "      <td>0</td>\n",
       "      <td>DE1</td>\n",
       "      <td>10951893</td>\n",
       "      <td>35748.17</td>\n",
       "      <td>2.544263e+06</td>\n",
       "      <td>8.151755e+10</td>\n",
       "      <td>LINESTRING (508622.911 5400562.918, 510084.996...</td>\n",
       "    </tr>\n",
       "    <tr>\n",
       "      <th>4</th>\n",
       "      <td>80788212</td>\n",
       "      <td>80197754</td>\n",
       "      <td>80197426</td>\n",
       "      <td>0.713568</td>\n",
       "      <td>2.0</td>\n",
       "      <td>DE111</td>\n",
       "      <td>1.0</td>\n",
       "      <td>2.051346e+07</td>\n",
       "      <td>365271.0</td>\n",
       "      <td>68488.0</td>\n",
       "      <td>...</td>\n",
       "      <td>00</td>\n",
       "      <td>00</td>\n",
       "      <td>000</td>\n",
       "      <td>0</td>\n",
       "      <td>DE1</td>\n",
       "      <td>10951893</td>\n",
       "      <td>35748.17</td>\n",
       "      <td>2.544263e+06</td>\n",
       "      <td>8.151755e+10</td>\n",
       "      <td>LINESTRING (514101.488 5404034.268, 513815.728...</td>\n",
       "    </tr>\n",
       "  </tbody>\n",
       "</table>\n",
       "<p>5 rows × 33 columns</p>\n",
       "</div>"
      ],
      "text/plain": [
       "         id  fromnode    tonode    length  type nuts_id  urban      load_car  \\\n",
       "0  80677104  80192562  80192249  0.561741   3.0   DE111    2.0  1.396141e+07   \n",
       "1  80719516  80196271  80196192  0.333840   2.0   DE111    1.0  2.681434e+07   \n",
       "2  80255352  80196531  80197157  0.699563   3.0   DE111    1.0  1.857994e+07   \n",
       "3  80262630  80191842  80192835  1.543261   3.0   DE111    2.0  1.373626e+07   \n",
       "4  80788212  80197754  80197426  0.713568   2.0   DE111    1.0  2.051346e+07   \n",
       "\n",
       "    load_lcv  load_mft  ...  SN_V1  SN_V2 SN_G FK_S3 NUTS       EWZ       KFL  \\\n",
       "0  1095814.0  205465.0  ...     00     00  000     0  DE1  10951893  35748.17   \n",
       "1   365271.0   68488.0  ...     00     00  000     0  DE1  10951893  35748.17   \n",
       "2  1095814.0  205465.0  ...     00     00  000     0  DE1  10951893  35748.17   \n",
       "3  1095814.0  205465.0  ...     00     00  000     0  DE1  10951893  35748.17   \n",
       "4   365271.0   68488.0  ...     00     00  000     0  DE1  10951893  35748.17   \n",
       "\n",
       "     SHAPE_Leng    SHAPE_Area  \\\n",
       "0  2.544263e+06  8.151755e+10   \n",
       "1  2.544263e+06  8.151755e+10   \n",
       "2  2.544263e+06  8.151755e+10   \n",
       "3  2.544263e+06  8.151755e+10   \n",
       "4  2.544263e+06  8.151755e+10   \n",
       "\n",
       "                                            geometry  \n",
       "0  LINESTRING (509846.088 5401249.130, 509293.011...  \n",
       "1  LINESTRING (513015.178 5403306.694, 512956.454...  \n",
       "2  LINESTRING (513133.381 5410162.765, 513530.876...  \n",
       "3  LINESTRING (508622.911 5400562.918, 510084.996...  \n",
       "4  LINESTRING (514101.488 5404034.268, 513815.728...  \n",
       "\n",
       "[5 rows x 33 columns]"
      ]
     },
     "execution_count": 11,
     "metadata": {},
     "output_type": "execute_result"
    }
   ],
   "source": [
    "line.head()"
   ]
  },
  {
   "cell_type": "code",
   "execution_count": 12,
   "metadata": {},
   "outputs": [
    {
     "data": {
      "text/plain": [
       "Index(['id', 'fromnode', 'tonode', 'length', 'type', 'nuts_id', 'urban',\n",
       "       'load_car', 'load_lcv', 'load_mft', 'load_hft', 'fid', 'AGS', 'RS',\n",
       "       'SDV_RS', 'GEN', 'BEZ', 'IBZ', 'BEM', 'NBD', 'SN_L', 'SN_R', 'SN_K',\n",
       "       'SN_V1', 'SN_V2', 'SN_G', 'FK_S3', 'NUTS', 'EWZ', 'KFL', 'SHAPE_Leng',\n",
       "       'SHAPE_Area', 'geometry'],\n",
       "      dtype='object')"
      ]
     },
     "execution_count": 12,
     "metadata": {},
     "output_type": "execute_result"
    }
   ],
   "source": [
    "line.columns"
   ]
  },
  {
   "cell_type": "code",
   "execution_count": 13,
   "metadata": {},
   "outputs": [],
   "source": [
    "line = line[['id', 'fromnode','tonode', 'length', 'type', 'nuts_id', 'urban', 'load_car', 'load_lcv', 'load_mft', 'load_hft','geometry']].copy()"
   ]
  },
  {
   "cell_type": "markdown",
   "metadata": {},
   "source": [
    "#### Split lines with grid"
   ]
  },
  {
   "cell_type": "code",
   "execution_count": 14,
   "metadata": {},
   "outputs": [
    {
     "name": "stderr",
     "output_type": "stream",
     "text": [
      "C:\\Users\\thom_nn\\.conda\\envs\\geo_basics\\lib\\site-packages\\pyproj\\crs.py:77: FutureWarning: '+init=<authority>:<code>' syntax is deprecated. '<authority>:<code>' is the preferred initialization method.\n",
      "  return _prepare_from_string(\" \".join(pjargs))\n"
     ]
    }
   ],
   "source": [
    "line = line.to_crs({'init':'epsg:3035'})"
   ]
  },
  {
   "cell_type": "code",
   "execution_count": 15,
   "metadata": {},
   "outputs": [
    {
     "data": {
      "text/plain": [
       "32798"
      ]
     },
     "execution_count": 15,
     "metadata": {},
     "output_type": "execute_result"
    }
   ],
   "source": [
    "split = gpd.overlay(line, grid, how='union')\n",
    "len(split)"
   ]
  },
  {
   "cell_type": "code",
   "execution_count": 16,
   "metadata": {},
   "outputs": [
    {
     "data": {
      "text/html": [
       "<div>\n",
       "<style scoped>\n",
       "    .dataframe tbody tr th:only-of-type {\n",
       "        vertical-align: middle;\n",
       "    }\n",
       "\n",
       "    .dataframe tbody tr th {\n",
       "        vertical-align: top;\n",
       "    }\n",
       "\n",
       "    .dataframe thead th {\n",
       "        text-align: right;\n",
       "    }\n",
       "</style>\n",
       "<table border=\"1\" class=\"dataframe\">\n",
       "  <thead>\n",
       "    <tr style=\"text-align: right;\">\n",
       "      <th></th>\n",
       "      <th>id_1</th>\n",
       "      <th>fromnode</th>\n",
       "      <th>tonode</th>\n",
       "      <th>length</th>\n",
       "      <th>type</th>\n",
       "      <th>nuts_id</th>\n",
       "      <th>urban</th>\n",
       "      <th>load_car</th>\n",
       "      <th>load_lcv</th>\n",
       "      <th>load_mft</th>\n",
       "      <th>...</th>\n",
       "      <th>SN_V2</th>\n",
       "      <th>SN_G</th>\n",
       "      <th>FK_S3</th>\n",
       "      <th>NUTS</th>\n",
       "      <th>EWZ</th>\n",
       "      <th>KFL</th>\n",
       "      <th>SHAPE_Le_1</th>\n",
       "      <th>SHAPE_Ar_1</th>\n",
       "      <th>_sum</th>\n",
       "      <th>geometry</th>\n",
       "    </tr>\n",
       "  </thead>\n",
       "  <tbody>\n",
       "    <tr>\n",
       "      <th>0</th>\n",
       "      <td>80677104.0</td>\n",
       "      <td>80192562.0</td>\n",
       "      <td>80192249.0</td>\n",
       "      <td>553.587693</td>\n",
       "      <td>3.0</td>\n",
       "      <td>DE111</td>\n",
       "      <td>2.0</td>\n",
       "      <td>1.396141e+07</td>\n",
       "      <td>1095814.0</td>\n",
       "      <td>205465.0</td>\n",
       "      <td>...</td>\n",
       "      <td>00</td>\n",
       "      <td>000</td>\n",
       "      <td>0</td>\n",
       "      <td>DE1</td>\n",
       "      <td>10951893.0</td>\n",
       "      <td>35748.17</td>\n",
       "      <td>2.544263e+06</td>\n",
       "      <td>8.151755e+10</td>\n",
       "      <td>798.160105</td>\n",
       "      <td>LINESTRING (4257313.607 2850469.181, 4256760.3...</td>\n",
       "    </tr>\n",
       "    <tr>\n",
       "      <th>1</th>\n",
       "      <td>80677106.0</td>\n",
       "      <td>80192173.0</td>\n",
       "      <td>80192573.0</td>\n",
       "      <td>672.780272</td>\n",
       "      <td>3.0</td>\n",
       "      <td>DE111</td>\n",
       "      <td>2.0</td>\n",
       "      <td>1.398125e+07</td>\n",
       "      <td>1095814.0</td>\n",
       "      <td>205465.0</td>\n",
       "      <td>...</td>\n",
       "      <td>00</td>\n",
       "      <td>000</td>\n",
       "      <td>0</td>\n",
       "      <td>DE1</td>\n",
       "      <td>10951893.0</td>\n",
       "      <td>35748.17</td>\n",
       "      <td>2.544263e+06</td>\n",
       "      <td>8.151755e+10</td>\n",
       "      <td>798.160105</td>\n",
       "      <td>LINESTRING (4256649.412 2850493.491, 4257321.4...</td>\n",
       "    </tr>\n",
       "    <tr>\n",
       "      <th>2</th>\n",
       "      <td>80226542.0</td>\n",
       "      <td>80191870.0</td>\n",
       "      <td>80192057.0</td>\n",
       "      <td>17.283609</td>\n",
       "      <td>3.0</td>\n",
       "      <td>DE111</td>\n",
       "      <td>2.0</td>\n",
       "      <td>1.398125e+07</td>\n",
       "      <td>1095814.0</td>\n",
       "      <td>205465.0</td>\n",
       "      <td>...</td>\n",
       "      <td>00</td>\n",
       "      <td>000</td>\n",
       "      <td>0</td>\n",
       "      <td>DE1</td>\n",
       "      <td>10951893.0</td>\n",
       "      <td>35748.17</td>\n",
       "      <td>2.544263e+06</td>\n",
       "      <td>8.151755e+10</td>\n",
       "      <td>798.160105</td>\n",
       "      <td>LINESTRING (4256467.519 2850521.116, 4256484.7...</td>\n",
       "    </tr>\n",
       "    <tr>\n",
       "      <th>3</th>\n",
       "      <td>80278802.0</td>\n",
       "      <td>80192249.0</td>\n",
       "      <td>80192019.0</td>\n",
       "      <td>296.463369</td>\n",
       "      <td>3.0</td>\n",
       "      <td>DE111</td>\n",
       "      <td>1.0</td>\n",
       "      <td>1.396141e+07</td>\n",
       "      <td>1095814.0</td>\n",
       "      <td>205465.0</td>\n",
       "      <td>...</td>\n",
       "      <td>00</td>\n",
       "      <td>000</td>\n",
       "      <td>0</td>\n",
       "      <td>DE1</td>\n",
       "      <td>10951893.0</td>\n",
       "      <td>35748.17</td>\n",
       "      <td>2.544263e+06</td>\n",
       "      <td>8.151755e+10</td>\n",
       "      <td>798.160105</td>\n",
       "      <td>LINESTRING (4256760.323 2850487.506, 4256467.7...</td>\n",
       "    </tr>\n",
       "    <tr>\n",
       "      <th>4</th>\n",
       "      <td>80871918.0</td>\n",
       "      <td>80192057.0</td>\n",
       "      <td>80192173.0</td>\n",
       "      <td>166.724457</td>\n",
       "      <td>3.0</td>\n",
       "      <td>DE111</td>\n",
       "      <td>1.0</td>\n",
       "      <td>1.398125e+07</td>\n",
       "      <td>1095814.0</td>\n",
       "      <td>205465.0</td>\n",
       "      <td>...</td>\n",
       "      <td>00</td>\n",
       "      <td>000</td>\n",
       "      <td>0</td>\n",
       "      <td>DE1</td>\n",
       "      <td>10951893.0</td>\n",
       "      <td>35748.17</td>\n",
       "      <td>2.544263e+06</td>\n",
       "      <td>8.151755e+10</td>\n",
       "      <td>798.160105</td>\n",
       "      <td>LINESTRING (4256484.723 2850519.463, 4256649.4...</td>\n",
       "    </tr>\n",
       "  </tbody>\n",
       "</table>\n",
       "<p>5 rows × 51 columns</p>\n",
       "</div>"
      ],
      "text/plain": [
       "         id_1    fromnode      tonode      length  type nuts_id  urban  \\\n",
       "0  80677104.0  80192562.0  80192249.0  553.587693   3.0   DE111    2.0   \n",
       "1  80677106.0  80192173.0  80192573.0  672.780272   3.0   DE111    2.0   \n",
       "2  80226542.0  80191870.0  80192057.0   17.283609   3.0   DE111    2.0   \n",
       "3  80278802.0  80192249.0  80192019.0  296.463369   3.0   DE111    1.0   \n",
       "4  80871918.0  80192057.0  80192173.0  166.724457   3.0   DE111    1.0   \n",
       "\n",
       "       load_car   load_lcv  load_mft  ...  SN_V2  SN_G FK_S3 NUTS         EWZ  \\\n",
       "0  1.396141e+07  1095814.0  205465.0  ...     00   000     0  DE1  10951893.0   \n",
       "1  1.398125e+07  1095814.0  205465.0  ...     00   000     0  DE1  10951893.0   \n",
       "2  1.398125e+07  1095814.0  205465.0  ...     00   000     0  DE1  10951893.0   \n",
       "3  1.396141e+07  1095814.0  205465.0  ...     00   000     0  DE1  10951893.0   \n",
       "4  1.398125e+07  1095814.0  205465.0  ...     00   000     0  DE1  10951893.0   \n",
       "\n",
       "        KFL    SHAPE_Le_1    SHAPE_Ar_1        _sum  \\\n",
       "0  35748.17  2.544263e+06  8.151755e+10  798.160105   \n",
       "1  35748.17  2.544263e+06  8.151755e+10  798.160105   \n",
       "2  35748.17  2.544263e+06  8.151755e+10  798.160105   \n",
       "3  35748.17  2.544263e+06  8.151755e+10  798.160105   \n",
       "4  35748.17  2.544263e+06  8.151755e+10  798.160105   \n",
       "\n",
       "                                            geometry  \n",
       "0  LINESTRING (4257313.607 2850469.181, 4256760.3...  \n",
       "1  LINESTRING (4256649.412 2850493.491, 4257321.4...  \n",
       "2  LINESTRING (4256467.519 2850521.116, 4256484.7...  \n",
       "3  LINESTRING (4256760.323 2850487.506, 4256467.7...  \n",
       "4  LINESTRING (4256484.723 2850519.463, 4256649.4...  \n",
       "\n",
       "[5 rows x 51 columns]"
      ]
     },
     "execution_count": 16,
     "metadata": {},
     "output_type": "execute_result"
    }
   ],
   "source": [
    "# determine new length of split lines\n",
    "split['length'] = split.length\n",
    "split.head()"
   ]
  },
  {
   "cell_type": "code",
   "execution_count": 17,
   "metadata": {},
   "outputs": [],
   "source": [
    "split['length'] = split['length']/1000 # convert to km"
   ]
  },
  {
   "cell_type": "code",
   "execution_count": 20,
   "metadata": {},
   "outputs": [],
   "source": [
    "split.to_file(path_ + 'bawue/bw-links-1kmsplit3035-gpd.gpkg')"
   ]
  },
  {
   "cell_type": "code",
   "execution_count": 19,
   "metadata": {},
   "outputs": [],
   "source": [
    "line = split.copy()"
   ]
  },
  {
   "cell_type": "markdown",
   "metadata": {},
   "source": [
    "### Compute vehicle kilometres"
   ]
  },
  {
   "cell_type": "code",
   "execution_count": 21,
   "metadata": {},
   "outputs": [],
   "source": [
    "# daily vehicle kilometers\n",
    "line['car_vkm']=line['length']*line['load_car']/365.25\n",
    "line['lcv_vkm']=line['length']*line['load_lcv']/365.25\n",
    "line['mft_vkm']=line['length']*line['load_mft']/365.25\n",
    "line['hft_vkm']=line['length']*line['load_hft']/365.25"
   ]
  },
  {
   "cell_type": "code",
   "execution_count": 22,
   "metadata": {},
   "outputs": [
    {
     "name": "stdout",
     "output_type": "stream",
     "text": [
      "aggregierte Pkw-Fahrleistung aus Lines: 183.0 mio vkm\n",
      "aggregierte Güter-Fahrleistung aus Lines: 35.0 mio vkm\n"
     ]
    }
   ],
   "source": [
    "pkm=round(line['car_vkm'].sum()/1000000)\n",
    "print('aggregierte Pkw-Fahrleistung aus Lines: {} mio vkm'.format(pkm))\n",
    "pkm=round((line['lcv_vkm'].sum() + line['mft_vkm'].sum() + line['hft_vkm'].sum())/1000000)\n",
    "print('aggregierte Güter-Fahrleistung aus Lines: {} mio vkm'.format(pkm))"
   ]
  },
  {
   "cell_type": "code",
   "execution_count": 23,
   "metadata": {},
   "outputs": [
    {
     "data": {
      "application/vnd.jupyter.widget-view+json": {
       "model_id": "fcd23270652a44f0ae5a1f7d8e98ad6b",
       "version_major": 2,
       "version_minor": 0
      },
      "text/plain": [
       "Canvas(toolbar=Toolbar(toolitems=[('Home', 'Reset original view', 'home', 'home'), ('Back', 'Back to previous …"
      ]
     },
     "metadata": {},
     "output_type": "display_data"
    },
    {
     "data": {
      "text/plain": [
       "<matplotlib.axes._subplots.AxesSubplot at 0x10892a158c8>"
      ]
     },
     "execution_count": 23,
     "metadata": {},
     "output_type": "execute_result"
    }
   ],
   "source": [
    "line.plot(column='load_car', figsize=(10,10), cmap='Spectral_r', legend=True)#, vmax=50000)\n",
    "#line.plot(column='bel_day', figsize=(10,10), cmap='OrRd', legend=True, vmax=50000)"
   ]
  },
  {
   "cell_type": "code",
   "execution_count": 24,
   "metadata": {},
   "outputs": [],
   "source": [
    "plt.close('all')"
   ]
  },
  {
   "cell_type": "code",
   "execution_count": 25,
   "metadata": {},
   "outputs": [],
   "source": [
    "line = line[['id_1', 'fromnode','tonode', 'length', 'type', 'nuts_id', 'urban', 'car_vkm', 'lcv_vkm', 'mft_vkm', 'hft_vkm','geometry']].copy()"
   ]
  },
  {
   "cell_type": "code",
   "execution_count": 26,
   "metadata": {},
   "outputs": [
    {
     "data": {
      "text/html": [
       "<div>\n",
       "<style scoped>\n",
       "    .dataframe tbody tr th:only-of-type {\n",
       "        vertical-align: middle;\n",
       "    }\n",
       "\n",
       "    .dataframe tbody tr th {\n",
       "        vertical-align: top;\n",
       "    }\n",
       "\n",
       "    .dataframe thead th {\n",
       "        text-align: right;\n",
       "    }\n",
       "</style>\n",
       "<table border=\"1\" class=\"dataframe\">\n",
       "  <thead>\n",
       "    <tr style=\"text-align: right;\">\n",
       "      <th></th>\n",
       "      <th>id_1</th>\n",
       "      <th>fromnode</th>\n",
       "      <th>tonode</th>\n",
       "      <th>length</th>\n",
       "      <th>type</th>\n",
       "      <th>nuts_id</th>\n",
       "      <th>urban</th>\n",
       "      <th>car_vkm</th>\n",
       "      <th>lcv_vkm</th>\n",
       "      <th>mft_vkm</th>\n",
       "      <th>hft_vkm</th>\n",
       "      <th>geometry</th>\n",
       "    </tr>\n",
       "  </thead>\n",
       "  <tbody>\n",
       "    <tr>\n",
       "      <th>0</th>\n",
       "      <td>80677104.0</td>\n",
       "      <td>80192562.0</td>\n",
       "      <td>80192249.0</td>\n",
       "      <td>0.553588</td>\n",
       "      <td>3.0</td>\n",
       "      <td>DE111</td>\n",
       "      <td>2.0</td>\n",
       "      <td>21160.480345</td>\n",
       "      <td>1660.860080</td>\n",
       "      <td>311.411076</td>\n",
       "      <td>51.904625</td>\n",
       "      <td>LINESTRING (4257313.607 2850469.181, 4256760.3...</td>\n",
       "    </tr>\n",
       "    <tr>\n",
       "      <th>1</th>\n",
       "      <td>80677106.0</td>\n",
       "      <td>80192173.0</td>\n",
       "      <td>80192573.0</td>\n",
       "      <td>0.672780</td>\n",
       "      <td>3.0</td>\n",
       "      <td>DE111</td>\n",
       "      <td>2.0</td>\n",
       "      <td>25753.077206</td>\n",
       "      <td>2018.458701</td>\n",
       "      <td>378.460776</td>\n",
       "      <td>63.080173</td>\n",
       "      <td>LINESTRING (4256649.412 2850493.491, 4257321.4...</td>\n",
       "    </tr>\n",
       "    <tr>\n",
       "      <th>2</th>\n",
       "      <td>80226542.0</td>\n",
       "      <td>80191870.0</td>\n",
       "      <td>80192057.0</td>\n",
       "      <td>0.017284</td>\n",
       "      <td>3.0</td>\n",
       "      <td>DE111</td>\n",
       "      <td>2.0</td>\n",
       "      <td>661.592122</td>\n",
       "      <td>51.853857</td>\n",
       "      <td>9.722592</td>\n",
       "      <td>8.278496</td>\n",
       "      <td>LINESTRING (4256467.519 2850521.116, 4256484.7...</td>\n",
       "    </tr>\n",
       "    <tr>\n",
       "      <th>3</th>\n",
       "      <td>80278802.0</td>\n",
       "      <td>80192249.0</td>\n",
       "      <td>80192019.0</td>\n",
       "      <td>0.296463</td>\n",
       "      <td>3.0</td>\n",
       "      <td>DE111</td>\n",
       "      <td>1.0</td>\n",
       "      <td>11332.093143</td>\n",
       "      <td>889.442055</td>\n",
       "      <td>166.770284</td>\n",
       "      <td>126.827489</td>\n",
       "      <td>LINESTRING (4256760.323 2850487.506, 4256467.7...</td>\n",
       "    </tr>\n",
       "    <tr>\n",
       "      <th>4</th>\n",
       "      <td>80871918.0</td>\n",
       "      <td>80192057.0</td>\n",
       "      <td>80192173.0</td>\n",
       "      <td>0.166724</td>\n",
       "      <td>3.0</td>\n",
       "      <td>DE111</td>\n",
       "      <td>1.0</td>\n",
       "      <td>6381.976388</td>\n",
       "      <td>500.202584</td>\n",
       "      <td>93.787927</td>\n",
       "      <td>79.857614</td>\n",
       "      <td>LINESTRING (4256484.723 2850519.463, 4256649.4...</td>\n",
       "    </tr>\n",
       "  </tbody>\n",
       "</table>\n",
       "</div>"
      ],
      "text/plain": [
       "         id_1    fromnode      tonode    length  type nuts_id  urban  \\\n",
       "0  80677104.0  80192562.0  80192249.0  0.553588   3.0   DE111    2.0   \n",
       "1  80677106.0  80192173.0  80192573.0  0.672780   3.0   DE111    2.0   \n",
       "2  80226542.0  80191870.0  80192057.0  0.017284   3.0   DE111    2.0   \n",
       "3  80278802.0  80192249.0  80192019.0  0.296463   3.0   DE111    1.0   \n",
       "4  80871918.0  80192057.0  80192173.0  0.166724   3.0   DE111    1.0   \n",
       "\n",
       "        car_vkm      lcv_vkm     mft_vkm     hft_vkm  \\\n",
       "0  21160.480345  1660.860080  311.411076   51.904625   \n",
       "1  25753.077206  2018.458701  378.460776   63.080173   \n",
       "2    661.592122    51.853857    9.722592    8.278496   \n",
       "3  11332.093143   889.442055  166.770284  126.827489   \n",
       "4   6381.976388   500.202584   93.787927   79.857614   \n",
       "\n",
       "                                            geometry  \n",
       "0  LINESTRING (4257313.607 2850469.181, 4256760.3...  \n",
       "1  LINESTRING (4256649.412 2850493.491, 4257321.4...  \n",
       "2  LINESTRING (4256467.519 2850521.116, 4256484.7...  \n",
       "3  LINESTRING (4256760.323 2850487.506, 4256467.7...  \n",
       "4  LINESTRING (4256484.723 2850519.463, 4256649.4...  "
      ]
     },
     "execution_count": 26,
     "metadata": {},
     "output_type": "execute_result"
    }
   ],
   "source": [
    "line.head()"
   ]
  },
  {
   "cell_type": "markdown",
   "metadata": {},
   "source": [
    "### Create Grid with secondary vkm"
   ]
  },
  {
   "cell_type": "code",
   "execution_count": 27,
   "metadata": {},
   "outputs": [],
   "source": [
    "sec = gpd.read_file(path_ + 'bawue/bw-cells.shp')\n",
    "#grid_sec = grid_sec.to_crs({'init': 'epsg:3035'})"
   ]
  },
  {
   "cell_type": "code",
   "execution_count": 28,
   "metadata": {},
   "outputs": [
    {
     "data": {
      "text/html": [
       "<div>\n",
       "<style scoped>\n",
       "    .dataframe tbody tr th:only-of-type {\n",
       "        vertical-align: middle;\n",
       "    }\n",
       "\n",
       "    .dataframe tbody tr th {\n",
       "        vertical-align: top;\n",
       "    }\n",
       "\n",
       "    .dataframe thead th {\n",
       "        text-align: right;\n",
       "    }\n",
       "</style>\n",
       "<table border=\"1\" class=\"dataframe\">\n",
       "  <thead>\n",
       "    <tr style=\"text-align: right;\">\n",
       "      <th></th>\n",
       "      <th>nuts_id</th>\n",
       "      <th>secondary</th>\n",
       "      <th>fid</th>\n",
       "      <th>AGS</th>\n",
       "      <th>RS</th>\n",
       "      <th>SDV_RS</th>\n",
       "      <th>GEN</th>\n",
       "      <th>BEZ</th>\n",
       "      <th>IBZ</th>\n",
       "      <th>BEM</th>\n",
       "      <th>...</th>\n",
       "      <th>SN_V1</th>\n",
       "      <th>SN_V2</th>\n",
       "      <th>SN_G</th>\n",
       "      <th>FK_S3</th>\n",
       "      <th>NUTS</th>\n",
       "      <th>EWZ</th>\n",
       "      <th>KFL</th>\n",
       "      <th>SHAPE_Leng</th>\n",
       "      <th>SHAPE_Area</th>\n",
       "      <th>geometry</th>\n",
       "    </tr>\n",
       "  </thead>\n",
       "  <tbody>\n",
       "    <tr>\n",
       "      <th>0</th>\n",
       "      <td>DE111</td>\n",
       "      <td>1.110542e+09</td>\n",
       "      <td>8.0</td>\n",
       "      <td>08</td>\n",
       "      <td>08</td>\n",
       "      <td>081110000000</td>\n",
       "      <td>Baden-Württemberg</td>\n",
       "      <td>Land</td>\n",
       "      <td>20</td>\n",
       "      <td>--</td>\n",
       "      <td>...</td>\n",
       "      <td>00</td>\n",
       "      <td>00</td>\n",
       "      <td>000</td>\n",
       "      <td>0</td>\n",
       "      <td>DE1</td>\n",
       "      <td>10951893</td>\n",
       "      <td>35748.17</td>\n",
       "      <td>2.544263e+06</td>\n",
       "      <td>8.151755e+10</td>\n",
       "      <td>POLYGON ((523044.534 5402433.726, 520532.183 5...</td>\n",
       "    </tr>\n",
       "    <tr>\n",
       "      <th>1</th>\n",
       "      <td>DE112</td>\n",
       "      <td>3.367160e+08</td>\n",
       "      <td>8.0</td>\n",
       "      <td>08</td>\n",
       "      <td>08</td>\n",
       "      <td>081110000000</td>\n",
       "      <td>Baden-Württemberg</td>\n",
       "      <td>Land</td>\n",
       "      <td>20</td>\n",
       "      <td>--</td>\n",
       "      <td>...</td>\n",
       "      <td>00</td>\n",
       "      <td>00</td>\n",
       "      <td>000</td>\n",
       "      <td>0</td>\n",
       "      <td>DE1</td>\n",
       "      <td>10951893</td>\n",
       "      <td>35748.17</td>\n",
       "      <td>2.544263e+06</td>\n",
       "      <td>8.151755e+10</td>\n",
       "      <td>POLYGON ((511148.754 5383453.567, 509523.741 5...</td>\n",
       "    </tr>\n",
       "    <tr>\n",
       "      <th>2</th>\n",
       "      <td>DE113</td>\n",
       "      <td>7.388176e+08</td>\n",
       "      <td>8.0</td>\n",
       "      <td>08</td>\n",
       "      <td>08</td>\n",
       "      <td>081110000000</td>\n",
       "      <td>Baden-Württemberg</td>\n",
       "      <td>Land</td>\n",
       "      <td>20</td>\n",
       "      <td>--</td>\n",
       "      <td>...</td>\n",
       "      <td>00</td>\n",
       "      <td>00</td>\n",
       "      <td>000</td>\n",
       "      <td>0</td>\n",
       "      <td>DE1</td>\n",
       "      <td>10951893</td>\n",
       "      <td>35748.17</td>\n",
       "      <td>2.544263e+06</td>\n",
       "      <td>8.151755e+10</td>\n",
       "      <td>POLYGON ((542995.641 5376391.118, 539058.474 5...</td>\n",
       "    </tr>\n",
       "    <tr>\n",
       "      <th>3</th>\n",
       "      <td>DE114</td>\n",
       "      <td>2.642074e+08</td>\n",
       "      <td>8.0</td>\n",
       "      <td>08</td>\n",
       "      <td>08</td>\n",
       "      <td>081110000000</td>\n",
       "      <td>Baden-Württemberg</td>\n",
       "      <td>Land</td>\n",
       "      <td>20</td>\n",
       "      <td>--</td>\n",
       "      <td>...</td>\n",
       "      <td>00</td>\n",
       "      <td>00</td>\n",
       "      <td>000</td>\n",
       "      <td>0</td>\n",
       "      <td>DE1</td>\n",
       "      <td>10951893</td>\n",
       "      <td>35748.17</td>\n",
       "      <td>2.544263e+06</td>\n",
       "      <td>8.151755e+10</td>\n",
       "      <td>POLYGON ((543196.252 5376124.750, 542995.641 5...</td>\n",
       "    </tr>\n",
       "    <tr>\n",
       "      <th>4</th>\n",
       "      <td>DE115</td>\n",
       "      <td>1.027680e+09</td>\n",
       "      <td>8.0</td>\n",
       "      <td>08</td>\n",
       "      <td>08</td>\n",
       "      <td>081110000000</td>\n",
       "      <td>Baden-Württemberg</td>\n",
       "      <td>Land</td>\n",
       "      <td>20</td>\n",
       "      <td>--</td>\n",
       "      <td>...</td>\n",
       "      <td>00</td>\n",
       "      <td>00</td>\n",
       "      <td>000</td>\n",
       "      <td>0</td>\n",
       "      <td>DE1</td>\n",
       "      <td>10951893</td>\n",
       "      <td>35748.17</td>\n",
       "      <td>2.544263e+06</td>\n",
       "      <td>8.151755e+10</td>\n",
       "      <td>MULTIPOLYGON (((504766.459 5400287.377, 502554...</td>\n",
       "    </tr>\n",
       "  </tbody>\n",
       "</table>\n",
       "<p>5 rows × 24 columns</p>\n",
       "</div>"
      ],
      "text/plain": [
       "  nuts_id     secondary  fid AGS  RS        SDV_RS                GEN   BEZ  \\\n",
       "0   DE111  1.110542e+09  8.0  08  08  081110000000  Baden-Württemberg  Land   \n",
       "1   DE112  3.367160e+08  8.0  08  08  081110000000  Baden-Württemberg  Land   \n",
       "2   DE113  7.388176e+08  8.0  08  08  081110000000  Baden-Württemberg  Land   \n",
       "3   DE114  2.642074e+08  8.0  08  08  081110000000  Baden-Württemberg  Land   \n",
       "4   DE115  1.027680e+09  8.0  08  08  081110000000  Baden-Württemberg  Land   \n",
       "\n",
       "   IBZ BEM  ... SN_V1 SN_V2 SN_G FK_S3 NUTS       EWZ       KFL    SHAPE_Leng  \\\n",
       "0   20  --  ...    00    00  000     0  DE1  10951893  35748.17  2.544263e+06   \n",
       "1   20  --  ...    00    00  000     0  DE1  10951893  35748.17  2.544263e+06   \n",
       "2   20  --  ...    00    00  000     0  DE1  10951893  35748.17  2.544263e+06   \n",
       "3   20  --  ...    00    00  000     0  DE1  10951893  35748.17  2.544263e+06   \n",
       "4   20  --  ...    00    00  000     0  DE1  10951893  35748.17  2.544263e+06   \n",
       "\n",
       "     SHAPE_Area                                           geometry  \n",
       "0  8.151755e+10  POLYGON ((523044.534 5402433.726, 520532.183 5...  \n",
       "1  8.151755e+10  POLYGON ((511148.754 5383453.567, 509523.741 5...  \n",
       "2  8.151755e+10  POLYGON ((542995.641 5376391.118, 539058.474 5...  \n",
       "3  8.151755e+10  POLYGON ((543196.252 5376124.750, 542995.641 5...  \n",
       "4  8.151755e+10  MULTIPOLYGON (((504766.459 5400287.377, 502554...  \n",
       "\n",
       "[5 rows x 24 columns]"
      ]
     },
     "execution_count": 28,
     "metadata": {},
     "output_type": "execute_result"
    }
   ],
   "source": [
    "sec.head()"
   ]
  },
  {
   "cell_type": "code",
   "execution_count": 29,
   "metadata": {},
   "outputs": [
    {
     "name": "stderr",
     "output_type": "stream",
     "text": [
      "C:\\Users\\thom_nn\\.conda\\envs\\geo_basics\\lib\\site-packages\\pyproj\\crs.py:77: FutureWarning: '+init=<authority>:<code>' syntax is deprecated. '<authority>:<code>' is the preferred initialization method.\n",
      "  return _prepare_from_string(\" \".join(pjargs))\n"
     ]
    }
   ],
   "source": [
    "sec = sec.to_crs({'init':'epsg:3035'})"
   ]
  },
  {
   "cell_type": "code",
   "execution_count": 30,
   "metadata": {},
   "outputs": [
    {
     "data": {
      "text/html": [
       "<div>\n",
       "<style scoped>\n",
       "    .dataframe tbody tr th:only-of-type {\n",
       "        vertical-align: middle;\n",
       "    }\n",
       "\n",
       "    .dataframe tbody tr th {\n",
       "        vertical-align: top;\n",
       "    }\n",
       "\n",
       "    .dataframe thead th {\n",
       "        text-align: right;\n",
       "    }\n",
       "</style>\n",
       "<table border=\"1\" class=\"dataframe\">\n",
       "  <thead>\n",
       "    <tr style=\"text-align: right;\">\n",
       "      <th></th>\n",
       "      <th>rowid</th>\n",
       "      <th>featuretyp</th>\n",
       "      <th>dataset_na</th>\n",
       "      <th>OBJECTID</th>\n",
       "      <th>id</th>\n",
       "      <th>x_sw</th>\n",
       "      <th>y_sw</th>\n",
       "      <th>x_mp</th>\n",
       "      <th>y_mp</th>\n",
       "      <th>f_staat</th>\n",
       "      <th>...</th>\n",
       "      <th>FK_S3</th>\n",
       "      <th>NUTS</th>\n",
       "      <th>EWZ</th>\n",
       "      <th>KFL</th>\n",
       "      <th>SHAPE_Le_1</th>\n",
       "      <th>SHAPE_Ar_1</th>\n",
       "      <th>_sum</th>\n",
       "      <th>geometry</th>\n",
       "      <th>index_right</th>\n",
       "      <th>nuts_id</th>\n",
       "    </tr>\n",
       "  </thead>\n",
       "  <tbody>\n",
       "    <tr>\n",
       "      <th>0</th>\n",
       "      <td>1202.0</td>\n",
       "      <td>DE_Grid_ETRS89-UTM32_1km</td>\n",
       "      <td>de_grid_utm32_1km</td>\n",
       "      <td>1202</td>\n",
       "      <td>1kmN5265E399</td>\n",
       "      <td>399000.0</td>\n",
       "      <td>5265000.0</td>\n",
       "      <td>399500.0</td>\n",
       "      <td>5265500.0</td>\n",
       "      <td>193454.0</td>\n",
       "      <td>...</td>\n",
       "      <td>0</td>\n",
       "      <td>DE1</td>\n",
       "      <td>10951893</td>\n",
       "      <td>35748.17</td>\n",
       "      <td>2.544263e+06</td>\n",
       "      <td>8.151755e+10</td>\n",
       "      <td>180.808108</td>\n",
       "      <td>POLYGON ((4145049.219 2716779.268, 4145587.602...</td>\n",
       "      <td>33.0</td>\n",
       "      <td>DE139</td>\n",
       "    </tr>\n",
       "    <tr>\n",
       "      <th>1</th>\n",
       "      <td>1203.0</td>\n",
       "      <td>DE_Grid_ETRS89-UTM32_1km</td>\n",
       "      <td>de_grid_utm32_1km</td>\n",
       "      <td>1203</td>\n",
       "      <td>1kmN5265E400</td>\n",
       "      <td>400000.0</td>\n",
       "      <td>5265000.0</td>\n",
       "      <td>400500.0</td>\n",
       "      <td>5265500.0</td>\n",
       "      <td>724457.0</td>\n",
       "      <td>...</td>\n",
       "      <td>0</td>\n",
       "      <td>DE1</td>\n",
       "      <td>10951893</td>\n",
       "      <td>35748.17</td>\n",
       "      <td>2.544263e+06</td>\n",
       "      <td>8.151755e+10</td>\n",
       "      <td>804.211853</td>\n",
       "      <td>POLYGON ((4145580.204 2716219.458, 4145587.602...</td>\n",
       "      <td>33.0</td>\n",
       "      <td>DE139</td>\n",
       "    </tr>\n",
       "    <tr>\n",
       "      <th>2</th>\n",
       "      <td>1204.0</td>\n",
       "      <td>DE_Grid_ETRS89-UTM32_1km</td>\n",
       "      <td>de_grid_utm32_1km</td>\n",
       "      <td>1204</td>\n",
       "      <td>1kmN5265E401</td>\n",
       "      <td>401000.0</td>\n",
       "      <td>5265000.0</td>\n",
       "      <td>401500.0</td>\n",
       "      <td>5265500.0</td>\n",
       "      <td>822318.0</td>\n",
       "      <td>...</td>\n",
       "      <td>0</td>\n",
       "      <td>DE1</td>\n",
       "      <td>10951893</td>\n",
       "      <td>35748.17</td>\n",
       "      <td>2.544263e+06</td>\n",
       "      <td>8.151755e+10</td>\n",
       "      <td>1133.568177</td>\n",
       "      <td>POLYGON ((4146577.415 2715940.046, 4146588.363...</td>\n",
       "      <td>33.0</td>\n",
       "      <td>DE139</td>\n",
       "    </tr>\n",
       "    <tr>\n",
       "      <th>3</th>\n",
       "      <td>1205.0</td>\n",
       "      <td>DE_Grid_ETRS89-UTM32_1km</td>\n",
       "      <td>de_grid_utm32_1km</td>\n",
       "      <td>1205</td>\n",
       "      <td>1kmN5265E402</td>\n",
       "      <td>402000.0</td>\n",
       "      <td>5265000.0</td>\n",
       "      <td>402500.0</td>\n",
       "      <td>5265500.0</td>\n",
       "      <td>447244.0</td>\n",
       "      <td>...</td>\n",
       "      <td>0</td>\n",
       "      <td>DE1</td>\n",
       "      <td>10951893</td>\n",
       "      <td>35748.17</td>\n",
       "      <td>2.544263e+06</td>\n",
       "      <td>8.151755e+10</td>\n",
       "      <td>416.022656</td>\n",
       "      <td>POLYGON ((4147578.976 2715984.983, 4147589.127...</td>\n",
       "      <td>33.0</td>\n",
       "      <td>DE139</td>\n",
       "    </tr>\n",
       "    <tr>\n",
       "      <th>4</th>\n",
       "      <td>1206.0</td>\n",
       "      <td>DE_Grid_ETRS89-UTM32_1km</td>\n",
       "      <td>de_grid_utm32_1km</td>\n",
       "      <td>1206</td>\n",
       "      <td>1kmN5265E403</td>\n",
       "      <td>403000.0</td>\n",
       "      <td>5265000.0</td>\n",
       "      <td>403500.0</td>\n",
       "      <td>5265500.0</td>\n",
       "      <td>24422.0</td>\n",
       "      <td>...</td>\n",
       "      <td>0</td>\n",
       "      <td>DE1</td>\n",
       "      <td>10951893</td>\n",
       "      <td>35748.17</td>\n",
       "      <td>2.544263e+06</td>\n",
       "      <td>8.151755e+10</td>\n",
       "      <td>24.337452</td>\n",
       "      <td>POLYGON ((4148587.305 2716535.038, 4148589.895...</td>\n",
       "      <td>33.0</td>\n",
       "      <td>DE139</td>\n",
       "    </tr>\n",
       "  </tbody>\n",
       "</table>\n",
       "<p>5 rows × 42 columns</p>\n",
       "</div>"
      ],
      "text/plain": [
       "    rowid                featuretyp         dataset_na  OBJECTID  \\\n",
       "0  1202.0  DE_Grid_ETRS89-UTM32_1km  de_grid_utm32_1km      1202   \n",
       "1  1203.0  DE_Grid_ETRS89-UTM32_1km  de_grid_utm32_1km      1203   \n",
       "2  1204.0  DE_Grid_ETRS89-UTM32_1km  de_grid_utm32_1km      1204   \n",
       "3  1205.0  DE_Grid_ETRS89-UTM32_1km  de_grid_utm32_1km      1205   \n",
       "4  1206.0  DE_Grid_ETRS89-UTM32_1km  de_grid_utm32_1km      1206   \n",
       "\n",
       "             id      x_sw       y_sw      x_mp       y_mp   f_staat  ...  \\\n",
       "0  1kmN5265E399  399000.0  5265000.0  399500.0  5265500.0  193454.0  ...   \n",
       "1  1kmN5265E400  400000.0  5265000.0  400500.0  5265500.0  724457.0  ...   \n",
       "2  1kmN5265E401  401000.0  5265000.0  401500.0  5265500.0  822318.0  ...   \n",
       "3  1kmN5265E402  402000.0  5265000.0  402500.0  5265500.0  447244.0  ...   \n",
       "4  1kmN5265E403  403000.0  5265000.0  403500.0  5265500.0   24422.0  ...   \n",
       "\n",
       "   FK_S3  NUTS       EWZ       KFL    SHAPE_Le_1    SHAPE_Ar_1         _sum  \\\n",
       "0      0   DE1  10951893  35748.17  2.544263e+06  8.151755e+10   180.808108   \n",
       "1      0   DE1  10951893  35748.17  2.544263e+06  8.151755e+10   804.211853   \n",
       "2      0   DE1  10951893  35748.17  2.544263e+06  8.151755e+10  1133.568177   \n",
       "3      0   DE1  10951893  35748.17  2.544263e+06  8.151755e+10   416.022656   \n",
       "4      0   DE1  10951893  35748.17  2.544263e+06  8.151755e+10    24.337452   \n",
       "\n",
       "                                            geometry index_right nuts_id  \n",
       "0  POLYGON ((4145049.219 2716779.268, 4145587.602...        33.0   DE139  \n",
       "1  POLYGON ((4145580.204 2716219.458, 4145587.602...        33.0   DE139  \n",
       "2  POLYGON ((4146577.415 2715940.046, 4146588.363...        33.0   DE139  \n",
       "3  POLYGON ((4147578.976 2715984.983, 4147589.127...        33.0   DE139  \n",
       "4  POLYGON ((4148587.305 2716535.038, 4148589.895...        33.0   DE139  \n",
       "\n",
       "[5 rows x 42 columns]"
      ]
     },
     "execution_count": 30,
     "metadata": {},
     "output_type": "execute_result"
    }
   ],
   "source": [
    "grid_sec = gpd.sjoin(grid, sec[['nuts_id', 'geometry']], how = 'left', op='intersects')\n",
    "grid_sec.head()"
   ]
  },
  {
   "cell_type": "code",
   "execution_count": 31,
   "metadata": {},
   "outputs": [
    {
     "data": {
      "text/plain": [
       "40209"
      ]
     },
     "execution_count": 31,
     "metadata": {},
     "output_type": "execute_result"
    }
   ],
   "source": [
    "len(grid_sec)"
   ]
  },
  {
   "cell_type": "code",
   "execution_count": 32,
   "metadata": {},
   "outputs": [
    {
     "data": {
      "text/plain": [
       "36647"
      ]
     },
     "execution_count": 32,
     "metadata": {},
     "output_type": "execute_result"
    }
   ],
   "source": [
    "len(grid)"
   ]
  },
  {
   "cell_type": "markdown",
   "metadata": {},
   "source": [
    "### Remove Duplicates"
   ]
  },
  {
   "cell_type": "code",
   "execution_count": 33,
   "metadata": {},
   "outputs": [],
   "source": [
    "grid_sec = grid_sec.reset_index()"
   ]
  },
  {
   "cell_type": "code",
   "execution_count": 34,
   "metadata": {},
   "outputs": [
    {
     "data": {
      "text/plain": [
       "3481"
      ]
     },
     "execution_count": 34,
     "metadata": {},
     "output_type": "execute_result"
    }
   ],
   "source": [
    "duplicates = grid_sec.groupby('rowid')['nuts_id'].count().reset_index()\n",
    "duplicates = duplicates[duplicates['nuts_id'] > 1]['rowid'].unique()\n",
    "len(duplicates)"
   ]
  },
  {
   "cell_type": "code",
   "execution_count": 35,
   "metadata": {},
   "outputs": [
    {
     "data": {
      "text/html": [
       "<div>\n",
       "<style scoped>\n",
       "    .dataframe tbody tr th:only-of-type {\n",
       "        vertical-align: middle;\n",
       "    }\n",
       "\n",
       "    .dataframe tbody tr th {\n",
       "        vertical-align: top;\n",
       "    }\n",
       "\n",
       "    .dataframe thead th {\n",
       "        text-align: right;\n",
       "    }\n",
       "</style>\n",
       "<table border=\"1\" class=\"dataframe\">\n",
       "  <thead>\n",
       "    <tr style=\"text-align: right;\">\n",
       "      <th></th>\n",
       "      <th>index</th>\n",
       "      <th>rowid</th>\n",
       "      <th>featuretyp</th>\n",
       "      <th>dataset_na</th>\n",
       "      <th>OBJECTID</th>\n",
       "      <th>id</th>\n",
       "      <th>x_sw</th>\n",
       "      <th>y_sw</th>\n",
       "      <th>x_mp</th>\n",
       "      <th>y_mp</th>\n",
       "      <th>...</th>\n",
       "      <th>FK_S3</th>\n",
       "      <th>NUTS</th>\n",
       "      <th>EWZ</th>\n",
       "      <th>KFL</th>\n",
       "      <th>SHAPE_Le_1</th>\n",
       "      <th>SHAPE_Ar_1</th>\n",
       "      <th>_sum</th>\n",
       "      <th>geometry</th>\n",
       "      <th>index_right</th>\n",
       "      <th>nuts_id</th>\n",
       "    </tr>\n",
       "  </thead>\n",
       "  <tbody>\n",
       "    <tr>\n",
       "      <th>151</th>\n",
       "      <td>151</td>\n",
       "      <td>2142.0</td>\n",
       "      <td>DE_Grid_ETRS89-UTM32_1km</td>\n",
       "      <td>de_grid_utm32_1km</td>\n",
       "      <td>2142</td>\n",
       "      <td>1kmN5270E416</td>\n",
       "      <td>416000.0</td>\n",
       "      <td>5270000.0</td>\n",
       "      <td>416500.0</td>\n",
       "      <td>5270500.0</td>\n",
       "      <td>...</td>\n",
       "      <td>0</td>\n",
       "      <td>DE1</td>\n",
       "      <td>10951893</td>\n",
       "      <td>35748.17</td>\n",
       "      <td>2.544263e+06</td>\n",
       "      <td>8.151755e+10</td>\n",
       "      <td>3.914374</td>\n",
       "      <td>POLYGON ((4162421.498 2721529.908, 4162667.749...</td>\n",
       "      <td>33.0</td>\n",
       "      <td>DE139</td>\n",
       "    </tr>\n",
       "    <tr>\n",
       "      <th>152</th>\n",
       "      <td>151</td>\n",
       "      <td>2142.0</td>\n",
       "      <td>DE_Grid_ETRS89-UTM32_1km</td>\n",
       "      <td>de_grid_utm32_1km</td>\n",
       "      <td>2142</td>\n",
       "      <td>1kmN5270E416</td>\n",
       "      <td>416000.0</td>\n",
       "      <td>5270000.0</td>\n",
       "      <td>416500.0</td>\n",
       "      <td>5270500.0</td>\n",
       "      <td>...</td>\n",
       "      <td>0</td>\n",
       "      <td>DE1</td>\n",
       "      <td>10951893</td>\n",
       "      <td>35748.17</td>\n",
       "      <td>2.544263e+06</td>\n",
       "      <td>8.151755e+10</td>\n",
       "      <td>3.914374</td>\n",
       "      <td>POLYGON ((4162421.498 2721529.908, 4162667.749...</td>\n",
       "      <td>34.0</td>\n",
       "      <td>DE13A</td>\n",
       "    </tr>\n",
       "    <tr>\n",
       "      <th>216</th>\n",
       "      <td>215</td>\n",
       "      <td>2376.0</td>\n",
       "      <td>DE_Grid_ETRS89-UTM32_1km</td>\n",
       "      <td>de_grid_utm32_1km</td>\n",
       "      <td>2376</td>\n",
       "      <td>1kmN5271E416</td>\n",
       "      <td>416000.0</td>\n",
       "      <td>5271000.0</td>\n",
       "      <td>416500.0</td>\n",
       "      <td>5271500.0</td>\n",
       "      <td>...</td>\n",
       "      <td>0</td>\n",
       "      <td>DE1</td>\n",
       "      <td>10951893</td>\n",
       "      <td>35748.17</td>\n",
       "      <td>2.544263e+06</td>\n",
       "      <td>8.151755e+10</td>\n",
       "      <td>140.732854</td>\n",
       "      <td>POLYGON ((4161669.785 2721752.979, 4161680.303...</td>\n",
       "      <td>33.0</td>\n",
       "      <td>DE139</td>\n",
       "    </tr>\n",
       "    <tr>\n",
       "      <th>217</th>\n",
       "      <td>215</td>\n",
       "      <td>2376.0</td>\n",
       "      <td>DE_Grid_ETRS89-UTM32_1km</td>\n",
       "      <td>de_grid_utm32_1km</td>\n",
       "      <td>2376</td>\n",
       "      <td>1kmN5271E416</td>\n",
       "      <td>416000.0</td>\n",
       "      <td>5271000.0</td>\n",
       "      <td>416500.0</td>\n",
       "      <td>5271500.0</td>\n",
       "      <td>...</td>\n",
       "      <td>0</td>\n",
       "      <td>DE1</td>\n",
       "      <td>10951893</td>\n",
       "      <td>35748.17</td>\n",
       "      <td>2.544263e+06</td>\n",
       "      <td>8.151755e+10</td>\n",
       "      <td>140.732854</td>\n",
       "      <td>POLYGON ((4161669.785 2721752.979, 4161680.303...</td>\n",
       "      <td>34.0</td>\n",
       "      <td>DE13A</td>\n",
       "    </tr>\n",
       "    <tr>\n",
       "      <th>218</th>\n",
       "      <td>216</td>\n",
       "      <td>2377.0</td>\n",
       "      <td>DE_Grid_ETRS89-UTM32_1km</td>\n",
       "      <td>de_grid_utm32_1km</td>\n",
       "      <td>2377</td>\n",
       "      <td>1kmN5271E417</td>\n",
       "      <td>417000.0</td>\n",
       "      <td>5271000.0</td>\n",
       "      <td>417500.0</td>\n",
       "      <td>5271500.0</td>\n",
       "      <td>...</td>\n",
       "      <td>0</td>\n",
       "      <td>DE1</td>\n",
       "      <td>10951893</td>\n",
       "      <td>35748.17</td>\n",
       "      <td>2.544263e+06</td>\n",
       "      <td>8.151755e+10</td>\n",
       "      <td>430.247308</td>\n",
       "      <td>POLYGON ((4162667.749 2721526.406, 4162681.100...</td>\n",
       "      <td>33.0</td>\n",
       "      <td>DE139</td>\n",
       "    </tr>\n",
       "  </tbody>\n",
       "</table>\n",
       "<p>5 rows × 43 columns</p>\n",
       "</div>"
      ],
      "text/plain": [
       "     index   rowid                featuretyp         dataset_na  OBJECTID  \\\n",
       "151    151  2142.0  DE_Grid_ETRS89-UTM32_1km  de_grid_utm32_1km      2142   \n",
       "152    151  2142.0  DE_Grid_ETRS89-UTM32_1km  de_grid_utm32_1km      2142   \n",
       "216    215  2376.0  DE_Grid_ETRS89-UTM32_1km  de_grid_utm32_1km      2376   \n",
       "217    215  2376.0  DE_Grid_ETRS89-UTM32_1km  de_grid_utm32_1km      2376   \n",
       "218    216  2377.0  DE_Grid_ETRS89-UTM32_1km  de_grid_utm32_1km      2377   \n",
       "\n",
       "               id      x_sw       y_sw      x_mp       y_mp  ...  FK_S3  NUTS  \\\n",
       "151  1kmN5270E416  416000.0  5270000.0  416500.0  5270500.0  ...      0   DE1   \n",
       "152  1kmN5270E416  416000.0  5270000.0  416500.0  5270500.0  ...      0   DE1   \n",
       "216  1kmN5271E416  416000.0  5271000.0  416500.0  5271500.0  ...      0   DE1   \n",
       "217  1kmN5271E416  416000.0  5271000.0  416500.0  5271500.0  ...      0   DE1   \n",
       "218  1kmN5271E417  417000.0  5271000.0  417500.0  5271500.0  ...      0   DE1   \n",
       "\n",
       "          EWZ       KFL    SHAPE_Le_1    SHAPE_Ar_1        _sum  \\\n",
       "151  10951893  35748.17  2.544263e+06  8.151755e+10    3.914374   \n",
       "152  10951893  35748.17  2.544263e+06  8.151755e+10    3.914374   \n",
       "216  10951893  35748.17  2.544263e+06  8.151755e+10  140.732854   \n",
       "217  10951893  35748.17  2.544263e+06  8.151755e+10  140.732854   \n",
       "218  10951893  35748.17  2.544263e+06  8.151755e+10  430.247308   \n",
       "\n",
       "                                              geometry  index_right nuts_id  \n",
       "151  POLYGON ((4162421.498 2721529.908, 4162667.749...         33.0   DE139  \n",
       "152  POLYGON ((4162421.498 2721529.908, 4162667.749...         34.0   DE13A  \n",
       "216  POLYGON ((4161669.785 2721752.979, 4161680.303...         33.0   DE139  \n",
       "217  POLYGON ((4161669.785 2721752.979, 4161680.303...         34.0   DE13A  \n",
       "218  POLYGON ((4162667.749 2721526.406, 4162681.100...         33.0   DE139  \n",
       "\n",
       "[5 rows x 43 columns]"
      ]
     },
     "execution_count": 35,
     "metadata": {},
     "output_type": "execute_result"
    }
   ],
   "source": [
    "grid_sec_dup = grid_sec[grid_sec['rowid'].isin(duplicates)]\n",
    "grid_sec_dup.head()"
   ]
  },
  {
   "cell_type": "code",
   "execution_count": 36,
   "metadata": {},
   "outputs": [
    {
     "data": {
      "text/plain": [
       "7043"
      ]
     },
     "execution_count": 36,
     "metadata": {},
     "output_type": "execute_result"
    }
   ],
   "source": [
    "len(grid_sec_dup)"
   ]
  },
  {
   "cell_type": "code",
   "execution_count": 37,
   "metadata": {},
   "outputs": [
    {
     "data": {
      "text/html": [
       "<div>\n",
       "<style scoped>\n",
       "    .dataframe tbody tr th:only-of-type {\n",
       "        vertical-align: middle;\n",
       "    }\n",
       "\n",
       "    .dataframe tbody tr th {\n",
       "        vertical-align: top;\n",
       "    }\n",
       "\n",
       "    .dataframe thead th {\n",
       "        text-align: right;\n",
       "    }\n",
       "</style>\n",
       "<table border=\"1\" class=\"dataframe\">\n",
       "  <thead>\n",
       "    <tr style=\"text-align: right;\">\n",
       "      <th></th>\n",
       "      <th>rowid</th>\n",
       "      <th>nuts_id</th>\n",
       "    </tr>\n",
       "  </thead>\n",
       "  <tbody>\n",
       "    <tr>\n",
       "      <th>4132</th>\n",
       "      <td>11351.0</td>\n",
       "      <td>3</td>\n",
       "    </tr>\n",
       "    <tr>\n",
       "      <th>4609</th>\n",
       "      <td>12461.0</td>\n",
       "      <td>3</td>\n",
       "    </tr>\n",
       "    <tr>\n",
       "      <th>4656</th>\n",
       "      <td>12508.0</td>\n",
       "      <td>3</td>\n",
       "    </tr>\n",
       "    <tr>\n",
       "      <th>4692</th>\n",
       "      <td>12544.0</td>\n",
       "      <td>3</td>\n",
       "    </tr>\n",
       "    <tr>\n",
       "      <th>4832</th>\n",
       "      <td>12896.0</td>\n",
       "      <td>3</td>\n",
       "    </tr>\n",
       "    <tr>\n",
       "      <th>...</th>\n",
       "      <td>...</td>\n",
       "      <td>...</td>\n",
       "    </tr>\n",
       "    <tr>\n",
       "      <th>33330</th>\n",
       "      <td>83567.0</td>\n",
       "      <td>3</td>\n",
       "    </tr>\n",
       "    <tr>\n",
       "      <th>33331</th>\n",
       "      <td>83568.0</td>\n",
       "      <td>3</td>\n",
       "    </tr>\n",
       "    <tr>\n",
       "      <th>33847</th>\n",
       "      <td>85816.0</td>\n",
       "      <td>3</td>\n",
       "    </tr>\n",
       "    <tr>\n",
       "      <th>33965</th>\n",
       "      <td>86276.0</td>\n",
       "      <td>3</td>\n",
       "    </tr>\n",
       "    <tr>\n",
       "      <th>34153</th>\n",
       "      <td>86804.0</td>\n",
       "      <td>3</td>\n",
       "    </tr>\n",
       "  </tbody>\n",
       "</table>\n",
       "<p>81 rows × 2 columns</p>\n",
       "</div>"
      ],
      "text/plain": [
       "         rowid  nuts_id\n",
       "4132   11351.0        3\n",
       "4609   12461.0        3\n",
       "4656   12508.0        3\n",
       "4692   12544.0        3\n",
       "4832   12896.0        3\n",
       "...        ...      ...\n",
       "33330  83567.0        3\n",
       "33331  83568.0        3\n",
       "33847  85816.0        3\n",
       "33965  86276.0        3\n",
       "34153  86804.0        3\n",
       "\n",
       "[81 rows x 2 columns]"
      ]
     },
     "execution_count": 37,
     "metadata": {},
     "output_type": "execute_result"
    }
   ],
   "source": [
    "x = grid_sec.groupby('rowid')['nuts_id'].count().reset_index()\n",
    "x[x['nuts_id'] > 2]"
   ]
  },
  {
   "cell_type": "code",
   "execution_count": 39,
   "metadata": {},
   "outputs": [
    {
     "data": {
      "application/vnd.jupyter.widget-view+json": {
       "model_id": "3bc9e68fcc7e419fa783ab39692eba5f",
       "version_major": 2,
       "version_minor": 0
      },
      "text/plain": [
       "Canvas(toolbar=Toolbar(toolitems=[('Home', 'Reset original view', 'home', 'home'), ('Back', 'Back to previous …"
      ]
     },
     "metadata": {},
     "output_type": "display_data"
    },
    {
     "data": {
      "text/plain": [
       "<matplotlib.axes._subplots.AxesSubplot at 0x10892953d88>"
      ]
     },
     "execution_count": 39,
     "metadata": {},
     "output_type": "execute_result"
    }
   ],
   "source": [
    "grid_sec_dup.plot(column='nuts_id', figsize=(10,10), cmap='Spectral_r', legend=True)"
   ]
  },
  {
   "cell_type": "code",
   "execution_count": 41,
   "metadata": {},
   "outputs": [],
   "source": [
    "# remove duplicates from dup gdf\n",
    "d = list()\n",
    "for r in duplicates:\n",
    "    dup = grid_sec_dup[grid_sec_dup['rowid'] == r]\n",
    "    drop = dup[dup['index_right'] < dup['index_right'].max()].index.tolist()\n",
    "    d.extend(drop)\n",
    "len(d)\n",
    "grid_sec_dup = grid_sec_dup.drop(d)"
   ]
  },
  {
   "cell_type": "code",
   "execution_count": 42,
   "metadata": {},
   "outputs": [
    {
     "data": {
      "text/plain": [
       "3481"
      ]
     },
     "execution_count": 42,
     "metadata": {},
     "output_type": "execute_result"
    }
   ],
   "source": [
    "len(grid_sec_dup)"
   ]
  },
  {
   "cell_type": "code",
   "execution_count": 44,
   "metadata": {},
   "outputs": [],
   "source": [
    "trouble = gpd.overlay(grid_sec_dup, sec[['AGS','geometry']], how='intersection')"
   ]
  },
  {
   "cell_type": "code",
   "execution_count": 45,
   "metadata": {},
   "outputs": [
    {
     "data": {
      "text/html": [
       "<div>\n",
       "<style scoped>\n",
       "    .dataframe tbody tr th:only-of-type {\n",
       "        vertical-align: middle;\n",
       "    }\n",
       "\n",
       "    .dataframe tbody tr th {\n",
       "        vertical-align: top;\n",
       "    }\n",
       "\n",
       "    .dataframe thead th {\n",
       "        text-align: right;\n",
       "    }\n",
       "</style>\n",
       "<table border=\"1\" class=\"dataframe\">\n",
       "  <thead>\n",
       "    <tr style=\"text-align: right;\">\n",
       "      <th></th>\n",
       "      <th>index</th>\n",
       "      <th>rowid</th>\n",
       "      <th>featuretyp</th>\n",
       "      <th>dataset_na</th>\n",
       "      <th>OBJECTID</th>\n",
       "      <th>id</th>\n",
       "      <th>x_sw</th>\n",
       "      <th>y_sw</th>\n",
       "      <th>x_mp</th>\n",
       "      <th>y_mp</th>\n",
       "      <th>...</th>\n",
       "      <th>NUTS</th>\n",
       "      <th>EWZ</th>\n",
       "      <th>KFL</th>\n",
       "      <th>SHAPE_Le_1</th>\n",
       "      <th>SHAPE_Ar_1</th>\n",
       "      <th>_sum</th>\n",
       "      <th>index_right</th>\n",
       "      <th>nuts_id</th>\n",
       "      <th>AGS_2</th>\n",
       "      <th>geometry</th>\n",
       "    </tr>\n",
       "  </thead>\n",
       "  <tbody>\n",
       "    <tr>\n",
       "      <th>0</th>\n",
       "      <td>151</td>\n",
       "      <td>2142.0</td>\n",
       "      <td>DE_Grid_ETRS89-UTM32_1km</td>\n",
       "      <td>de_grid_utm32_1km</td>\n",
       "      <td>2142</td>\n",
       "      <td>1kmN5270E416</td>\n",
       "      <td>416000.0</td>\n",
       "      <td>5270000.0</td>\n",
       "      <td>416500.0</td>\n",
       "      <td>5270500.0</td>\n",
       "      <td>...</td>\n",
       "      <td>DE1</td>\n",
       "      <td>10951893</td>\n",
       "      <td>35748.17</td>\n",
       "      <td>2.544263e+06</td>\n",
       "      <td>8.151755e+10</td>\n",
       "      <td>3.914374</td>\n",
       "      <td>34.0</td>\n",
       "      <td>DE13A</td>\n",
       "      <td>08</td>\n",
       "      <td>POLYGON ((4162421.498 2721529.908, 4162543.776...</td>\n",
       "    </tr>\n",
       "    <tr>\n",
       "      <th>1</th>\n",
       "      <td>215</td>\n",
       "      <td>2376.0</td>\n",
       "      <td>DE_Grid_ETRS89-UTM32_1km</td>\n",
       "      <td>de_grid_utm32_1km</td>\n",
       "      <td>2376</td>\n",
       "      <td>1kmN5271E416</td>\n",
       "      <td>416000.0</td>\n",
       "      <td>5271000.0</td>\n",
       "      <td>416500.0</td>\n",
       "      <td>5271500.0</td>\n",
       "      <td>...</td>\n",
       "      <td>DE1</td>\n",
       "      <td>10951893</td>\n",
       "      <td>35748.17</td>\n",
       "      <td>2.544263e+06</td>\n",
       "      <td>8.151755e+10</td>\n",
       "      <td>140.732854</td>\n",
       "      <td>34.0</td>\n",
       "      <td>DE13A</td>\n",
       "      <td>08</td>\n",
       "      <td>POLYGON ((4161669.785 2721752.979, 4161680.303...</td>\n",
       "    </tr>\n",
       "    <tr>\n",
       "      <th>2</th>\n",
       "      <td>216</td>\n",
       "      <td>2377.0</td>\n",
       "      <td>DE_Grid_ETRS89-UTM32_1km</td>\n",
       "      <td>de_grid_utm32_1km</td>\n",
       "      <td>2377</td>\n",
       "      <td>1kmN5271E417</td>\n",
       "      <td>417000.0</td>\n",
       "      <td>5271000.0</td>\n",
       "      <td>417500.0</td>\n",
       "      <td>5271500.0</td>\n",
       "      <td>...</td>\n",
       "      <td>DE1</td>\n",
       "      <td>10951893</td>\n",
       "      <td>35748.17</td>\n",
       "      <td>2.544263e+06</td>\n",
       "      <td>8.151755e+10</td>\n",
       "      <td>430.247308</td>\n",
       "      <td>34.0</td>\n",
       "      <td>DE13A</td>\n",
       "      <td>08</td>\n",
       "      <td>POLYGON ((4162672.519 2721883.578, 4162681.100...</td>\n",
       "    </tr>\n",
       "    <tr>\n",
       "      <th>3</th>\n",
       "      <td>283</td>\n",
       "      <td>2616.0</td>\n",
       "      <td>DE_Grid_ETRS89-UTM32_1km</td>\n",
       "      <td>de_grid_utm32_1km</td>\n",
       "      <td>2616</td>\n",
       "      <td>1kmN5272E416</td>\n",
       "      <td>416000.0</td>\n",
       "      <td>5272000.0</td>\n",
       "      <td>416500.0</td>\n",
       "      <td>5272500.0</td>\n",
       "      <td>...</td>\n",
       "      <td>DE1</td>\n",
       "      <td>10951893</td>\n",
       "      <td>35748.17</td>\n",
       "      <td>2.544263e+06</td>\n",
       "      <td>8.151755e+10</td>\n",
       "      <td>135.349071</td>\n",
       "      <td>34.0</td>\n",
       "      <td>DE13A</td>\n",
       "      <td>08</td>\n",
       "      <td>POLYGON ((4161680.303 2722540.282, 4161693.659...</td>\n",
       "    </tr>\n",
       "    <tr>\n",
       "      <th>4</th>\n",
       "      <td>284</td>\n",
       "      <td>2617.0</td>\n",
       "      <td>DE_Grid_ETRS89-UTM32_1km</td>\n",
       "      <td>de_grid_utm32_1km</td>\n",
       "      <td>2617</td>\n",
       "      <td>1kmN5272E417</td>\n",
       "      <td>417000.0</td>\n",
       "      <td>5272000.0</td>\n",
       "      <td>417500.0</td>\n",
       "      <td>5272500.0</td>\n",
       "      <td>...</td>\n",
       "      <td>DE1</td>\n",
       "      <td>10951893</td>\n",
       "      <td>35748.17</td>\n",
       "      <td>2.544263e+06</td>\n",
       "      <td>8.151755e+10</td>\n",
       "      <td>298.154800</td>\n",
       "      <td>34.0</td>\n",
       "      <td>DE13A</td>\n",
       "      <td>08</td>\n",
       "      <td>POLYGON ((4162681.100 2722526.047, 4162690.422...</td>\n",
       "    </tr>\n",
       "  </tbody>\n",
       "</table>\n",
       "<p>5 rows × 44 columns</p>\n",
       "</div>"
      ],
      "text/plain": [
       "   index   rowid                featuretyp         dataset_na  OBJECTID  \\\n",
       "0    151  2142.0  DE_Grid_ETRS89-UTM32_1km  de_grid_utm32_1km      2142   \n",
       "1    215  2376.0  DE_Grid_ETRS89-UTM32_1km  de_grid_utm32_1km      2376   \n",
       "2    216  2377.0  DE_Grid_ETRS89-UTM32_1km  de_grid_utm32_1km      2377   \n",
       "3    283  2616.0  DE_Grid_ETRS89-UTM32_1km  de_grid_utm32_1km      2616   \n",
       "4    284  2617.0  DE_Grid_ETRS89-UTM32_1km  de_grid_utm32_1km      2617   \n",
       "\n",
       "             id      x_sw       y_sw      x_mp       y_mp  ...  NUTS  \\\n",
       "0  1kmN5270E416  416000.0  5270000.0  416500.0  5270500.0  ...   DE1   \n",
       "1  1kmN5271E416  416000.0  5271000.0  416500.0  5271500.0  ...   DE1   \n",
       "2  1kmN5271E417  417000.0  5271000.0  417500.0  5271500.0  ...   DE1   \n",
       "3  1kmN5272E416  416000.0  5272000.0  416500.0  5272500.0  ...   DE1   \n",
       "4  1kmN5272E417  417000.0  5272000.0  417500.0  5272500.0  ...   DE1   \n",
       "\n",
       "        EWZ       KFL    SHAPE_Le_1    SHAPE_Ar_1        _sum  index_right  \\\n",
       "0  10951893  35748.17  2.544263e+06  8.151755e+10    3.914374         34.0   \n",
       "1  10951893  35748.17  2.544263e+06  8.151755e+10  140.732854         34.0   \n",
       "2  10951893  35748.17  2.544263e+06  8.151755e+10  430.247308         34.0   \n",
       "3  10951893  35748.17  2.544263e+06  8.151755e+10  135.349071         34.0   \n",
       "4  10951893  35748.17  2.544263e+06  8.151755e+10  298.154800         34.0   \n",
       "\n",
       "   nuts_id  AGS_2                                           geometry  \n",
       "0    DE13A     08  POLYGON ((4162421.498 2721529.908, 4162543.776...  \n",
       "1    DE13A     08  POLYGON ((4161669.785 2721752.979, 4161680.303...  \n",
       "2    DE13A     08  POLYGON ((4162672.519 2721883.578, 4162681.100...  \n",
       "3    DE13A     08  POLYGON ((4161680.303 2722540.282, 4161693.659...  \n",
       "4    DE13A     08  POLYGON ((4162681.100 2722526.047, 4162690.422...  \n",
       "\n",
       "[5 rows x 44 columns]"
      ]
     },
     "execution_count": 45,
     "metadata": {},
     "output_type": "execute_result"
    }
   ],
   "source": [
    "trouble.head()"
   ]
  },
  {
   "cell_type": "code",
   "execution_count": 46,
   "metadata": {},
   "outputs": [
    {
     "data": {
      "text/plain": [
       "7043"
      ]
     },
     "execution_count": 46,
     "metadata": {},
     "output_type": "execute_result"
    }
   ],
   "source": [
    "len(trouble)"
   ]
  },
  {
   "cell_type": "code",
   "execution_count": 47,
   "metadata": {},
   "outputs": [
    {
     "data": {
      "text/html": [
       "<div>\n",
       "<style scoped>\n",
       "    .dataframe tbody tr th:only-of-type {\n",
       "        vertical-align: middle;\n",
       "    }\n",
       "\n",
       "    .dataframe tbody tr th {\n",
       "        vertical-align: top;\n",
       "    }\n",
       "\n",
       "    .dataframe thead th {\n",
       "        text-align: right;\n",
       "    }\n",
       "</style>\n",
       "<table border=\"1\" class=\"dataframe\">\n",
       "  <thead>\n",
       "    <tr style=\"text-align: right;\">\n",
       "      <th></th>\n",
       "      <th>rowid</th>\n",
       "      <th>geometry</th>\n",
       "      <th>index_right</th>\n",
       "      <th>nuts_id</th>\n",
       "    </tr>\n",
       "  </thead>\n",
       "  <tbody>\n",
       "    <tr>\n",
       "      <th>0</th>\n",
       "      <td>2142.0</td>\n",
       "      <td>POLYGON ((4162421.498 2721529.908, 4162543.776...</td>\n",
       "      <td>33</td>\n",
       "      <td>DE139</td>\n",
       "    </tr>\n",
       "    <tr>\n",
       "      <th>1</th>\n",
       "      <td>2376.0</td>\n",
       "      <td>POLYGON ((4161669.785 2721752.979, 4161680.303...</td>\n",
       "      <td>33</td>\n",
       "      <td>DE139</td>\n",
       "    </tr>\n",
       "    <tr>\n",
       "      <th>2</th>\n",
       "      <td>2377.0</td>\n",
       "      <td>POLYGON ((4162672.519 2721883.578, 4162681.100...</td>\n",
       "      <td>33</td>\n",
       "      <td>DE139</td>\n",
       "    </tr>\n",
       "    <tr>\n",
       "      <th>3</th>\n",
       "      <td>2616.0</td>\n",
       "      <td>POLYGON ((4161680.303 2722540.282, 4161693.659...</td>\n",
       "      <td>33</td>\n",
       "      <td>DE139</td>\n",
       "    </tr>\n",
       "    <tr>\n",
       "      <th>4</th>\n",
       "      <td>2617.0</td>\n",
       "      <td>POLYGON ((4162681.100 2722526.047, 4162690.422...</td>\n",
       "      <td>33</td>\n",
       "      <td>DE139</td>\n",
       "    </tr>\n",
       "  </tbody>\n",
       "</table>\n",
       "</div>"
      ],
      "text/plain": [
       "    rowid                                           geometry  index_right  \\\n",
       "0  2142.0  POLYGON ((4162421.498 2721529.908, 4162543.776...           33   \n",
       "1  2376.0  POLYGON ((4161669.785 2721752.979, 4161680.303...           33   \n",
       "2  2377.0  POLYGON ((4162672.519 2721883.578, 4162681.100...           33   \n",
       "3  2616.0  POLYGON ((4161680.303 2722540.282, 4161693.659...           33   \n",
       "4  2617.0  POLYGON ((4162681.100 2722526.047, 4162690.422...           33   \n",
       "\n",
       "  nuts_id  \n",
       "0   DE139  \n",
       "1   DE139  \n",
       "2   DE139  \n",
       "3   DE139  \n",
       "4   DE139  "
      ]
     },
     "execution_count": 47,
     "metadata": {},
     "output_type": "execute_result"
    }
   ],
   "source": [
    "sec2 = sec.copy()\n",
    "sec2['geometry']= sec['geometry'].buffer(0.1)\n",
    "trouble = gpd.sjoin(trouble[['rowid','geometry']], sec2[['nuts_id', 'geometry']], how = 'left', op = 'within')\n",
    "trouble.head()"
   ]
  },
  {
   "cell_type": "code",
   "execution_count": 48,
   "metadata": {},
   "outputs": [],
   "source": [
    "trouble['area'] = trouble.area\n",
    "trouble['ix'] = list(range(len(trouble)))"
   ]
  },
  {
   "cell_type": "code",
   "execution_count": 49,
   "metadata": {},
   "outputs": [
    {
     "data": {
      "application/vnd.jupyter.widget-view+json": {
       "model_id": "5bb2f009e19945d3b9acaa3132ea09e8",
       "version_major": 2,
       "version_minor": 0
      },
      "text/plain": [
       "Canvas(toolbar=Toolbar(toolitems=[('Home', 'Reset original view', 'home', 'home'), ('Back', 'Back to previous …"
      ]
     },
     "metadata": {},
     "output_type": "display_data"
    },
    {
     "data": {
      "text/plain": [
       "<matplotlib.axes._subplots.AxesSubplot at 0x108954136c8>"
      ]
     },
     "execution_count": 49,
     "metadata": {},
     "output_type": "execute_result"
    }
   ],
   "source": [
    "trouble.plot(column='nuts_id', figsize=(10,10), cmap='Spectral_r', legend=True)"
   ]
  },
  {
   "cell_type": "markdown",
   "metadata": {},
   "source": [
    "#### Drop duplicate with smaller area"
   ]
  },
  {
   "cell_type": "code",
   "execution_count": 50,
   "metadata": {},
   "outputs": [
    {
     "data": {
      "text/plain": [
       "3562"
      ]
     },
     "execution_count": 50,
     "metadata": {},
     "output_type": "execute_result"
    }
   ],
   "source": [
    "drops = list()\n",
    "for r in trouble['rowid'].unique():\n",
    "    dfr = trouble[trouble['rowid']==r]\n",
    "    drop = dfr[dfr['area'] < dfr['area'].max()].index.tolist()\n",
    "    drops.extend(drop)\n",
    "len(drops)"
   ]
  },
  {
   "cell_type": "code",
   "execution_count": 51,
   "metadata": {},
   "outputs": [],
   "source": [
    "trouble = trouble.drop(drops)"
   ]
  },
  {
   "cell_type": "code",
   "execution_count": 52,
   "metadata": {},
   "outputs": [],
   "source": [
    "grid_sec_dup = pd.merge(grid_sec_dup, trouble[['rowid', 'nuts_id']], on='rowid', how='left')"
   ]
  },
  {
   "cell_type": "code",
   "execution_count": 53,
   "metadata": {},
   "outputs": [
    {
     "data": {
      "text/html": [
       "<div>\n",
       "<style scoped>\n",
       "    .dataframe tbody tr th:only-of-type {\n",
       "        vertical-align: middle;\n",
       "    }\n",
       "\n",
       "    .dataframe tbody tr th {\n",
       "        vertical-align: top;\n",
       "    }\n",
       "\n",
       "    .dataframe thead th {\n",
       "        text-align: right;\n",
       "    }\n",
       "</style>\n",
       "<table border=\"1\" class=\"dataframe\">\n",
       "  <thead>\n",
       "    <tr style=\"text-align: right;\">\n",
       "      <th></th>\n",
       "      <th>index</th>\n",
       "      <th>rowid</th>\n",
       "      <th>featuretyp</th>\n",
       "      <th>dataset_na</th>\n",
       "      <th>OBJECTID</th>\n",
       "      <th>id</th>\n",
       "      <th>x_sw</th>\n",
       "      <th>y_sw</th>\n",
       "      <th>x_mp</th>\n",
       "      <th>y_mp</th>\n",
       "      <th>...</th>\n",
       "      <th>NUTS</th>\n",
       "      <th>EWZ</th>\n",
       "      <th>KFL</th>\n",
       "      <th>SHAPE_Le_1</th>\n",
       "      <th>SHAPE_Ar_1</th>\n",
       "      <th>_sum</th>\n",
       "      <th>geometry</th>\n",
       "      <th>index_right</th>\n",
       "      <th>nuts_id_x</th>\n",
       "      <th>nuts_id_y</th>\n",
       "    </tr>\n",
       "  </thead>\n",
       "  <tbody>\n",
       "    <tr>\n",
       "      <th>0</th>\n",
       "      <td>151</td>\n",
       "      <td>2142.0</td>\n",
       "      <td>DE_Grid_ETRS89-UTM32_1km</td>\n",
       "      <td>de_grid_utm32_1km</td>\n",
       "      <td>2142</td>\n",
       "      <td>1kmN5270E416</td>\n",
       "      <td>416000.0</td>\n",
       "      <td>5270000.0</td>\n",
       "      <td>416500.0</td>\n",
       "      <td>5270500.0</td>\n",
       "      <td>...</td>\n",
       "      <td>DE1</td>\n",
       "      <td>10951893</td>\n",
       "      <td>35748.17</td>\n",
       "      <td>2.544263e+06</td>\n",
       "      <td>8.151755e+10</td>\n",
       "      <td>3.914374</td>\n",
       "      <td>POLYGON ((4162421.498 2721529.908, 4162667.749...</td>\n",
       "      <td>34.0</td>\n",
       "      <td>DE13A</td>\n",
       "      <td>DE13A</td>\n",
       "    </tr>\n",
       "    <tr>\n",
       "      <th>1</th>\n",
       "      <td>215</td>\n",
       "      <td>2376.0</td>\n",
       "      <td>DE_Grid_ETRS89-UTM32_1km</td>\n",
       "      <td>de_grid_utm32_1km</td>\n",
       "      <td>2376</td>\n",
       "      <td>1kmN5271E416</td>\n",
       "      <td>416000.0</td>\n",
       "      <td>5271000.0</td>\n",
       "      <td>416500.0</td>\n",
       "      <td>5271500.0</td>\n",
       "      <td>...</td>\n",
       "      <td>DE1</td>\n",
       "      <td>10951893</td>\n",
       "      <td>35748.17</td>\n",
       "      <td>2.544263e+06</td>\n",
       "      <td>8.151755e+10</td>\n",
       "      <td>140.732854</td>\n",
       "      <td>POLYGON ((4161669.785 2721752.979, 4161680.303...</td>\n",
       "      <td>34.0</td>\n",
       "      <td>DE13A</td>\n",
       "      <td>DE139</td>\n",
       "    </tr>\n",
       "    <tr>\n",
       "      <th>2</th>\n",
       "      <td>216</td>\n",
       "      <td>2377.0</td>\n",
       "      <td>DE_Grid_ETRS89-UTM32_1km</td>\n",
       "      <td>de_grid_utm32_1km</td>\n",
       "      <td>2377</td>\n",
       "      <td>1kmN5271E417</td>\n",
       "      <td>417000.0</td>\n",
       "      <td>5271000.0</td>\n",
       "      <td>417500.0</td>\n",
       "      <td>5271500.0</td>\n",
       "      <td>...</td>\n",
       "      <td>DE1</td>\n",
       "      <td>10951893</td>\n",
       "      <td>35748.17</td>\n",
       "      <td>2.544263e+06</td>\n",
       "      <td>8.151755e+10</td>\n",
       "      <td>430.247308</td>\n",
       "      <td>POLYGON ((4162667.749 2721526.406, 4162681.100...</td>\n",
       "      <td>34.0</td>\n",
       "      <td>DE13A</td>\n",
       "      <td>DE13A</td>\n",
       "    </tr>\n",
       "    <tr>\n",
       "      <th>3</th>\n",
       "      <td>283</td>\n",
       "      <td>2616.0</td>\n",
       "      <td>DE_Grid_ETRS89-UTM32_1km</td>\n",
       "      <td>de_grid_utm32_1km</td>\n",
       "      <td>2616</td>\n",
       "      <td>1kmN5272E416</td>\n",
       "      <td>416000.0</td>\n",
       "      <td>5272000.0</td>\n",
       "      <td>416500.0</td>\n",
       "      <td>5272500.0</td>\n",
       "      <td>...</td>\n",
       "      <td>DE1</td>\n",
       "      <td>10951893</td>\n",
       "      <td>35748.17</td>\n",
       "      <td>2.544263e+06</td>\n",
       "      <td>8.151755e+10</td>\n",
       "      <td>135.349071</td>\n",
       "      <td>POLYGON ((4161680.303 2722540.282, 4161693.659...</td>\n",
       "      <td>34.0</td>\n",
       "      <td>DE13A</td>\n",
       "      <td>DE139</td>\n",
       "    </tr>\n",
       "    <tr>\n",
       "      <th>4</th>\n",
       "      <td>284</td>\n",
       "      <td>2617.0</td>\n",
       "      <td>DE_Grid_ETRS89-UTM32_1km</td>\n",
       "      <td>de_grid_utm32_1km</td>\n",
       "      <td>2617</td>\n",
       "      <td>1kmN5272E417</td>\n",
       "      <td>417000.0</td>\n",
       "      <td>5272000.0</td>\n",
       "      <td>417500.0</td>\n",
       "      <td>5272500.0</td>\n",
       "      <td>...</td>\n",
       "      <td>DE1</td>\n",
       "      <td>10951893</td>\n",
       "      <td>35748.17</td>\n",
       "      <td>2.544263e+06</td>\n",
       "      <td>8.151755e+10</td>\n",
       "      <td>298.154800</td>\n",
       "      <td>POLYGON ((4162681.100 2722526.047, 4162694.453...</td>\n",
       "      <td>34.0</td>\n",
       "      <td>DE13A</td>\n",
       "      <td>DE13A</td>\n",
       "    </tr>\n",
       "  </tbody>\n",
       "</table>\n",
       "<p>5 rows × 44 columns</p>\n",
       "</div>"
      ],
      "text/plain": [
       "   index   rowid                featuretyp         dataset_na  OBJECTID  \\\n",
       "0    151  2142.0  DE_Grid_ETRS89-UTM32_1km  de_grid_utm32_1km      2142   \n",
       "1    215  2376.0  DE_Grid_ETRS89-UTM32_1km  de_grid_utm32_1km      2376   \n",
       "2    216  2377.0  DE_Grid_ETRS89-UTM32_1km  de_grid_utm32_1km      2377   \n",
       "3    283  2616.0  DE_Grid_ETRS89-UTM32_1km  de_grid_utm32_1km      2616   \n",
       "4    284  2617.0  DE_Grid_ETRS89-UTM32_1km  de_grid_utm32_1km      2617   \n",
       "\n",
       "             id      x_sw       y_sw      x_mp       y_mp  ...  NUTS  \\\n",
       "0  1kmN5270E416  416000.0  5270000.0  416500.0  5270500.0  ...   DE1   \n",
       "1  1kmN5271E416  416000.0  5271000.0  416500.0  5271500.0  ...   DE1   \n",
       "2  1kmN5271E417  417000.0  5271000.0  417500.0  5271500.0  ...   DE1   \n",
       "3  1kmN5272E416  416000.0  5272000.0  416500.0  5272500.0  ...   DE1   \n",
       "4  1kmN5272E417  417000.0  5272000.0  417500.0  5272500.0  ...   DE1   \n",
       "\n",
       "        EWZ       KFL    SHAPE_Le_1    SHAPE_Ar_1        _sum  \\\n",
       "0  10951893  35748.17  2.544263e+06  8.151755e+10    3.914374   \n",
       "1  10951893  35748.17  2.544263e+06  8.151755e+10  140.732854   \n",
       "2  10951893  35748.17  2.544263e+06  8.151755e+10  430.247308   \n",
       "3  10951893  35748.17  2.544263e+06  8.151755e+10  135.349071   \n",
       "4  10951893  35748.17  2.544263e+06  8.151755e+10  298.154800   \n",
       "\n",
       "                                            geometry  index_right  nuts_id_x  \\\n",
       "0  POLYGON ((4162421.498 2721529.908, 4162667.749...         34.0      DE13A   \n",
       "1  POLYGON ((4161669.785 2721752.979, 4161680.303...         34.0      DE13A   \n",
       "2  POLYGON ((4162667.749 2721526.406, 4162681.100...         34.0      DE13A   \n",
       "3  POLYGON ((4161680.303 2722540.282, 4161693.659...         34.0      DE13A   \n",
       "4  POLYGON ((4162681.100 2722526.047, 4162694.453...         34.0      DE13A   \n",
       "\n",
       "  nuts_id_y  \n",
       "0     DE13A  \n",
       "1     DE139  \n",
       "2     DE13A  \n",
       "3     DE139  \n",
       "4     DE13A  \n",
       "\n",
       "[5 rows x 44 columns]"
      ]
     },
     "execution_count": 53,
     "metadata": {},
     "output_type": "execute_result"
    }
   ],
   "source": [
    "grid_sec_dup.head()"
   ]
  },
  {
   "cell_type": "code",
   "execution_count": 54,
   "metadata": {},
   "outputs": [
    {
     "data": {
      "application/vnd.jupyter.widget-view+json": {
       "model_id": "0acb4568ca0c4ee59ec505d3c2f3f69e",
       "version_major": 2,
       "version_minor": 0
      },
      "text/plain": [
       "Canvas(toolbar=Toolbar(toolitems=[('Home', 'Reset original view', 'home', 'home'), ('Back', 'Back to previous …"
      ]
     },
     "metadata": {},
     "output_type": "display_data"
    },
    {
     "data": {
      "text/plain": [
       "<matplotlib.axes._subplots.AxesSubplot at 0x10893f560c8>"
      ]
     },
     "execution_count": 54,
     "metadata": {},
     "output_type": "execute_result"
    }
   ],
   "source": [
    "grid_sec_dup.plot(column='nuts_id_y', figsize=(10,10), cmap='Spectral_r', legend=True)"
   ]
  },
  {
   "cell_type": "code",
   "execution_count": 55,
   "metadata": {},
   "outputs": [],
   "source": [
    "plt.close('all')"
   ]
  },
  {
   "cell_type": "code",
   "execution_count": 56,
   "metadata": {},
   "outputs": [
    {
     "data": {
      "text/plain": [
       "3562"
      ]
     },
     "execution_count": 56,
     "metadata": {},
     "output_type": "execute_result"
    }
   ],
   "source": [
    "drops_final = list()\n",
    "for r in grid_sec_dup['rowid'].unique():\n",
    "    nuts = grid_sec_dup[grid_sec_dup['rowid']==r]['nuts_id_y'].values[0]\n",
    "    gr = grid_sec[(grid_sec['rowid'] == r)&(grid_sec['nuts_id'] != nuts)].index.tolist()\n",
    "    drops_final.extend(gr)\n",
    "len(drops_final)\n",
    "# drop the one(s) with the wrong nuts_id"
   ]
  },
  {
   "cell_type": "code",
   "execution_count": 57,
   "metadata": {},
   "outputs": [
    {
     "data": {
      "text/plain": [
       "36647"
      ]
     },
     "execution_count": 57,
     "metadata": {},
     "output_type": "execute_result"
    }
   ],
   "source": [
    "grid_sec = grid_sec.drop(drops_final)\n",
    "len(grid_sec)"
   ]
  },
  {
   "cell_type": "code",
   "execution_count": 58,
   "metadata": {},
   "outputs": [
    {
     "data": {
      "text/plain": [
       "36647"
      ]
     },
     "execution_count": 58,
     "metadata": {},
     "output_type": "execute_result"
    }
   ],
   "source": [
    "len(grid)"
   ]
  },
  {
   "cell_type": "code",
   "execution_count": 59,
   "metadata": {},
   "outputs": [
    {
     "data": {
      "application/vnd.jupyter.widget-view+json": {
       "model_id": "2dc2d464ccfa4b7fac92ecf613722005",
       "version_major": 2,
       "version_minor": 0
      },
      "text/plain": [
       "Canvas(toolbar=Toolbar(toolitems=[('Home', 'Reset original view', 'home', 'home'), ('Back', 'Back to previous …"
      ]
     },
     "metadata": {},
     "output_type": "display_data"
    },
    {
     "data": {
      "text/plain": [
       "<matplotlib.axes._subplots.AxesSubplot at 0x108957050c8>"
      ]
     },
     "execution_count": 59,
     "metadata": {},
     "output_type": "execute_result"
    }
   ],
   "source": [
    "grid_sec.plot(column='nuts_id', figsize=(10,10), cmap='Spectral_r', legend=True)"
   ]
  },
  {
   "cell_type": "code",
   "execution_count": 60,
   "metadata": {},
   "outputs": [],
   "source": [
    "plt.close('all')"
   ]
  },
  {
   "cell_type": "markdown",
   "metadata": {},
   "source": [
    "### Distribute Mileage by Population Density"
   ]
  },
  {
   "cell_type": "code",
   "execution_count": 61,
   "metadata": {},
   "outputs": [],
   "source": [
    "grid_sec = pd.merge(grid_sec, sec[['nuts_id','secondary']], on='nuts_id', how='left')"
   ]
  },
  {
   "cell_type": "code",
   "execution_count": 62,
   "metadata": {},
   "outputs": [],
   "source": [
    "pop_sum = grid_sec.groupby(['nuts_id']).sum().reset_index()[['nuts_id','_sum']]"
   ]
  },
  {
   "cell_type": "code",
   "execution_count": 63,
   "metadata": {},
   "outputs": [
    {
     "data": {
      "text/html": [
       "<div>\n",
       "<style scoped>\n",
       "    .dataframe tbody tr th:only-of-type {\n",
       "        vertical-align: middle;\n",
       "    }\n",
       "\n",
       "    .dataframe tbody tr th {\n",
       "        vertical-align: top;\n",
       "    }\n",
       "\n",
       "    .dataframe thead th {\n",
       "        text-align: right;\n",
       "    }\n",
       "</style>\n",
       "<table border=\"1\" class=\"dataframe\">\n",
       "  <thead>\n",
       "    <tr style=\"text-align: right;\">\n",
       "      <th></th>\n",
       "      <th>index</th>\n",
       "      <th>rowid</th>\n",
       "      <th>featuretyp</th>\n",
       "      <th>dataset_na</th>\n",
       "      <th>OBJECTID</th>\n",
       "      <th>id</th>\n",
       "      <th>x_sw</th>\n",
       "      <th>y_sw</th>\n",
       "      <th>x_mp</th>\n",
       "      <th>y_mp</th>\n",
       "      <th>...</th>\n",
       "      <th>EWZ</th>\n",
       "      <th>KFL</th>\n",
       "      <th>SHAPE_Le_1</th>\n",
       "      <th>SHAPE_Ar_1</th>\n",
       "      <th>_sum_x</th>\n",
       "      <th>geometry</th>\n",
       "      <th>index_right</th>\n",
       "      <th>nuts_id</th>\n",
       "      <th>secondary</th>\n",
       "      <th>_sum_y</th>\n",
       "    </tr>\n",
       "  </thead>\n",
       "  <tbody>\n",
       "    <tr>\n",
       "      <th>0</th>\n",
       "      <td>0</td>\n",
       "      <td>1202.0</td>\n",
       "      <td>DE_Grid_ETRS89-UTM32_1km</td>\n",
       "      <td>de_grid_utm32_1km</td>\n",
       "      <td>1202</td>\n",
       "      <td>1kmN5265E399</td>\n",
       "      <td>399000.0</td>\n",
       "      <td>5265000.0</td>\n",
       "      <td>399500.0</td>\n",
       "      <td>5265500.0</td>\n",
       "      <td>...</td>\n",
       "      <td>10951893</td>\n",
       "      <td>35748.17</td>\n",
       "      <td>2.544263e+06</td>\n",
       "      <td>8.151755e+10</td>\n",
       "      <td>180.808108</td>\n",
       "      <td>POLYGON ((4145049.219 2716779.268, 4145587.602...</td>\n",
       "      <td>33.0</td>\n",
       "      <td>DE139</td>\n",
       "      <td>2.327335e+08</td>\n",
       "      <td>243797.384967</td>\n",
       "    </tr>\n",
       "    <tr>\n",
       "      <th>1</th>\n",
       "      <td>1</td>\n",
       "      <td>1203.0</td>\n",
       "      <td>DE_Grid_ETRS89-UTM32_1km</td>\n",
       "      <td>de_grid_utm32_1km</td>\n",
       "      <td>1203</td>\n",
       "      <td>1kmN5265E400</td>\n",
       "      <td>400000.0</td>\n",
       "      <td>5265000.0</td>\n",
       "      <td>400500.0</td>\n",
       "      <td>5265500.0</td>\n",
       "      <td>...</td>\n",
       "      <td>10951893</td>\n",
       "      <td>35748.17</td>\n",
       "      <td>2.544263e+06</td>\n",
       "      <td>8.151755e+10</td>\n",
       "      <td>804.211853</td>\n",
       "      <td>POLYGON ((4145580.204 2716219.458, 4145587.602...</td>\n",
       "      <td>33.0</td>\n",
       "      <td>DE139</td>\n",
       "      <td>2.327335e+08</td>\n",
       "      <td>243797.384967</td>\n",
       "    </tr>\n",
       "    <tr>\n",
       "      <th>2</th>\n",
       "      <td>2</td>\n",
       "      <td>1204.0</td>\n",
       "      <td>DE_Grid_ETRS89-UTM32_1km</td>\n",
       "      <td>de_grid_utm32_1km</td>\n",
       "      <td>1204</td>\n",
       "      <td>1kmN5265E401</td>\n",
       "      <td>401000.0</td>\n",
       "      <td>5265000.0</td>\n",
       "      <td>401500.0</td>\n",
       "      <td>5265500.0</td>\n",
       "      <td>...</td>\n",
       "      <td>10951893</td>\n",
       "      <td>35748.17</td>\n",
       "      <td>2.544263e+06</td>\n",
       "      <td>8.151755e+10</td>\n",
       "      <td>1133.568177</td>\n",
       "      <td>POLYGON ((4146577.415 2715940.046, 4146588.363...</td>\n",
       "      <td>33.0</td>\n",
       "      <td>DE139</td>\n",
       "      <td>2.327335e+08</td>\n",
       "      <td>243797.384967</td>\n",
       "    </tr>\n",
       "    <tr>\n",
       "      <th>3</th>\n",
       "      <td>3</td>\n",
       "      <td>1205.0</td>\n",
       "      <td>DE_Grid_ETRS89-UTM32_1km</td>\n",
       "      <td>de_grid_utm32_1km</td>\n",
       "      <td>1205</td>\n",
       "      <td>1kmN5265E402</td>\n",
       "      <td>402000.0</td>\n",
       "      <td>5265000.0</td>\n",
       "      <td>402500.0</td>\n",
       "      <td>5265500.0</td>\n",
       "      <td>...</td>\n",
       "      <td>10951893</td>\n",
       "      <td>35748.17</td>\n",
       "      <td>2.544263e+06</td>\n",
       "      <td>8.151755e+10</td>\n",
       "      <td>416.022656</td>\n",
       "      <td>POLYGON ((4147578.976 2715984.983, 4147589.127...</td>\n",
       "      <td>33.0</td>\n",
       "      <td>DE139</td>\n",
       "      <td>2.327335e+08</td>\n",
       "      <td>243797.384967</td>\n",
       "    </tr>\n",
       "    <tr>\n",
       "      <th>4</th>\n",
       "      <td>4</td>\n",
       "      <td>1206.0</td>\n",
       "      <td>DE_Grid_ETRS89-UTM32_1km</td>\n",
       "      <td>de_grid_utm32_1km</td>\n",
       "      <td>1206</td>\n",
       "      <td>1kmN5265E403</td>\n",
       "      <td>403000.0</td>\n",
       "      <td>5265000.0</td>\n",
       "      <td>403500.0</td>\n",
       "      <td>5265500.0</td>\n",
       "      <td>...</td>\n",
       "      <td>10951893</td>\n",
       "      <td>35748.17</td>\n",
       "      <td>2.544263e+06</td>\n",
       "      <td>8.151755e+10</td>\n",
       "      <td>24.337452</td>\n",
       "      <td>POLYGON ((4148587.305 2716535.038, 4148589.895...</td>\n",
       "      <td>33.0</td>\n",
       "      <td>DE139</td>\n",
       "      <td>2.327335e+08</td>\n",
       "      <td>243797.384967</td>\n",
       "    </tr>\n",
       "  </tbody>\n",
       "</table>\n",
       "<p>5 rows × 45 columns</p>\n",
       "</div>"
      ],
      "text/plain": [
       "   index   rowid                featuretyp         dataset_na  OBJECTID  \\\n",
       "0      0  1202.0  DE_Grid_ETRS89-UTM32_1km  de_grid_utm32_1km      1202   \n",
       "1      1  1203.0  DE_Grid_ETRS89-UTM32_1km  de_grid_utm32_1km      1203   \n",
       "2      2  1204.0  DE_Grid_ETRS89-UTM32_1km  de_grid_utm32_1km      1204   \n",
       "3      3  1205.0  DE_Grid_ETRS89-UTM32_1km  de_grid_utm32_1km      1205   \n",
       "4      4  1206.0  DE_Grid_ETRS89-UTM32_1km  de_grid_utm32_1km      1206   \n",
       "\n",
       "             id      x_sw       y_sw      x_mp       y_mp  ...       EWZ  \\\n",
       "0  1kmN5265E399  399000.0  5265000.0  399500.0  5265500.0  ...  10951893   \n",
       "1  1kmN5265E400  400000.0  5265000.0  400500.0  5265500.0  ...  10951893   \n",
       "2  1kmN5265E401  401000.0  5265000.0  401500.0  5265500.0  ...  10951893   \n",
       "3  1kmN5265E402  402000.0  5265000.0  402500.0  5265500.0  ...  10951893   \n",
       "4  1kmN5265E403  403000.0  5265000.0  403500.0  5265500.0  ...  10951893   \n",
       "\n",
       "        KFL    SHAPE_Le_1    SHAPE_Ar_1       _sum_x  \\\n",
       "0  35748.17  2.544263e+06  8.151755e+10   180.808108   \n",
       "1  35748.17  2.544263e+06  8.151755e+10   804.211853   \n",
       "2  35748.17  2.544263e+06  8.151755e+10  1133.568177   \n",
       "3  35748.17  2.544263e+06  8.151755e+10   416.022656   \n",
       "4  35748.17  2.544263e+06  8.151755e+10    24.337452   \n",
       "\n",
       "                                            geometry  index_right  nuts_id  \\\n",
       "0  POLYGON ((4145049.219 2716779.268, 4145587.602...         33.0    DE139   \n",
       "1  POLYGON ((4145580.204 2716219.458, 4145587.602...         33.0    DE139   \n",
       "2  POLYGON ((4146577.415 2715940.046, 4146588.363...         33.0    DE139   \n",
       "3  POLYGON ((4147578.976 2715984.983, 4147589.127...         33.0    DE139   \n",
       "4  POLYGON ((4148587.305 2716535.038, 4148589.895...         33.0    DE139   \n",
       "\n",
       "      secondary         _sum_y  \n",
       "0  2.327335e+08  243797.384967  \n",
       "1  2.327335e+08  243797.384967  \n",
       "2  2.327335e+08  243797.384967  \n",
       "3  2.327335e+08  243797.384967  \n",
       "4  2.327335e+08  243797.384967  \n",
       "\n",
       "[5 rows x 45 columns]"
      ]
     },
     "execution_count": 63,
     "metadata": {},
     "output_type": "execute_result"
    }
   ],
   "source": [
    "grid_sec = pd.merge(grid_sec, pop_sum, how='left', on='nuts_id')\n",
    "grid_sec.head()"
   ]
  },
  {
   "cell_type": "code",
   "execution_count": 64,
   "metadata": {},
   "outputs": [
    {
     "data": {
      "text/html": [
       "<div>\n",
       "<style scoped>\n",
       "    .dataframe tbody tr th:only-of-type {\n",
       "        vertical-align: middle;\n",
       "    }\n",
       "\n",
       "    .dataframe tbody tr th {\n",
       "        vertical-align: top;\n",
       "    }\n",
       "\n",
       "    .dataframe thead th {\n",
       "        text-align: right;\n",
       "    }\n",
       "</style>\n",
       "<table border=\"1\" class=\"dataframe\">\n",
       "  <thead>\n",
       "    <tr style=\"text-align: right;\">\n",
       "      <th></th>\n",
       "      <th>index</th>\n",
       "      <th>rowid</th>\n",
       "      <th>featuretyp</th>\n",
       "      <th>dataset_na</th>\n",
       "      <th>OBJECTID</th>\n",
       "      <th>id</th>\n",
       "      <th>x_sw</th>\n",
       "      <th>y_sw</th>\n",
       "      <th>x_mp</th>\n",
       "      <th>y_mp</th>\n",
       "      <th>...</th>\n",
       "      <th>KFL</th>\n",
       "      <th>SHAPE_Le_1</th>\n",
       "      <th>SHAPE_Ar_1</th>\n",
       "      <th>_sum_x</th>\n",
       "      <th>geometry</th>\n",
       "      <th>index_right</th>\n",
       "      <th>nuts_id</th>\n",
       "      <th>secondary</th>\n",
       "      <th>_sum_y</th>\n",
       "      <th>scar_vkm</th>\n",
       "    </tr>\n",
       "  </thead>\n",
       "  <tbody>\n",
       "    <tr>\n",
       "      <th>0</th>\n",
       "      <td>0</td>\n",
       "      <td>1202.0</td>\n",
       "      <td>DE_Grid_ETRS89-UTM32_1km</td>\n",
       "      <td>de_grid_utm32_1km</td>\n",
       "      <td>1202</td>\n",
       "      <td>1kmN5265E399</td>\n",
       "      <td>399000.0</td>\n",
       "      <td>5265000.0</td>\n",
       "      <td>399500.0</td>\n",
       "      <td>5265500.0</td>\n",
       "      <td>...</td>\n",
       "      <td>35748.17</td>\n",
       "      <td>2.544263e+06</td>\n",
       "      <td>8.151755e+10</td>\n",
       "      <td>180.808108</td>\n",
       "      <td>POLYGON ((4145049.219 2716779.268, 4145587.602...</td>\n",
       "      <td>33.0</td>\n",
       "      <td>DE139</td>\n",
       "      <td>2.327335e+08</td>\n",
       "      <td>243797.384967</td>\n",
       "      <td>1.726028e+05</td>\n",
       "    </tr>\n",
       "    <tr>\n",
       "      <th>1</th>\n",
       "      <td>1</td>\n",
       "      <td>1203.0</td>\n",
       "      <td>DE_Grid_ETRS89-UTM32_1km</td>\n",
       "      <td>de_grid_utm32_1km</td>\n",
       "      <td>1203</td>\n",
       "      <td>1kmN5265E400</td>\n",
       "      <td>400000.0</td>\n",
       "      <td>5265000.0</td>\n",
       "      <td>400500.0</td>\n",
       "      <td>5265500.0</td>\n",
       "      <td>...</td>\n",
       "      <td>35748.17</td>\n",
       "      <td>2.544263e+06</td>\n",
       "      <td>8.151755e+10</td>\n",
       "      <td>804.211853</td>\n",
       "      <td>POLYGON ((4145580.204 2716219.458, 4145587.602...</td>\n",
       "      <td>33.0</td>\n",
       "      <td>DE139</td>\n",
       "      <td>2.327335e+08</td>\n",
       "      <td>243797.384967</td>\n",
       "      <td>7.677156e+05</td>\n",
       "    </tr>\n",
       "    <tr>\n",
       "      <th>2</th>\n",
       "      <td>2</td>\n",
       "      <td>1204.0</td>\n",
       "      <td>DE_Grid_ETRS89-UTM32_1km</td>\n",
       "      <td>de_grid_utm32_1km</td>\n",
       "      <td>1204</td>\n",
       "      <td>1kmN5265E401</td>\n",
       "      <td>401000.0</td>\n",
       "      <td>5265000.0</td>\n",
       "      <td>401500.0</td>\n",
       "      <td>5265500.0</td>\n",
       "      <td>...</td>\n",
       "      <td>35748.17</td>\n",
       "      <td>2.544263e+06</td>\n",
       "      <td>8.151755e+10</td>\n",
       "      <td>1133.568177</td>\n",
       "      <td>POLYGON ((4146577.415 2715940.046, 4146588.363...</td>\n",
       "      <td>33.0</td>\n",
       "      <td>DE139</td>\n",
       "      <td>2.327335e+08</td>\n",
       "      <td>243797.384967</td>\n",
       "      <td>1.082125e+06</td>\n",
       "    </tr>\n",
       "    <tr>\n",
       "      <th>3</th>\n",
       "      <td>3</td>\n",
       "      <td>1205.0</td>\n",
       "      <td>DE_Grid_ETRS89-UTM32_1km</td>\n",
       "      <td>de_grid_utm32_1km</td>\n",
       "      <td>1205</td>\n",
       "      <td>1kmN5265E402</td>\n",
       "      <td>402000.0</td>\n",
       "      <td>5265000.0</td>\n",
       "      <td>402500.0</td>\n",
       "      <td>5265500.0</td>\n",
       "      <td>...</td>\n",
       "      <td>35748.17</td>\n",
       "      <td>2.544263e+06</td>\n",
       "      <td>8.151755e+10</td>\n",
       "      <td>416.022656</td>\n",
       "      <td>POLYGON ((4147578.976 2715984.983, 4147589.127...</td>\n",
       "      <td>33.0</td>\n",
       "      <td>DE139</td>\n",
       "      <td>2.327335e+08</td>\n",
       "      <td>243797.384967</td>\n",
       "      <td>3.971430e+05</td>\n",
       "    </tr>\n",
       "    <tr>\n",
       "      <th>4</th>\n",
       "      <td>4</td>\n",
       "      <td>1206.0</td>\n",
       "      <td>DE_Grid_ETRS89-UTM32_1km</td>\n",
       "      <td>de_grid_utm32_1km</td>\n",
       "      <td>1206</td>\n",
       "      <td>1kmN5265E403</td>\n",
       "      <td>403000.0</td>\n",
       "      <td>5265000.0</td>\n",
       "      <td>403500.0</td>\n",
       "      <td>5265500.0</td>\n",
       "      <td>...</td>\n",
       "      <td>35748.17</td>\n",
       "      <td>2.544263e+06</td>\n",
       "      <td>8.151755e+10</td>\n",
       "      <td>24.337452</td>\n",
       "      <td>POLYGON ((4148587.305 2716535.038, 4148589.895...</td>\n",
       "      <td>33.0</td>\n",
       "      <td>DE139</td>\n",
       "      <td>2.327335e+08</td>\n",
       "      <td>243797.384967</td>\n",
       "      <td>2.323298e+04</td>\n",
       "    </tr>\n",
       "  </tbody>\n",
       "</table>\n",
       "<p>5 rows × 46 columns</p>\n",
       "</div>"
      ],
      "text/plain": [
       "   index   rowid                featuretyp         dataset_na  OBJECTID  \\\n",
       "0      0  1202.0  DE_Grid_ETRS89-UTM32_1km  de_grid_utm32_1km      1202   \n",
       "1      1  1203.0  DE_Grid_ETRS89-UTM32_1km  de_grid_utm32_1km      1203   \n",
       "2      2  1204.0  DE_Grid_ETRS89-UTM32_1km  de_grid_utm32_1km      1204   \n",
       "3      3  1205.0  DE_Grid_ETRS89-UTM32_1km  de_grid_utm32_1km      1205   \n",
       "4      4  1206.0  DE_Grid_ETRS89-UTM32_1km  de_grid_utm32_1km      1206   \n",
       "\n",
       "             id      x_sw       y_sw      x_mp       y_mp  ...       KFL  \\\n",
       "0  1kmN5265E399  399000.0  5265000.0  399500.0  5265500.0  ...  35748.17   \n",
       "1  1kmN5265E400  400000.0  5265000.0  400500.0  5265500.0  ...  35748.17   \n",
       "2  1kmN5265E401  401000.0  5265000.0  401500.0  5265500.0  ...  35748.17   \n",
       "3  1kmN5265E402  402000.0  5265000.0  402500.0  5265500.0  ...  35748.17   \n",
       "4  1kmN5265E403  403000.0  5265000.0  403500.0  5265500.0  ...  35748.17   \n",
       "\n",
       "     SHAPE_Le_1    SHAPE_Ar_1       _sum_x  \\\n",
       "0  2.544263e+06  8.151755e+10   180.808108   \n",
       "1  2.544263e+06  8.151755e+10   804.211853   \n",
       "2  2.544263e+06  8.151755e+10  1133.568177   \n",
       "3  2.544263e+06  8.151755e+10   416.022656   \n",
       "4  2.544263e+06  8.151755e+10    24.337452   \n",
       "\n",
       "                                            geometry  index_right  nuts_id  \\\n",
       "0  POLYGON ((4145049.219 2716779.268, 4145587.602...         33.0    DE139   \n",
       "1  POLYGON ((4145580.204 2716219.458, 4145587.602...         33.0    DE139   \n",
       "2  POLYGON ((4146577.415 2715940.046, 4146588.363...         33.0    DE139   \n",
       "3  POLYGON ((4147578.976 2715984.983, 4147589.127...         33.0    DE139   \n",
       "4  POLYGON ((4148587.305 2716535.038, 4148589.895...         33.0    DE139   \n",
       "\n",
       "      secondary         _sum_y      scar_vkm  \n",
       "0  2.327335e+08  243797.384967  1.726028e+05  \n",
       "1  2.327335e+08  243797.384967  7.677156e+05  \n",
       "2  2.327335e+08  243797.384967  1.082125e+06  \n",
       "3  2.327335e+08  243797.384967  3.971430e+05  \n",
       "4  2.327335e+08  243797.384967  2.323298e+04  \n",
       "\n",
       "[5 rows x 46 columns]"
      ]
     },
     "execution_count": 64,
     "metadata": {},
     "output_type": "execute_result"
    }
   ],
   "source": [
    "grid_sec['scar_vkm'] = (grid_sec['secondary'] * (grid_sec['_sum_x']/grid_sec['_sum_y'])) #/ 365.25\n",
    "grid_sec.head()"
   ]
  },
  {
   "cell_type": "code",
   "execution_count": 65,
   "metadata": {},
   "outputs": [
    {
     "name": "stdout",
     "output_type": "stream",
     "text": [
      "Original secondary mileage: 12.7484 mrd vkm\n",
      "Secondary mileage from Grid: 12.7484 mrd vkm\n"
     ]
    }
   ],
   "source": [
    "print('Original secondary mileage: {} mrd vkm'.format(round(sec['secondary'].sum()/1000**3, 4)))\n",
    "print('Secondary mileage from Grid: {} mrd vkm'.format(round(grid_sec['scar_vkm'].sum()/1000**3,4)))"
   ]
  },
  {
   "cell_type": "code",
   "execution_count": 66,
   "metadata": {},
   "outputs": [],
   "source": [
    "del trouble\n",
    "del grid_sec_dup"
   ]
  },
  {
   "cell_type": "markdown",
   "metadata": {},
   "source": [
    "#### NOx Emissions"
   ]
  },
  {
   "cell_type": "code",
   "execution_count": 67,
   "metadata": {},
   "outputs": [],
   "source": [
    "grid_sec['nox'] = grid_sec['scar_vkm'] / 365.25 *0.339482826\n",
    "grid_sec['nox'] = grid_sec['nox']/1000**2 # convert to tonne"
   ]
  },
  {
   "cell_type": "code",
   "execution_count": 68,
   "metadata": {},
   "outputs": [
    {
     "name": "stdout",
     "output_type": "stream",
     "text": [
      "NOx emissions from secondary: 11.8491 t\n"
     ]
    }
   ],
   "source": [
    "print('NOx emissions from secondary: {} t'.format(round(grid_sec['nox'].sum(), 4)))"
   ]
  },
  {
   "cell_type": "code",
   "execution_count": 69,
   "metadata": {},
   "outputs": [
    {
     "data": {
      "application/vnd.jupyter.widget-view+json": {
       "model_id": "1b925e003093421491494eaf1c7258d0",
       "version_major": 2,
       "version_minor": 0
      },
      "text/plain": [
       "Canvas(toolbar=Toolbar(toolitems=[('Home', 'Reset original view', 'home', 'home'), ('Back', 'Back to previous …"
      ]
     },
     "metadata": {},
     "output_type": "display_data"
    },
    {
     "data": {
      "text/plain": [
       "<matplotlib.axes._subplots.AxesSubplot at 0x10893438108>"
      ]
     },
     "execution_count": 69,
     "metadata": {},
     "output_type": "execute_result"
    }
   ],
   "source": [
    "grid_sec.plot(column='nox', figsize=(10,10), cmap='Spectral_r', legend=True, vmax = 0.05)"
   ]
  },
  {
   "cell_type": "code",
   "execution_count": 70,
   "metadata": {},
   "outputs": [],
   "source": [
    "plt.close('all')"
   ]
  },
  {
   "cell_type": "markdown",
   "metadata": {},
   "source": [
    "## Join grid and lines (assign grid-id to line)"
   ]
  },
  {
   "cell_type": "markdown",
   "metadata": {},
   "source": [
    "### Create buffer around grid for join operation"
   ]
  },
  {
   "cell_type": "code",
   "execution_count": 71,
   "metadata": {},
   "outputs": [],
   "source": [
    "#erstelle 0.01m buffer um eindeutige Zuordung zu garatieren\n",
    "grid_buff=grid_sec.copy()\n",
    "grid_buff['geometry']= grid_sec['geometry'].buffer(0.01)"
   ]
  },
  {
   "cell_type": "code",
   "execution_count": 72,
   "metadata": {},
   "outputs": [
    {
     "data": {
      "text/plain": [
       "array([2., 1., 3.])"
      ]
     },
     "execution_count": 72,
     "metadata": {},
     "output_type": "execute_result"
    }
   ],
   "source": [
    "line['urban'].unique() # 1 io, 2 ao, 3 ab"
   ]
  },
  {
   "cell_type": "code",
   "execution_count": 73,
   "metadata": {},
   "outputs": [],
   "source": [
    "line['ix'] = list(range(len(line)))\n",
    "#line.to_file(path_ + 'bawue/bw-links-split3035-gpd-ix.gpkg')"
   ]
  },
  {
   "cell_type": "code",
   "execution_count": 74,
   "metadata": {},
   "outputs": [
    {
     "data": {
      "text/html": [
       "<div>\n",
       "<style scoped>\n",
       "    .dataframe tbody tr th:only-of-type {\n",
       "        vertical-align: middle;\n",
       "    }\n",
       "\n",
       "    .dataframe tbody tr th {\n",
       "        vertical-align: top;\n",
       "    }\n",
       "\n",
       "    .dataframe thead th {\n",
       "        text-align: right;\n",
       "    }\n",
       "</style>\n",
       "<table border=\"1\" class=\"dataframe\">\n",
       "  <thead>\n",
       "    <tr style=\"text-align: right;\">\n",
       "      <th></th>\n",
       "      <th>index</th>\n",
       "      <th>id_1</th>\n",
       "      <th>fromnode</th>\n",
       "      <th>tonode</th>\n",
       "      <th>length</th>\n",
       "      <th>type</th>\n",
       "      <th>nuts_id</th>\n",
       "      <th>urban</th>\n",
       "      <th>car_vkm</th>\n",
       "      <th>lcv_vkm</th>\n",
       "      <th>mft_vkm</th>\n",
       "      <th>hft_vkm</th>\n",
       "      <th>geometry</th>\n",
       "      <th>ix</th>\n",
       "      <th>index_right</th>\n",
       "      <th>id</th>\n",
       "      <th>scar_vkm</th>\n",
       "    </tr>\n",
       "  </thead>\n",
       "  <tbody>\n",
       "    <tr>\n",
       "      <th>0</th>\n",
       "      <td>0</td>\n",
       "      <td>80677104.0</td>\n",
       "      <td>80192562.0</td>\n",
       "      <td>80192249.0</td>\n",
       "      <td>0.553588</td>\n",
       "      <td>3.0</td>\n",
       "      <td>DE111</td>\n",
       "      <td>2.0</td>\n",
       "      <td>21160.480345</td>\n",
       "      <td>1660.860080</td>\n",
       "      <td>311.411076</td>\n",
       "      <td>51.904625</td>\n",
       "      <td>LINESTRING (4257313.607 2850469.181, 4256760.3...</td>\n",
       "      <td>0</td>\n",
       "      <td>23377.0</td>\n",
       "      <td>1kmN5401E509</td>\n",
       "      <td>1.427552e+06</td>\n",
       "    </tr>\n",
       "    <tr>\n",
       "      <th>1</th>\n",
       "      <td>1</td>\n",
       "      <td>80677106.0</td>\n",
       "      <td>80192173.0</td>\n",
       "      <td>80192573.0</td>\n",
       "      <td>0.672780</td>\n",
       "      <td>3.0</td>\n",
       "      <td>DE111</td>\n",
       "      <td>2.0</td>\n",
       "      <td>25753.077206</td>\n",
       "      <td>2018.458701</td>\n",
       "      <td>378.460776</td>\n",
       "      <td>63.080173</td>\n",
       "      <td>LINESTRING (4256649.412 2850493.491, 4257321.4...</td>\n",
       "      <td>1</td>\n",
       "      <td>23377.0</td>\n",
       "      <td>1kmN5401E509</td>\n",
       "      <td>1.427552e+06</td>\n",
       "    </tr>\n",
       "    <tr>\n",
       "      <th>2</th>\n",
       "      <td>2</td>\n",
       "      <td>80226542.0</td>\n",
       "      <td>80191870.0</td>\n",
       "      <td>80192057.0</td>\n",
       "      <td>0.017284</td>\n",
       "      <td>3.0</td>\n",
       "      <td>DE111</td>\n",
       "      <td>2.0</td>\n",
       "      <td>661.592122</td>\n",
       "      <td>51.853857</td>\n",
       "      <td>9.722592</td>\n",
       "      <td>8.278496</td>\n",
       "      <td>LINESTRING (4256467.519 2850521.116, 4256484.7...</td>\n",
       "      <td>2</td>\n",
       "      <td>23377.0</td>\n",
       "      <td>1kmN5401E509</td>\n",
       "      <td>1.427552e+06</td>\n",
       "    </tr>\n",
       "    <tr>\n",
       "      <th>3</th>\n",
       "      <td>3</td>\n",
       "      <td>80278802.0</td>\n",
       "      <td>80192249.0</td>\n",
       "      <td>80192019.0</td>\n",
       "      <td>0.296463</td>\n",
       "      <td>3.0</td>\n",
       "      <td>DE111</td>\n",
       "      <td>1.0</td>\n",
       "      <td>11332.093143</td>\n",
       "      <td>889.442055</td>\n",
       "      <td>166.770284</td>\n",
       "      <td>126.827489</td>\n",
       "      <td>LINESTRING (4256760.323 2850487.506, 4256467.7...</td>\n",
       "      <td>3</td>\n",
       "      <td>23377.0</td>\n",
       "      <td>1kmN5401E509</td>\n",
       "      <td>1.427552e+06</td>\n",
       "    </tr>\n",
       "    <tr>\n",
       "      <th>4</th>\n",
       "      <td>4</td>\n",
       "      <td>80871918.0</td>\n",
       "      <td>80192057.0</td>\n",
       "      <td>80192173.0</td>\n",
       "      <td>0.166724</td>\n",
       "      <td>3.0</td>\n",
       "      <td>DE111</td>\n",
       "      <td>1.0</td>\n",
       "      <td>6381.976388</td>\n",
       "      <td>500.202584</td>\n",
       "      <td>93.787927</td>\n",
       "      <td>79.857614</td>\n",
       "      <td>LINESTRING (4256484.723 2850519.463, 4256649.4...</td>\n",
       "      <td>4</td>\n",
       "      <td>23377.0</td>\n",
       "      <td>1kmN5401E509</td>\n",
       "      <td>1.427552e+06</td>\n",
       "    </tr>\n",
       "  </tbody>\n",
       "</table>\n",
       "</div>"
      ],
      "text/plain": [
       "   index        id_1    fromnode      tonode    length  type nuts_id  urban  \\\n",
       "0      0  80677104.0  80192562.0  80192249.0  0.553588   3.0   DE111    2.0   \n",
       "1      1  80677106.0  80192173.0  80192573.0  0.672780   3.0   DE111    2.0   \n",
       "2      2  80226542.0  80191870.0  80192057.0  0.017284   3.0   DE111    2.0   \n",
       "3      3  80278802.0  80192249.0  80192019.0  0.296463   3.0   DE111    1.0   \n",
       "4      4  80871918.0  80192057.0  80192173.0  0.166724   3.0   DE111    1.0   \n",
       "\n",
       "        car_vkm      lcv_vkm     mft_vkm     hft_vkm  \\\n",
       "0  21160.480345  1660.860080  311.411076   51.904625   \n",
       "1  25753.077206  2018.458701  378.460776   63.080173   \n",
       "2    661.592122    51.853857    9.722592    8.278496   \n",
       "3  11332.093143   889.442055  166.770284  126.827489   \n",
       "4   6381.976388   500.202584   93.787927   79.857614   \n",
       "\n",
       "                                            geometry  ix  index_right  \\\n",
       "0  LINESTRING (4257313.607 2850469.181, 4256760.3...   0      23377.0   \n",
       "1  LINESTRING (4256649.412 2850493.491, 4257321.4...   1      23377.0   \n",
       "2  LINESTRING (4256467.519 2850521.116, 4256484.7...   2      23377.0   \n",
       "3  LINESTRING (4256760.323 2850487.506, 4256467.7...   3      23377.0   \n",
       "4  LINESTRING (4256484.723 2850519.463, 4256649.4...   4      23377.0   \n",
       "\n",
       "             id      scar_vkm  \n",
       "0  1kmN5401E509  1.427552e+06  \n",
       "1  1kmN5401E509  1.427552e+06  \n",
       "2  1kmN5401E509  1.427552e+06  \n",
       "3  1kmN5401E509  1.427552e+06  \n",
       "4  1kmN5401E509  1.427552e+06  "
      ]
     },
     "execution_count": 74,
     "metadata": {},
     "output_type": "execute_result"
    }
   ],
   "source": [
    "join= gpd.sjoin(line, grid_buff[['geometry','id','scar_vkm']], how='left', op='within')\n",
    "join = join.reset_index()\n",
    "join.head()"
   ]
  },
  {
   "cell_type": "code",
   "execution_count": 75,
   "metadata": {},
   "outputs": [
    {
     "data": {
      "text/plain": [
       "925"
      ]
     },
     "execution_count": 75,
     "metadata": {},
     "output_type": "execute_result"
    }
   ],
   "source": [
    "len(join) - len(line)"
   ]
  },
  {
   "cell_type": "markdown",
   "metadata": {},
   "source": [
    "#### Check for NaN and assign to gridcell from other line pieces"
   ]
  },
  {
   "cell_type": "code",
   "execution_count": 76,
   "metadata": {},
   "outputs": [
    {
     "data": {
      "text/plain": [
       "67"
      ]
     },
     "execution_count": 76,
     "metadata": {},
     "output_type": "execute_result"
    }
   ],
   "source": [
    "len(join[join['id'].isna()])"
   ]
  },
  {
   "cell_type": "code",
   "execution_count": 77,
   "metadata": {},
   "outputs": [
    {
     "data": {
      "text/html": [
       "<div>\n",
       "<style scoped>\n",
       "    .dataframe tbody tr th:only-of-type {\n",
       "        vertical-align: middle;\n",
       "    }\n",
       "\n",
       "    .dataframe tbody tr th {\n",
       "        vertical-align: top;\n",
       "    }\n",
       "\n",
       "    .dataframe thead th {\n",
       "        text-align: right;\n",
       "    }\n",
       "</style>\n",
       "<table border=\"1\" class=\"dataframe\">\n",
       "  <thead>\n",
       "    <tr style=\"text-align: right;\">\n",
       "      <th></th>\n",
       "      <th>index</th>\n",
       "      <th>id_1</th>\n",
       "      <th>fromnode</th>\n",
       "      <th>tonode</th>\n",
       "      <th>length</th>\n",
       "      <th>type</th>\n",
       "      <th>nuts_id</th>\n",
       "      <th>urban</th>\n",
       "      <th>car_vkm</th>\n",
       "      <th>lcv_vkm</th>\n",
       "      <th>mft_vkm</th>\n",
       "      <th>hft_vkm</th>\n",
       "      <th>geometry</th>\n",
       "      <th>ix</th>\n",
       "      <th>index_right</th>\n",
       "      <th>id</th>\n",
       "      <th>scar_vkm</th>\n",
       "    </tr>\n",
       "  </thead>\n",
       "  <tbody>\n",
       "    <tr>\n",
       "      <th>31782</th>\n",
       "      <td>31761</td>\n",
       "      <td>80930672.0</td>\n",
       "      <td>80189402.0</td>\n",
       "      <td>80190750.0</td>\n",
       "      <td>9.313226e-13</td>\n",
       "      <td>1.0</td>\n",
       "      <td>DE112</td>\n",
       "      <td>3.0</td>\n",
       "      <td>4.903600e-08</td>\n",
       "      <td>9.747856e-09</td>\n",
       "      <td>1.827723e-09</td>\n",
       "      <td>6.263935e-09</td>\n",
       "      <td>MULTILINESTRING ((4253399.429 2845573.917, 425...</td>\n",
       "      <td>31761</td>\n",
       "      <td>NaN</td>\n",
       "      <td>NaN</td>\n",
       "      <td>NaN</td>\n",
       "    </tr>\n",
       "    <tr>\n",
       "      <th>31817</th>\n",
       "      <td>31779</td>\n",
       "      <td>80566136.0</td>\n",
       "      <td>80206478.0</td>\n",
       "      <td>80207565.0</td>\n",
       "      <td>9.313226e-13</td>\n",
       "      <td>3.0</td>\n",
       "      <td>DE113</td>\n",
       "      <td>2.0</td>\n",
       "      <td>1.969942e-08</td>\n",
       "      <td>3.090895e-09</td>\n",
       "      <td>5.795440e-10</td>\n",
       "      <td>2.531513e-10</td>\n",
       "      <td>MULTILINESTRING ((4272312.595 2837821.947, 427...</td>\n",
       "      <td>31779</td>\n",
       "      <td>NaN</td>\n",
       "      <td>NaN</td>\n",
       "      <td>NaN</td>\n",
       "    </tr>\n",
       "    <tr>\n",
       "      <th>31844</th>\n",
       "      <td>31793</td>\n",
       "      <td>80295130.0</td>\n",
       "      <td>80212136.0</td>\n",
       "      <td>80213389.0</td>\n",
       "      <td>1.862645e-12</td>\n",
       "      <td>2.0</td>\n",
       "      <td>DE113</td>\n",
       "      <td>1.0</td>\n",
       "      <td>4.569556e-08</td>\n",
       "      <td>2.060598e-09</td>\n",
       "      <td>3.863644e-10</td>\n",
       "      <td>3.300422e-10</td>\n",
       "      <td>MULTILINESTRING ((4281198.540 2828604.536, 428...</td>\n",
       "      <td>31793</td>\n",
       "      <td>NaN</td>\n",
       "      <td>NaN</td>\n",
       "      <td>NaN</td>\n",
       "    </tr>\n",
       "    <tr>\n",
       "      <th>31849</th>\n",
       "      <td>31796</td>\n",
       "      <td>80295131.0</td>\n",
       "      <td>80213389.0</td>\n",
       "      <td>80212136.0</td>\n",
       "      <td>1.862645e-12</td>\n",
       "      <td>2.0</td>\n",
       "      <td>DE113</td>\n",
       "      <td>1.0</td>\n",
       "      <td>4.567025e-08</td>\n",
       "      <td>2.060598e-09</td>\n",
       "      <td>3.863644e-10</td>\n",
       "      <td>3.324267e-10</td>\n",
       "      <td>MULTILINESTRING ((4282170.835 2826437.646, 428...</td>\n",
       "      <td>31796</td>\n",
       "      <td>NaN</td>\n",
       "      <td>NaN</td>\n",
       "      <td>NaN</td>\n",
       "    </tr>\n",
       "    <tr>\n",
       "      <th>31868</th>\n",
       "      <td>31806</td>\n",
       "      <td>80852419.0</td>\n",
       "      <td>80233594.0</td>\n",
       "      <td>80231194.0</td>\n",
       "      <td>9.313226e-13</td>\n",
       "      <td>2.0</td>\n",
       "      <td>DE114</td>\n",
       "      <td>1.0</td>\n",
       "      <td>1.848867e-08</td>\n",
       "      <td>4.497121e-10</td>\n",
       "      <td>8.432007e-11</td>\n",
       "      <td>8.168119e-10</td>\n",
       "      <td>MULTILINESTRING ((4307201.008 2835552.567, 430...</td>\n",
       "      <td>31806</td>\n",
       "      <td>NaN</td>\n",
       "      <td>NaN</td>\n",
       "      <td>NaN</td>\n",
       "    </tr>\n",
       "  </tbody>\n",
       "</table>\n",
       "</div>"
      ],
      "text/plain": [
       "       index        id_1    fromnode      tonode        length  type nuts_id  \\\n",
       "31782  31761  80930672.0  80189402.0  80190750.0  9.313226e-13   1.0   DE112   \n",
       "31817  31779  80566136.0  80206478.0  80207565.0  9.313226e-13   3.0   DE113   \n",
       "31844  31793  80295130.0  80212136.0  80213389.0  1.862645e-12   2.0   DE113   \n",
       "31849  31796  80295131.0  80213389.0  80212136.0  1.862645e-12   2.0   DE113   \n",
       "31868  31806  80852419.0  80233594.0  80231194.0  9.313226e-13   2.0   DE114   \n",
       "\n",
       "       urban       car_vkm       lcv_vkm       mft_vkm       hft_vkm  \\\n",
       "31782    3.0  4.903600e-08  9.747856e-09  1.827723e-09  6.263935e-09   \n",
       "31817    2.0  1.969942e-08  3.090895e-09  5.795440e-10  2.531513e-10   \n",
       "31844    1.0  4.569556e-08  2.060598e-09  3.863644e-10  3.300422e-10   \n",
       "31849    1.0  4.567025e-08  2.060598e-09  3.863644e-10  3.324267e-10   \n",
       "31868    1.0  1.848867e-08  4.497121e-10  8.432007e-11  8.168119e-10   \n",
       "\n",
       "                                                geometry     ix  index_right  \\\n",
       "31782  MULTILINESTRING ((4253399.429 2845573.917, 425...  31761          NaN   \n",
       "31817  MULTILINESTRING ((4272312.595 2837821.947, 427...  31779          NaN   \n",
       "31844  MULTILINESTRING ((4281198.540 2828604.536, 428...  31793          NaN   \n",
       "31849  MULTILINESTRING ((4282170.835 2826437.646, 428...  31796          NaN   \n",
       "31868  MULTILINESTRING ((4307201.008 2835552.567, 430...  31806          NaN   \n",
       "\n",
       "        id  scar_vkm  \n",
       "31782  NaN       NaN  \n",
       "31817  NaN       NaN  \n",
       "31844  NaN       NaN  \n",
       "31849  NaN       NaN  \n",
       "31868  NaN       NaN  "
      ]
     },
     "execution_count": 77,
     "metadata": {},
     "output_type": "execute_result"
    }
   ],
   "source": [
    "join[join['id'].isna()].head()"
   ]
  },
  {
   "cell_type": "code",
   "execution_count": 78,
   "metadata": {},
   "outputs": [
    {
     "data": {
      "text/plain": [
       "0.0005596420238559279"
      ]
     },
     "execution_count": 78,
     "metadata": {},
     "output_type": "execute_result"
    }
   ],
   "source": [
    "join[join['id'].isna()]['length'].sum()"
   ]
  },
  {
   "cell_type": "code",
   "execution_count": 79,
   "metadata": {},
   "outputs": [
    {
     "data": {
      "text/plain": [
       "7.254589757874274"
      ]
     },
     "execution_count": 79,
     "metadata": {},
     "output_type": "execute_result"
    }
   ],
   "source": [
    "join[join['id'].isna()]['car_vkm'].sum()"
   ]
  },
  {
   "cell_type": "code",
   "execution_count": 80,
   "metadata": {},
   "outputs": [
    {
     "name": "stdout",
     "output_type": "stream",
     "text": [
      "67 67\n"
     ]
    }
   ],
   "source": [
    "e = join[join['id'].isna()]['id_1']\n",
    "d = {x:int(join[(join['id_1'] == x) & (join['id'].isna())]['ix']) for x in e}\n",
    "\n",
    "print(len(d), len(e))"
   ]
  },
  {
   "cell_type": "code",
   "execution_count": 81,
   "metadata": {},
   "outputs": [
    {
     "data": {
      "text/plain": [
       "0"
      ]
     },
     "execution_count": 81,
     "metadata": {},
     "output_type": "execute_result"
    }
   ],
   "source": [
    "for i in d:\n",
    "    dd = join[join['id_1'] == i]\n",
    "    join.loc[join['ix'] == d[i],'id'] = dd[dd['index_right'] == dd['index_right'].max()]['id'].values[0]\n",
    "len(join[join['id'].isna()])"
   ]
  },
  {
   "cell_type": "markdown",
   "metadata": {},
   "source": [
    "#### Check Duplicates and delete if irrelevant"
   ]
  },
  {
   "cell_type": "code",
   "execution_count": 82,
   "metadata": {},
   "outputs": [
    {
     "data": {
      "text/html": [
       "<div>\n",
       "<style scoped>\n",
       "    .dataframe tbody tr th:only-of-type {\n",
       "        vertical-align: middle;\n",
       "    }\n",
       "\n",
       "    .dataframe tbody tr th {\n",
       "        vertical-align: top;\n",
       "    }\n",
       "\n",
       "    .dataframe thead th {\n",
       "        text-align: right;\n",
       "    }\n",
       "</style>\n",
       "<table border=\"1\" class=\"dataframe\">\n",
       "  <thead>\n",
       "    <tr style=\"text-align: right;\">\n",
       "      <th></th>\n",
       "      <th>ix</th>\n",
       "      <th>id</th>\n",
       "    </tr>\n",
       "  </thead>\n",
       "  <tbody>\n",
       "    <tr>\n",
       "      <th>31740</th>\n",
       "      <td>31740</td>\n",
       "      <td>2</td>\n",
       "    </tr>\n",
       "    <tr>\n",
       "      <th>31741</th>\n",
       "      <td>31741</td>\n",
       "      <td>2</td>\n",
       "    </tr>\n",
       "    <tr>\n",
       "      <th>31742</th>\n",
       "      <td>31742</td>\n",
       "      <td>2</td>\n",
       "    </tr>\n",
       "    <tr>\n",
       "      <th>31743</th>\n",
       "      <td>31743</td>\n",
       "      <td>2</td>\n",
       "    </tr>\n",
       "    <tr>\n",
       "      <th>31744</th>\n",
       "      <td>31744</td>\n",
       "      <td>2</td>\n",
       "    </tr>\n",
       "    <tr>\n",
       "      <th>31745</th>\n",
       "      <td>31745</td>\n",
       "      <td>2</td>\n",
       "    </tr>\n",
       "    <tr>\n",
       "      <th>31746</th>\n",
       "      <td>31746</td>\n",
       "      <td>2</td>\n",
       "    </tr>\n",
       "    <tr>\n",
       "      <th>31747</th>\n",
       "      <td>31747</td>\n",
       "      <td>2</td>\n",
       "    </tr>\n",
       "    <tr>\n",
       "      <th>31748</th>\n",
       "      <td>31748</td>\n",
       "      <td>2</td>\n",
       "    </tr>\n",
       "    <tr>\n",
       "      <th>31749</th>\n",
       "      <td>31749</td>\n",
       "      <td>2</td>\n",
       "    </tr>\n",
       "  </tbody>\n",
       "</table>\n",
       "</div>"
      ],
      "text/plain": [
       "          ix  id\n",
       "31740  31740   2\n",
       "31741  31741   2\n",
       "31742  31742   2\n",
       "31743  31743   2\n",
       "31744  31744   2\n",
       "31745  31745   2\n",
       "31746  31746   2\n",
       "31747  31747   2\n",
       "31748  31748   2\n",
       "31749  31749   2"
      ]
     },
     "execution_count": 82,
     "metadata": {},
     "output_type": "execute_result"
    }
   ],
   "source": [
    "# duplicates\n",
    "dup2 = join.groupby(['ix'])['id'].count().reset_index()\n",
    "dup2 = dup2[dup2['id'] > 1]\n",
    "dup2.head(10)"
   ]
  },
  {
   "cell_type": "code",
   "execution_count": 83,
   "metadata": {},
   "outputs": [
    {
     "data": {
      "text/plain": [
       "925"
      ]
     },
     "execution_count": 83,
     "metadata": {},
     "output_type": "execute_result"
    }
   ],
   "source": [
    "len(dup2)"
   ]
  },
  {
   "cell_type": "code",
   "execution_count": 84,
   "metadata": {},
   "outputs": [
    {
     "data": {
      "text/plain": [
       "925"
      ]
     },
     "execution_count": 84,
     "metadata": {},
     "output_type": "execute_result"
    }
   ],
   "source": [
    "ixes = dup2['ix']\n",
    "len(ixes)"
   ]
  },
  {
   "cell_type": "code",
   "execution_count": 85,
   "metadata": {},
   "outputs": [
    {
     "data": {
      "text/plain": [
       "1.341071944111103e-09"
      ]
     },
     "execution_count": 85,
     "metadata": {},
     "output_type": "execute_result"
    }
   ],
   "source": [
    "join[join['ix'].isin(ixes)]['length'].sum()"
   ]
  },
  {
   "cell_type": "code",
   "execution_count": 86,
   "metadata": {},
   "outputs": [
    {
     "data": {
      "text/plain": [
       "2.4178413769675784e-05"
      ]
     },
     "execution_count": 86,
     "metadata": {},
     "output_type": "execute_result"
    }
   ],
   "source": [
    "join[join['ix'].isin(ixes)]['car_vkm'].sum()"
   ]
  },
  {
   "cell_type": "code",
   "execution_count": 87,
   "metadata": {},
   "outputs": [
    {
     "data": {
      "text/plain": [
       "925"
      ]
     },
     "execution_count": 87,
     "metadata": {},
     "output_type": "execute_result"
    }
   ],
   "source": [
    "d = list()\n",
    "for x in ixes:\n",
    "    dd = join[join['ix'] == x]\n",
    "    dd = dd[dd['index_right'] != dd['index_right'].min()].index.tolist()\n",
    "    d.extend(dd)\n",
    "len(d)"
   ]
  },
  {
   "cell_type": "code",
   "execution_count": 88,
   "metadata": {},
   "outputs": [],
   "source": [
    "join = join.drop(d)"
   ]
  },
  {
   "cell_type": "code",
   "execution_count": 89,
   "metadata": {},
   "outputs": [
    {
     "name": "stdout",
     "output_type": "stream",
     "text": [
      "aggregierte Pkw-Fahrleistung aus join: 183.0 mio vkm\n",
      "aggregierte Güter-Fahrleistung aus join: lcv_vkm    20.0\n",
      "mft_vkm     4.0\n",
      "hft_vkm    11.0\n",
      "dtype: float64 mio vkm\n"
     ]
    }
   ],
   "source": [
    "pkm=round(join['car_vkm'].sum()/(1000*1000))\n",
    "print('aggregierte Pkw-Fahrleistung aus join: {} mio vkm'.format(pkm))\n",
    "pkm=round(join[['lcv_vkm','mft_vkm','hft_vkm']].sum()/(1000*1000))\n",
    "print('aggregierte Güter-Fahrleistung aus join: {} mio vkm'.format(pkm))"
   ]
  },
  {
   "cell_type": "code",
   "execution_count": 90,
   "metadata": {},
   "outputs": [
    {
     "data": {
      "text/plain": [
       "0"
      ]
     },
     "execution_count": 90,
     "metadata": {},
     "output_type": "execute_result"
    }
   ],
   "source": [
    "len(join) - len(line)"
   ]
  },
  {
   "cell_type": "markdown",
   "metadata": {},
   "source": [
    "## Determine NOx Emissions from Lines"
   ]
  },
  {
   "cell_type": "code",
   "execution_count": 91,
   "metadata": {},
   "outputs": [],
   "source": [
    "join['hft_vkm'] = join['hft_vkm'] + join['mft_vkm']"
   ]
  },
  {
   "cell_type": "code",
   "execution_count": 92,
   "metadata": {},
   "outputs": [
    {
     "data": {
      "text/html": [
       "<div>\n",
       "<style scoped>\n",
       "    .dataframe tbody tr th:only-of-type {\n",
       "        vertical-align: middle;\n",
       "    }\n",
       "\n",
       "    .dataframe tbody tr th {\n",
       "        vertical-align: top;\n",
       "    }\n",
       "\n",
       "    .dataframe thead th {\n",
       "        text-align: right;\n",
       "    }\n",
       "</style>\n",
       "<table border=\"1\" class=\"dataframe\">\n",
       "  <thead>\n",
       "    <tr style=\"text-align: right;\">\n",
       "      <th></th>\n",
       "      <th>index</th>\n",
       "      <th>id_1</th>\n",
       "      <th>fromnode</th>\n",
       "      <th>tonode</th>\n",
       "      <th>length</th>\n",
       "      <th>type</th>\n",
       "      <th>nuts_id</th>\n",
       "      <th>urban</th>\n",
       "      <th>car_vkm</th>\n",
       "      <th>lcv_vkm</th>\n",
       "      <th>...</th>\n",
       "      <th>hft_vkm</th>\n",
       "      <th>geometry</th>\n",
       "      <th>ix</th>\n",
       "      <th>index_right</th>\n",
       "      <th>id</th>\n",
       "      <th>scar_vkm</th>\n",
       "      <th>nox</th>\n",
       "      <th>efak_c</th>\n",
       "      <th>efak_l</th>\n",
       "      <th>efak_s</th>\n",
       "    </tr>\n",
       "  </thead>\n",
       "  <tbody>\n",
       "    <tr>\n",
       "      <th>0</th>\n",
       "      <td>0</td>\n",
       "      <td>80677104.0</td>\n",
       "      <td>80192562.0</td>\n",
       "      <td>80192249.0</td>\n",
       "      <td>0.553588</td>\n",
       "      <td>3.0</td>\n",
       "      <td>DE111</td>\n",
       "      <td>2.0</td>\n",
       "      <td>21160.480345</td>\n",
       "      <td>1660.860080</td>\n",
       "      <td>...</td>\n",
       "      <td>363.315700</td>\n",
       "      <td>LINESTRING (4257313.607 2850469.181, 4256760.3...</td>\n",
       "      <td>0</td>\n",
       "      <td>23377.0</td>\n",
       "      <td>1kmN5401E509</td>\n",
       "      <td>1.427552e+06</td>\n",
       "      <td>0.006823</td>\n",
       "      <td>0.246483</td>\n",
       "      <td>0.709656</td>\n",
       "      <td>1.178514</td>\n",
       "    </tr>\n",
       "    <tr>\n",
       "      <th>1</th>\n",
       "      <td>1</td>\n",
       "      <td>80677106.0</td>\n",
       "      <td>80192173.0</td>\n",
       "      <td>80192573.0</td>\n",
       "      <td>0.672780</td>\n",
       "      <td>3.0</td>\n",
       "      <td>DE111</td>\n",
       "      <td>2.0</td>\n",
       "      <td>25753.077206</td>\n",
       "      <td>2018.458701</td>\n",
       "      <td>...</td>\n",
       "      <td>441.540949</td>\n",
       "      <td>LINESTRING (4256649.412 2850493.491, 4257321.4...</td>\n",
       "      <td>1</td>\n",
       "      <td>23377.0</td>\n",
       "      <td>1kmN5401E509</td>\n",
       "      <td>1.427552e+06</td>\n",
       "      <td>0.008300</td>\n",
       "      <td>0.246483</td>\n",
       "      <td>0.709656</td>\n",
       "      <td>1.178514</td>\n",
       "    </tr>\n",
       "    <tr>\n",
       "      <th>2</th>\n",
       "      <td>2</td>\n",
       "      <td>80226542.0</td>\n",
       "      <td>80191870.0</td>\n",
       "      <td>80192057.0</td>\n",
       "      <td>0.017284</td>\n",
       "      <td>3.0</td>\n",
       "      <td>DE111</td>\n",
       "      <td>2.0</td>\n",
       "      <td>661.592122</td>\n",
       "      <td>51.853857</td>\n",
       "      <td>...</td>\n",
       "      <td>18.001089</td>\n",
       "      <td>LINESTRING (4256467.519 2850521.116, 4256484.7...</td>\n",
       "      <td>2</td>\n",
       "      <td>23377.0</td>\n",
       "      <td>1kmN5401E509</td>\n",
       "      <td>1.427552e+06</td>\n",
       "      <td>0.000221</td>\n",
       "      <td>0.246483</td>\n",
       "      <td>0.709656</td>\n",
       "      <td>1.178514</td>\n",
       "    </tr>\n",
       "    <tr>\n",
       "      <th>3</th>\n",
       "      <td>3</td>\n",
       "      <td>80278802.0</td>\n",
       "      <td>80192249.0</td>\n",
       "      <td>80192019.0</td>\n",
       "      <td>0.296463</td>\n",
       "      <td>3.0</td>\n",
       "      <td>DE111</td>\n",
       "      <td>1.0</td>\n",
       "      <td>11332.093143</td>\n",
       "      <td>889.442055</td>\n",
       "      <td>...</td>\n",
       "      <td>293.597773</td>\n",
       "      <td>LINESTRING (4256760.323 2850487.506, 4256467.7...</td>\n",
       "      <td>3</td>\n",
       "      <td>23377.0</td>\n",
       "      <td>1kmN5401E509</td>\n",
       "      <td>1.427552e+06</td>\n",
       "      <td>0.005470</td>\n",
       "      <td>0.339483</td>\n",
       "      <td>0.730588</td>\n",
       "      <td>3.313311</td>\n",
       "    </tr>\n",
       "    <tr>\n",
       "      <th>4</th>\n",
       "      <td>4</td>\n",
       "      <td>80871918.0</td>\n",
       "      <td>80192057.0</td>\n",
       "      <td>80192173.0</td>\n",
       "      <td>0.166724</td>\n",
       "      <td>3.0</td>\n",
       "      <td>DE111</td>\n",
       "      <td>1.0</td>\n",
       "      <td>6381.976388</td>\n",
       "      <td>500.202584</td>\n",
       "      <td>...</td>\n",
       "      <td>173.645541</td>\n",
       "      <td>LINESTRING (4256484.723 2850519.463, 4256649.4...</td>\n",
       "      <td>4</td>\n",
       "      <td>23377.0</td>\n",
       "      <td>1kmN5401E509</td>\n",
       "      <td>1.427552e+06</td>\n",
       "      <td>0.003107</td>\n",
       "      <td>0.339483</td>\n",
       "      <td>0.730588</td>\n",
       "      <td>3.313311</td>\n",
       "    </tr>\n",
       "  </tbody>\n",
       "</table>\n",
       "<p>5 rows × 21 columns</p>\n",
       "</div>"
      ],
      "text/plain": [
       "   index        id_1    fromnode      tonode    length  type nuts_id  urban  \\\n",
       "0      0  80677104.0  80192562.0  80192249.0  0.553588   3.0   DE111    2.0   \n",
       "1      1  80677106.0  80192173.0  80192573.0  0.672780   3.0   DE111    2.0   \n",
       "2      2  80226542.0  80191870.0  80192057.0  0.017284   3.0   DE111    2.0   \n",
       "3      3  80278802.0  80192249.0  80192019.0  0.296463   3.0   DE111    1.0   \n",
       "4      4  80871918.0  80192057.0  80192173.0  0.166724   3.0   DE111    1.0   \n",
       "\n",
       "        car_vkm      lcv_vkm  ...     hft_vkm  \\\n",
       "0  21160.480345  1660.860080  ...  363.315700   \n",
       "1  25753.077206  2018.458701  ...  441.540949   \n",
       "2    661.592122    51.853857  ...   18.001089   \n",
       "3  11332.093143   889.442055  ...  293.597773   \n",
       "4   6381.976388   500.202584  ...  173.645541   \n",
       "\n",
       "                                            geometry ix  index_right  \\\n",
       "0  LINESTRING (4257313.607 2850469.181, 4256760.3...  0      23377.0   \n",
       "1  LINESTRING (4256649.412 2850493.491, 4257321.4...  1      23377.0   \n",
       "2  LINESTRING (4256467.519 2850521.116, 4256484.7...  2      23377.0   \n",
       "3  LINESTRING (4256760.323 2850487.506, 4256467.7...  3      23377.0   \n",
       "4  LINESTRING (4256484.723 2850519.463, 4256649.4...  4      23377.0   \n",
       "\n",
       "             id      scar_vkm       nox    efak_c    efak_l    efak_s  \n",
       "0  1kmN5401E509  1.427552e+06  0.006823  0.246483  0.709656  1.178514  \n",
       "1  1kmN5401E509  1.427552e+06  0.008300  0.246483  0.709656  1.178514  \n",
       "2  1kmN5401E509  1.427552e+06  0.000221  0.246483  0.709656  1.178514  \n",
       "3  1kmN5401E509  1.427552e+06  0.005470  0.339483  0.730588  3.313311  \n",
       "4  1kmN5401E509  1.427552e+06  0.003107  0.339483  0.730588  3.313311  \n",
       "\n",
       "[5 rows x 21 columns]"
      ]
     },
     "execution_count": 92,
     "metadata": {},
     "output_type": "execute_result"
    }
   ],
   "source": [
    "join['nox'] = 0\n",
    "join['efak_c'] = 0\n",
    "join['efak_l'] = 0\n",
    "join['efak_s'] = 0\n",
    "# urban\n",
    "join.loc[join['urban'] == 1, 'efak_c'] = 0.339482826\n",
    "join.loc[join['urban'] == 1, 'efak_l'] = 0.730588175\n",
    "join.loc[join['urban'] == 1, 'efak_s'] = 3.313310965\n",
    "#join.loc[join['urban'] == 1, 'nox'] = join.loc[join['urban'==1], 'car_vkm']*0.339482826 + join.loc[join['urban'==1], 'lcv_vkm']*0.730588175 + join.loc[join['urban'==1], 'hft_vkm']*3.313310965\n",
    "\n",
    "# non urban\n",
    "join.loc[join['urban'] == 2, 'efak_c'] = 0.246482558\n",
    "join.loc[join['urban'] == 2, 'efak_l'] = 0.70965557\n",
    "join.loc[join['urban'] == 2, 'efak_s'] = 1.178513993\n",
    "#join.loc[join['urban'] == 2, 'nox'] = join.loc[join['urban'==1], 'car_vkm']*0.246482558 + join.loc[join['urban'==1], 'lcv_vkm']*0.70965557 + join.loc[join['urban'==1], 'hft_vkm']*1.178513993\n",
    "# motorway\n",
    "join.loc[join['urban'] == 3, 'efak_c'] = 0.453077526\n",
    "join.loc[join['urban'] == 3, 'efak_l'] = 1.352543967\n",
    "join.loc[join['urban'] == 3, 'efak_s'] = 1.040100617\n",
    "#join.loc[join['urban'] == 3, 'nox'] = join.loc[join['urban'==1], 'car_vkm']*0.453077526 + join.loc[join['urban'==1], 'lcv_vkm']*1.352543967 + join.loc[join['urban'==1], 'hft_vkm']*1.040100617\n",
    "\n",
    "join['nox'] = join['car_vkm']*join['efak_c'] + join['lcv_vkm']*join['efak_l'] + join['hft_vkm']*join['efak_s'] \n",
    "join['nox'] = join['nox']/(1000*1000) # convert to t\n",
    "join.head()"
   ]
  },
  {
   "cell_type": "code",
   "execution_count": 93,
   "metadata": {},
   "outputs": [
    {
     "name": "stdout",
     "output_type": "stream",
     "text": [
      "aggregierte NOx Emissionen: 107.0 t\n"
     ]
    }
   ],
   "source": [
    "nox=round(join['nox'].sum()/1)\n",
    "print('aggregierte NOx Emissionen: {} t'.format(nox))"
   ]
  },
  {
   "cell_type": "markdown",
   "metadata": {},
   "source": [
    "### Aggregate NOx per grid-cell"
   ]
  },
  {
   "cell_type": "code",
   "execution_count": 94,
   "metadata": {},
   "outputs": [
    {
     "data": {
      "text/html": [
       "<div>\n",
       "<style scoped>\n",
       "    .dataframe tbody tr th:only-of-type {\n",
       "        vertical-align: middle;\n",
       "    }\n",
       "\n",
       "    .dataframe tbody tr th {\n",
       "        vertical-align: top;\n",
       "    }\n",
       "\n",
       "    .dataframe thead th {\n",
       "        text-align: right;\n",
       "    }\n",
       "</style>\n",
       "<table border=\"1\" class=\"dataframe\">\n",
       "  <thead>\n",
       "    <tr style=\"text-align: right;\">\n",
       "      <th></th>\n",
       "      <th>id</th>\n",
       "      <th>nox</th>\n",
       "    </tr>\n",
       "  </thead>\n",
       "  <tbody>\n",
       "    <tr>\n",
       "      <th>0</th>\n",
       "      <td>1kmN5266E400</td>\n",
       "      <td>0.000119</td>\n",
       "    </tr>\n",
       "    <tr>\n",
       "      <th>1</th>\n",
       "      <td>1kmN5266E401</td>\n",
       "      <td>0.002548</td>\n",
       "    </tr>\n",
       "    <tr>\n",
       "      <th>2</th>\n",
       "      <td>1kmN5266E402</td>\n",
       "      <td>0.007913</td>\n",
       "    </tr>\n",
       "    <tr>\n",
       "      <th>3</th>\n",
       "      <td>1kmN5266E403</td>\n",
       "      <td>0.005631</td>\n",
       "    </tr>\n",
       "    <tr>\n",
       "      <th>4</th>\n",
       "      <td>1kmN5266E404</td>\n",
       "      <td>0.007432</td>\n",
       "    </tr>\n",
       "    <tr>\n",
       "      <th>5</th>\n",
       "      <td>1kmN5266E405</td>\n",
       "      <td>0.006458</td>\n",
       "    </tr>\n",
       "    <tr>\n",
       "      <th>6</th>\n",
       "      <td>1kmN5266E406</td>\n",
       "      <td>0.006093</td>\n",
       "    </tr>\n",
       "    <tr>\n",
       "      <th>7</th>\n",
       "      <td>1kmN5266E420</td>\n",
       "      <td>0.005841</td>\n",
       "    </tr>\n",
       "    <tr>\n",
       "      <th>8</th>\n",
       "      <td>1kmN5267E397</td>\n",
       "      <td>0.000972</td>\n",
       "    </tr>\n",
       "    <tr>\n",
       "      <th>9</th>\n",
       "      <td>1kmN5267E398</td>\n",
       "      <td>0.007993</td>\n",
       "    </tr>\n",
       "  </tbody>\n",
       "</table>\n",
       "</div>"
      ],
      "text/plain": [
       "             id       nox\n",
       "0  1kmN5266E400  0.000119\n",
       "1  1kmN5266E401  0.002548\n",
       "2  1kmN5266E402  0.007913\n",
       "3  1kmN5266E403  0.005631\n",
       "4  1kmN5266E404  0.007432\n",
       "5  1kmN5266E405  0.006458\n",
       "6  1kmN5266E406  0.006093\n",
       "7  1kmN5266E420  0.005841\n",
       "8  1kmN5267E397  0.000972\n",
       "9  1kmN5267E398  0.007993"
      ]
     },
     "execution_count": 94,
     "metadata": {},
     "output_type": "execute_result"
    }
   ],
   "source": [
    "group=join.groupby('id')['nox'].sum().reset_index()\n",
    "group.head(10)"
   ]
  },
  {
   "cell_type": "code",
   "execution_count": 95,
   "metadata": {},
   "outputs": [
    {
     "name": "stdout",
     "output_type": "stream",
     "text": [
      "aggregierte NOx Emissionen: 107.0 t\n"
     ]
    }
   ],
   "source": [
    "nox=round(group['nox'].sum()/(1))\n",
    "print('aggregierte NOx Emissionen: {} t'.format(nox))"
   ]
  },
  {
   "cell_type": "markdown",
   "metadata": {},
   "source": [
    "#### Merge aggregeted NOx emissions to grid cells"
   ]
  },
  {
   "cell_type": "code",
   "execution_count": 96,
   "metadata": {},
   "outputs": [
    {
     "data": {
      "text/plain": [
       "6255"
      ]
     },
     "execution_count": 96,
     "metadata": {},
     "output_type": "execute_result"
    }
   ],
   "source": [
    "len(group)"
   ]
  },
  {
   "cell_type": "code",
   "execution_count": 97,
   "metadata": {},
   "outputs": [
    {
     "data": {
      "text/html": [
       "<div>\n",
       "<style scoped>\n",
       "    .dataframe tbody tr th:only-of-type {\n",
       "        vertical-align: middle;\n",
       "    }\n",
       "\n",
       "    .dataframe tbody tr th {\n",
       "        vertical-align: top;\n",
       "    }\n",
       "\n",
       "    .dataframe thead th {\n",
       "        text-align: right;\n",
       "    }\n",
       "</style>\n",
       "<table border=\"1\" class=\"dataframe\">\n",
       "  <thead>\n",
       "    <tr style=\"text-align: right;\">\n",
       "      <th></th>\n",
       "      <th>index</th>\n",
       "      <th>rowid</th>\n",
       "      <th>featuretyp</th>\n",
       "      <th>dataset_na</th>\n",
       "      <th>OBJECTID</th>\n",
       "      <th>id</th>\n",
       "      <th>x_sw</th>\n",
       "      <th>y_sw</th>\n",
       "      <th>x_mp</th>\n",
       "      <th>y_mp</th>\n",
       "      <th>...</th>\n",
       "      <th>SHAPE_Ar_1</th>\n",
       "      <th>_sum_x</th>\n",
       "      <th>geometry</th>\n",
       "      <th>index_right</th>\n",
       "      <th>nuts_id</th>\n",
       "      <th>secondary</th>\n",
       "      <th>_sum_y</th>\n",
       "      <th>scar_vkm</th>\n",
       "      <th>nox_x</th>\n",
       "      <th>nox_y</th>\n",
       "    </tr>\n",
       "  </thead>\n",
       "  <tbody>\n",
       "    <tr>\n",
       "      <th>0</th>\n",
       "      <td>0</td>\n",
       "      <td>1202.0</td>\n",
       "      <td>DE_Grid_ETRS89-UTM32_1km</td>\n",
       "      <td>de_grid_utm32_1km</td>\n",
       "      <td>1202</td>\n",
       "      <td>1kmN5265E399</td>\n",
       "      <td>399000.0</td>\n",
       "      <td>5265000.0</td>\n",
       "      <td>399500.0</td>\n",
       "      <td>5265500.0</td>\n",
       "      <td>...</td>\n",
       "      <td>8.151755e+10</td>\n",
       "      <td>180.808108</td>\n",
       "      <td>POLYGON ((4145049.219 2716779.268, 4145587.602...</td>\n",
       "      <td>33.0</td>\n",
       "      <td>DE139</td>\n",
       "      <td>2.327335e+08</td>\n",
       "      <td>243797.384967</td>\n",
       "      <td>1.726028e+05</td>\n",
       "      <td>0.000160</td>\n",
       "      <td>NaN</td>\n",
       "    </tr>\n",
       "    <tr>\n",
       "      <th>1</th>\n",
       "      <td>1</td>\n",
       "      <td>1203.0</td>\n",
       "      <td>DE_Grid_ETRS89-UTM32_1km</td>\n",
       "      <td>de_grid_utm32_1km</td>\n",
       "      <td>1203</td>\n",
       "      <td>1kmN5265E400</td>\n",
       "      <td>400000.0</td>\n",
       "      <td>5265000.0</td>\n",
       "      <td>400500.0</td>\n",
       "      <td>5265500.0</td>\n",
       "      <td>...</td>\n",
       "      <td>8.151755e+10</td>\n",
       "      <td>804.211853</td>\n",
       "      <td>POLYGON ((4145580.204 2716219.458, 4145587.602...</td>\n",
       "      <td>33.0</td>\n",
       "      <td>DE139</td>\n",
       "      <td>2.327335e+08</td>\n",
       "      <td>243797.384967</td>\n",
       "      <td>7.677156e+05</td>\n",
       "      <td>0.000714</td>\n",
       "      <td>NaN</td>\n",
       "    </tr>\n",
       "    <tr>\n",
       "      <th>2</th>\n",
       "      <td>2</td>\n",
       "      <td>1204.0</td>\n",
       "      <td>DE_Grid_ETRS89-UTM32_1km</td>\n",
       "      <td>de_grid_utm32_1km</td>\n",
       "      <td>1204</td>\n",
       "      <td>1kmN5265E401</td>\n",
       "      <td>401000.0</td>\n",
       "      <td>5265000.0</td>\n",
       "      <td>401500.0</td>\n",
       "      <td>5265500.0</td>\n",
       "      <td>...</td>\n",
       "      <td>8.151755e+10</td>\n",
       "      <td>1133.568177</td>\n",
       "      <td>POLYGON ((4146577.415 2715940.046, 4146588.363...</td>\n",
       "      <td>33.0</td>\n",
       "      <td>DE139</td>\n",
       "      <td>2.327335e+08</td>\n",
       "      <td>243797.384967</td>\n",
       "      <td>1.082125e+06</td>\n",
       "      <td>0.001006</td>\n",
       "      <td>NaN</td>\n",
       "    </tr>\n",
       "    <tr>\n",
       "      <th>3</th>\n",
       "      <td>3</td>\n",
       "      <td>1205.0</td>\n",
       "      <td>DE_Grid_ETRS89-UTM32_1km</td>\n",
       "      <td>de_grid_utm32_1km</td>\n",
       "      <td>1205</td>\n",
       "      <td>1kmN5265E402</td>\n",
       "      <td>402000.0</td>\n",
       "      <td>5265000.0</td>\n",
       "      <td>402500.0</td>\n",
       "      <td>5265500.0</td>\n",
       "      <td>...</td>\n",
       "      <td>8.151755e+10</td>\n",
       "      <td>416.022656</td>\n",
       "      <td>POLYGON ((4147578.976 2715984.983, 4147589.127...</td>\n",
       "      <td>33.0</td>\n",
       "      <td>DE139</td>\n",
       "      <td>2.327335e+08</td>\n",
       "      <td>243797.384967</td>\n",
       "      <td>3.971430e+05</td>\n",
       "      <td>0.000369</td>\n",
       "      <td>NaN</td>\n",
       "    </tr>\n",
       "    <tr>\n",
       "      <th>4</th>\n",
       "      <td>4</td>\n",
       "      <td>1206.0</td>\n",
       "      <td>DE_Grid_ETRS89-UTM32_1km</td>\n",
       "      <td>de_grid_utm32_1km</td>\n",
       "      <td>1206</td>\n",
       "      <td>1kmN5265E403</td>\n",
       "      <td>403000.0</td>\n",
       "      <td>5265000.0</td>\n",
       "      <td>403500.0</td>\n",
       "      <td>5265500.0</td>\n",
       "      <td>...</td>\n",
       "      <td>8.151755e+10</td>\n",
       "      <td>24.337452</td>\n",
       "      <td>POLYGON ((4148587.305 2716535.038, 4148589.895...</td>\n",
       "      <td>33.0</td>\n",
       "      <td>DE139</td>\n",
       "      <td>2.327335e+08</td>\n",
       "      <td>243797.384967</td>\n",
       "      <td>2.323298e+04</td>\n",
       "      <td>0.000022</td>\n",
       "      <td>NaN</td>\n",
       "    </tr>\n",
       "  </tbody>\n",
       "</table>\n",
       "<p>5 rows × 48 columns</p>\n",
       "</div>"
      ],
      "text/plain": [
       "   index   rowid                featuretyp         dataset_na  OBJECTID  \\\n",
       "0      0  1202.0  DE_Grid_ETRS89-UTM32_1km  de_grid_utm32_1km      1202   \n",
       "1      1  1203.0  DE_Grid_ETRS89-UTM32_1km  de_grid_utm32_1km      1203   \n",
       "2      2  1204.0  DE_Grid_ETRS89-UTM32_1km  de_grid_utm32_1km      1204   \n",
       "3      3  1205.0  DE_Grid_ETRS89-UTM32_1km  de_grid_utm32_1km      1205   \n",
       "4      4  1206.0  DE_Grid_ETRS89-UTM32_1km  de_grid_utm32_1km      1206   \n",
       "\n",
       "             id      x_sw       y_sw      x_mp       y_mp  ...    SHAPE_Ar_1  \\\n",
       "0  1kmN5265E399  399000.0  5265000.0  399500.0  5265500.0  ...  8.151755e+10   \n",
       "1  1kmN5265E400  400000.0  5265000.0  400500.0  5265500.0  ...  8.151755e+10   \n",
       "2  1kmN5265E401  401000.0  5265000.0  401500.0  5265500.0  ...  8.151755e+10   \n",
       "3  1kmN5265E402  402000.0  5265000.0  402500.0  5265500.0  ...  8.151755e+10   \n",
       "4  1kmN5265E403  403000.0  5265000.0  403500.0  5265500.0  ...  8.151755e+10   \n",
       "\n",
       "        _sum_x                                           geometry  \\\n",
       "0   180.808108  POLYGON ((4145049.219 2716779.268, 4145587.602...   \n",
       "1   804.211853  POLYGON ((4145580.204 2716219.458, 4145587.602...   \n",
       "2  1133.568177  POLYGON ((4146577.415 2715940.046, 4146588.363...   \n",
       "3   416.022656  POLYGON ((4147578.976 2715984.983, 4147589.127...   \n",
       "4    24.337452  POLYGON ((4148587.305 2716535.038, 4148589.895...   \n",
       "\n",
       "   index_right  nuts_id     secondary         _sum_y      scar_vkm     nox_x  \\\n",
       "0         33.0    DE139  2.327335e+08  243797.384967  1.726028e+05  0.000160   \n",
       "1         33.0    DE139  2.327335e+08  243797.384967  7.677156e+05  0.000714   \n",
       "2         33.0    DE139  2.327335e+08  243797.384967  1.082125e+06  0.001006   \n",
       "3         33.0    DE139  2.327335e+08  243797.384967  3.971430e+05  0.000369   \n",
       "4         33.0    DE139  2.327335e+08  243797.384967  2.323298e+04  0.000022   \n",
       "\n",
       "  nox_y  \n",
       "0   NaN  \n",
       "1   NaN  \n",
       "2   NaN  \n",
       "3   NaN  \n",
       "4   NaN  \n",
       "\n",
       "[5 rows x 48 columns]"
      ]
     },
     "execution_count": 97,
     "metadata": {},
     "output_type": "execute_result"
    }
   ],
   "source": [
    "df_merge=pd.merge(grid_sec, group, on='id', how = 'left')\n",
    "df_merge.head()"
   ]
  },
  {
   "cell_type": "code",
   "execution_count": 98,
   "metadata": {},
   "outputs": [
    {
     "data": {
      "text/plain": [
       "30392"
      ]
     },
     "execution_count": 98,
     "metadata": {},
     "output_type": "execute_result"
    }
   ],
   "source": [
    "len(df_merge[df_merge['nox_y'].isna()])"
   ]
  },
  {
   "cell_type": "code",
   "execution_count": 99,
   "metadata": {},
   "outputs": [
    {
     "data": {
      "text/plain": [
       "30392"
      ]
     },
     "execution_count": 99,
     "metadata": {},
     "output_type": "execute_result"
    }
   ],
   "source": [
    "len(grid_sec)-len(group)"
   ]
  },
  {
   "cell_type": "markdown",
   "metadata": {},
   "source": [
    "for all grid cells without a road within, nox from line shape are set to 0"
   ]
  },
  {
   "cell_type": "code",
   "execution_count": 100,
   "metadata": {},
   "outputs": [],
   "source": [
    "df_merge= df_merge.fillna(0)"
   ]
  },
  {
   "cell_type": "code",
   "execution_count": 101,
   "metadata": {},
   "outputs": [],
   "source": [
    "df_merge['nox'] = df_merge['nox_x'] + df_merge['nox_y']"
   ]
  },
  {
   "cell_type": "code",
   "execution_count": 102,
   "metadata": {},
   "outputs": [
    {
     "name": "stdout",
     "output_type": "stream",
     "text": [
      "aggregierte NOx Emissionen gesamt: 118.4598 t\n",
      "davon aus lines: 106.6107 t\n",
      "davon aus secondary: 11.8491 t\n"
     ]
    }
   ],
   "source": [
    "nox=round(df_merge['nox'].sum(), 4)\n",
    "nox_x=round(df_merge['nox_x'].sum(), 4)\n",
    "nox_y=round(df_merge['nox_y'].sum(), 4)\n",
    "print('aggregierte NOx Emissionen gesamt: {} t'.format(nox))\n",
    "print('davon aus lines: {} t'.format(nox_y))\n",
    "print('davon aus secondary: {} t'.format(nox_x))"
   ]
  },
  {
   "cell_type": "markdown",
   "metadata": {},
   "source": [
    "# Plot Grid"
   ]
  },
  {
   "cell_type": "code",
   "execution_count": 103,
   "metadata": {},
   "outputs": [],
   "source": [
    "import cartopy as ctpy"
   ]
  },
  {
   "cell_type": "code",
   "execution_count": 104,
   "metadata": {},
   "outputs": [],
   "source": [
    "def plot_grid(grid, fig_label, title1, col1, leg):\n",
    "    # Reproj\n",
    "    crs = ctpy.crs.Mollweide()\n",
    "    crs_proj4 = crs.proj4_init\n",
    "    geom_reproj = grid.to_crs(crs_proj4)\n",
    "    # Plot\n",
    "    fig = plt.figure()\n",
    "    fig.set_label(fig_label)\n",
    "    \n",
    "    ax1 = fig.add_subplot(1,1,1, projection=crs, label = 'no1')\n",
    "    ax1.add_feature(ctpy.feature.COASTLINE)\n",
    "    ax1.set_title(title1)\n",
    "    geom_reproj.plot(ax=ax1, column= col1,cmap='Spectral_r', legend=True,legend_kwds= {'label':leg})#, vmax=150)\n",
    "    \n",
    "    fig.tight_layout()"
   ]
  },
  {
   "cell_type": "code",
   "execution_count": 105,
   "metadata": {},
   "outputs": [
    {
     "data": {
      "application/vnd.jupyter.widget-view+json": {
       "model_id": "a2b9cdf08ac44233b0989abfc5355e03",
       "version_major": 2,
       "version_minor": 0
      },
      "text/plain": [
       "Canvas(toolbar=Toolbar(toolitems=[('Home', 'Reset original view', 'home', 'home'), ('Back', 'Back to previous …"
      ]
     },
     "metadata": {},
     "output_type": "display_data"
    },
    {
     "name": "stderr",
     "output_type": "stream",
     "text": [
      "C:\\Users\\thom_nn\\.conda\\envs\\geo_basics\\lib\\site-packages\\ipykernel_launcher.py:15: UserWarning: Tight layout not applied. The left and right margins cannot be made large enough to accommodate all axes decorations. \n",
      "  from ipykernel import kernelapp as app\n"
     ]
    }
   ],
   "source": [
    "plot_grid(df_merge, 'bw-nox-1x1', 'NOx Emissions from Road-Based Transport in Baden-Württemberg', 'nox','t NOx/sqkm')"
   ]
  },
  {
   "cell_type": "code",
   "execution_count": 106,
   "metadata": {},
   "outputs": [],
   "source": [
    "plt.close('all')"
   ]
  },
  {
   "cell_type": "code",
   "execution_count": 107,
   "metadata": {},
   "outputs": [],
   "source": [
    "# export\n",
    "df_merge[['id', 'OBJECTID', 'nuts_id', 'nox_x', 'nox_y', 'nox', 'geometry']].to_file(path_ + 'bawue/bw-grid-nox-1x1km')"
   ]
  },
  {
   "cell_type": "code",
   "execution_count": null,
   "metadata": {},
   "outputs": [],
   "source": []
  }
 ],
 "metadata": {
  "kernelspec": {
   "display_name": "Python 3.7",
   "language": "python",
   "name": "py37"
  },
  "language_info": {
   "codemirror_mode": {
    "name": "ipython",
    "version": 3
   },
   "file_extension": ".py",
   "mimetype": "text/x-python",
   "name": "python",
   "nbconvert_exporter": "python",
   "pygments_lexer": "ipython3",
   "version": "3.7.6"
  }
 },
 "nbformat": 4,
 "nbformat_minor": 4
}
