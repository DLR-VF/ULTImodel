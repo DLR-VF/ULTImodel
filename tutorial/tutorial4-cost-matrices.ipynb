{
 "cells": [
  {
   "cell_type": "markdown",
   "id": "fdbfbaae-cb92-47e5-983e-3d2cdf425b65",
   "metadata": {
    "tags": []
   },
   "source": [
    "# ULTImodel tutorial: Create cost matrices\n",
    "\n",
    "The distribution in the gravity model is based on the cost of travel between TAZ. In ULTImodel, the cost of travel comprises of travel times and distances. Therefore, the connectors set in tutorial2 will be used as start and end coordinates for OSRM requests in the `Matrix` class."
   ]
  },
  {
   "cell_type": "markdown",
   "id": "58bcfc50-4ba2-43b6-8c73-f09913e7fa24",
   "metadata": {},
   "source": [
    "The inputs are:\n",
    "- TAZ as GeoDataFrame\n",
    "- Connectors as GeoDataFrame (from tutorial2)"
   ]
  },
  {
   "cell_type": "markdown",
   "id": "2bf9121c-be68-4e37-8422-22a757320206",
   "metadata": {},
   "source": [
    "## Import packages"
   ]
  },
  {
   "cell_type": "code",
   "execution_count": 1,
   "id": "4f741a0b-9288-4570-b81a-c48a53d9a585",
   "metadata": {},
   "outputs": [],
   "source": [
    "# for network creation\n",
    "from ultimodel import Matrices"
   ]
  },
  {
   "cell_type": "code",
   "execution_count": 2,
   "id": "cdeb7d57-8c0f-4345-bcfb-af5054cfbc81",
   "metadata": {},
   "outputs": [],
   "source": [
    "# for reading and saving files etc.\n",
    "import geopandas as gpd\n",
    "import pandas as pd\n",
    "import numpy as np\n",
    "# for time tracking\n",
    "from datetime import datetime"
   ]
  },
  {
   "cell_type": "markdown",
   "id": "7a2d87e8-dcc7-440d-9023-ca04d5605b67",
   "metadata": {
    "tags": []
   },
   "source": [
    "## Read input: TAZ and connectors\n",
    "\n",
    "The input includes georeferenced TAZ in `EPSG:4326` with the following _required_ attributes (columns):\n",
    "\n",
    "* __ID__ | field including a unique ID, e.g. the NUTS ID\n",
    "* __Country__ | field containing the ISO-2 code of the respective country\n",
    "\n",
    "Other attributes like name, population etc. can be added, but are not required for the following steps.\n",
    "\n",
    "The connector nodes per TAZ in `EPSG:4326`, as created in `tutorial2`, are also imported."
   ]
  },
  {
   "cell_type": "code",
   "execution_count": 3,
   "id": "266fe53a-5b30-40a4-a3cf-51c0ae05ca2a",
   "metadata": {},
   "outputs": [
    {
     "data": {
      "text/html": [
       "<div>\n",
       "<style scoped>\n",
       "    .dataframe tbody tr th:only-of-type {\n",
       "        vertical-align: middle;\n",
       "    }\n",
       "\n",
       "    .dataframe tbody tr th {\n",
       "        vertical-align: top;\n",
       "    }\n",
       "\n",
       "    .dataframe thead th {\n",
       "        text-align: right;\n",
       "    }\n",
       "</style>\n",
       "<table border=\"1\" class=\"dataframe\">\n",
       "  <thead>\n",
       "    <tr style=\"text-align: right;\">\n",
       "      <th></th>\n",
       "      <th>nuts_id</th>\n",
       "      <th>cntr_code</th>\n",
       "      <th>nuts_name</th>\n",
       "      <th>geometry</th>\n",
       "    </tr>\n",
       "  </thead>\n",
       "  <tbody>\n",
       "    <tr>\n",
       "      <th>0</th>\n",
       "      <td>FI193</td>\n",
       "      <td>FI</td>\n",
       "      <td>Keski-Suomi</td>\n",
       "      <td>MULTIPOLYGON (((26.13865 63.45759, 26.16055 63...</td>\n",
       "    </tr>\n",
       "    <tr>\n",
       "      <th>1</th>\n",
       "      <td>FI194</td>\n",
       "      <td>FI</td>\n",
       "      <td>Etelä-Pohjanmaa</td>\n",
       "      <td>MULTIPOLYGON (((21.64783 62.01959, 21.63880 62...</td>\n",
       "    </tr>\n",
       "    <tr>\n",
       "      <th>2</th>\n",
       "      <td>FI195</td>\n",
       "      <td>FI</td>\n",
       "      <td>Pohjanmaa</td>\n",
       "      <td>MULTIPOLYGON (((21.64783 62.01959, 21.52578 62...</td>\n",
       "    </tr>\n",
       "    <tr>\n",
       "      <th>3</th>\n",
       "      <td>FI196</td>\n",
       "      <td>FI</td>\n",
       "      <td>Satakunta</td>\n",
       "      <td>MULTIPOLYGON (((21.41993 61.04744, 21.42015 61...</td>\n",
       "    </tr>\n",
       "    <tr>\n",
       "      <th>4</th>\n",
       "      <td>FI197</td>\n",
       "      <td>FI</td>\n",
       "      <td>Pirkanmaa</td>\n",
       "      <td>MULTIPOLYGON (((22.83124 62.27089, 22.90118 62...</td>\n",
       "    </tr>\n",
       "  </tbody>\n",
       "</table>\n",
       "</div>"
      ],
      "text/plain": [
       "  nuts_id cntr_code        nuts_name                                           geometry\n",
       "0   FI193        FI      Keski-Suomi  MULTIPOLYGON (((26.13865 63.45759, 26.16055 63...\n",
       "1   FI194        FI  Etelä-Pohjanmaa  MULTIPOLYGON (((21.64783 62.01959, 21.63880 62...\n",
       "2   FI195        FI        Pohjanmaa  MULTIPOLYGON (((21.64783 62.01959, 21.52578 62...\n",
       "3   FI196        FI        Satakunta  MULTIPOLYGON (((21.41993 61.04744, 21.42015 61...\n",
       "4   FI197        FI        Pirkanmaa  MULTIPOLYGON (((22.83124 62.27089, 22.90118 62..."
      ]
     },
     "execution_count": 3,
     "metadata": {},
     "output_type": "execute_result"
    }
   ],
   "source": [
    "# load taz from database or local\n",
    "taz = gpd.GeoDataFrame.from_file('tutorial-files/_input/taz-tutorial.gpkg')\n",
    "\n",
    "# defining ID, country and geometry column names of taz\n",
    "taz_id = \"nuts_id\"\n",
    "taz_cn = \"cntr_code\"\n",
    "taz_geo = \"geometry\"\n",
    "\n",
    "taz.head()"
   ]
  },
  {
   "cell_type": "code",
   "execution_count": 4,
   "id": "7af310e5-5973-414a-82fd-989ca3397cdf",
   "metadata": {},
   "outputs": [],
   "source": [
    "path_import = 'tutorial-files/tutorial2/'"
   ]
  },
  {
   "cell_type": "code",
   "execution_count": 5,
   "id": "1bbc6393-1d0c-441c-b274-2aa10d49f5c4",
   "metadata": {},
   "outputs": [
    {
     "data": {
      "text/html": [
       "<div>\n",
       "<style scoped>\n",
       "    .dataframe tbody tr th:only-of-type {\n",
       "        vertical-align: middle;\n",
       "    }\n",
       "\n",
       "    .dataframe tbody tr th {\n",
       "        vertical-align: top;\n",
       "    }\n",
       "\n",
       "    .dataframe thead th {\n",
       "        text-align: right;\n",
       "    }\n",
       "</style>\n",
       "<table border=\"1\" class=\"dataframe\">\n",
       "  <thead>\n",
       "    <tr style=\"text-align: right;\">\n",
       "      <th></th>\n",
       "      <th>node_id</th>\n",
       "      <th>nuts_id</th>\n",
       "      <th>c_n</th>\n",
       "      <th>weight</th>\n",
       "      <th>geometry</th>\n",
       "    </tr>\n",
       "  </thead>\n",
       "  <tbody>\n",
       "    <tr>\n",
       "      <th>0</th>\n",
       "      <td>10002098</td>\n",
       "      <td>FI193</td>\n",
       "      <td>0</td>\n",
       "      <td>0.300759</td>\n",
       "      <td>POINT (26.13884 62.24631)</td>\n",
       "    </tr>\n",
       "    <tr>\n",
       "      <th>1</th>\n",
       "      <td>10001123</td>\n",
       "      <td>FI193</td>\n",
       "      <td>1</td>\n",
       "      <td>0.059247</td>\n",
       "      <td>POINT (24.59288 62.58921)</td>\n",
       "    </tr>\n",
       "    <tr>\n",
       "      <th>2</th>\n",
       "      <td>10001498</td>\n",
       "      <td>FI193</td>\n",
       "      <td>2</td>\n",
       "      <td>0.027741</td>\n",
       "      <td>POINT (25.06013 63.01714)</td>\n",
       "    </tr>\n",
       "    <tr>\n",
       "      <th>3</th>\n",
       "      <td>10001991</td>\n",
       "      <td>FI193</td>\n",
       "      <td>3</td>\n",
       "      <td>0.041949</td>\n",
       "      <td>POINT (25.86502 63.07544)</td>\n",
       "    </tr>\n",
       "    <tr>\n",
       "      <th>4</th>\n",
       "      <td>10001575</td>\n",
       "      <td>FI193</td>\n",
       "      <td>4</td>\n",
       "      <td>0.097001</td>\n",
       "      <td>POINT (25.17530 61.85061)</td>\n",
       "    </tr>\n",
       "  </tbody>\n",
       "</table>\n",
       "</div>"
      ],
      "text/plain": [
       "    node_id nuts_id c_n    weight                   geometry\n",
       "0  10002098   FI193   0  0.300759  POINT (26.13884 62.24631)\n",
       "1  10001123   FI193   1  0.059247  POINT (24.59288 62.58921)\n",
       "2  10001498   FI193   2  0.027741  POINT (25.06013 63.01714)\n",
       "3  10001991   FI193   3  0.041949  POINT (25.86502 63.07544)\n",
       "4  10001575   FI193   4  0.097001  POINT (25.17530 61.85061)"
      ]
     },
     "execution_count": 5,
     "metadata": {},
     "output_type": "execute_result"
    }
   ],
   "source": [
    "connectors = gpd.GeoDataFrame.from_file(path_import + 'connectors.gpkg')\n",
    "connectors.head()"
   ]
  },
  {
   "cell_type": "markdown",
   "id": "c30c5363-2c10-4081-9cb4-2297eaee8434",
   "metadata": {},
   "source": [
    "## Get Matrices\n",
    "\n",
    "Using OSRM requests, the travel times and distances between all connector points are extracted. The result is given in the form of a `np.array` with the shape `(len(connctors), len(connectors), 2)`. Afterwards, this matrix will be aggregated to a matrix between TAZ, using the connector weights as weighting factors."
   ]
  },
  {
   "cell_type": "code",
   "execution_count": 12,
   "id": "3d4bd7fe-436c-420b-956a-ae4f8e20de39",
   "metadata": {},
   "outputs": [],
   "source": [
    "path_export = 'tutorial-files/tutorial4/'"
   ]
  },
  {
   "cell_type": "code",
   "execution_count": 6,
   "id": "ebb6f417-2707-4174-987b-de05d4ed7b7e",
   "metadata": {},
   "outputs": [
    {
     "name": "stdout",
     "output_type": "stream",
     "text": [
      "335 connector point coordinates\n",
      "start requests: 2023-03-21 11:05:36.594881\n"
     ]
    },
    {
     "name": "stderr",
     "output_type": "stream",
     "text": [
      "100%|████████████████████████████████████████████████████████████████████████████████████| 4/4 [01:30<00:00, 22.72s/it]\n",
      "C:\\Users\\thom_nn\\.conda\\envs\\ultimo\\lib\\site-packages\\ultimo\\Matrices.py:110: SettingWithCopyWarning: \n",
      "A value is trying to be set on a copy of a slice from a DataFrame.\n",
      "Try using .loc[row_indexer,col_indexer] = value instead\n",
      "\n",
      "See the caveats in the documentation: https://pandas.pydata.org/pandas-docs/stable/user_guide/indexing.html#returning-a-view-versus-a-copy\n",
      "  self.conn[self.id_col] = np.arange(len(self.conn))\n"
     ]
    },
    {
     "name": "stdout",
     "output_type": "stream",
     "text": [
      "total time requests: 90.86675477027893 s (1.51 min)\n",
      "2023-03-21 11:07:07.461636\n"
     ]
    },
    {
     "name": "stderr",
     "output_type": "stream",
     "text": [
      "100%|████████████████████████████████████████████████████████████████████████████████| 335/335 [01:01<00:00,  5.48it/s]\n"
     ]
    },
    {
     "name": "stdout",
     "output_type": "stream",
     "text": [
      "start aggregating zone matrix: 2023-03-21 11:08:08.553333\n"
     ]
    },
    {
     "name": "stderr",
     "output_type": "stream",
     "text": [
      "100%|██████████████████████████████████████████████████████████████████████████████████| 69/69 [00:02<00:00, 23.57it/s]"
     ]
    },
    {
     "name": "stdout",
     "output_type": "stream",
     "text": [
      "total time zones: 2.9304826259613037 s (0.05 min)\n",
      "2023-03-21 11:08:11.483816\n"
     ]
    },
    {
     "name": "stderr",
     "output_type": "stream",
     "text": [
      "\n"
     ]
    }
   ],
   "source": [
    "mx = Matrices.Matrix(conn=connectors, zone_col=taz_id, conn_geo='geometry', id_col='c_n')\n",
    "mx.osrm_request_nodes(save_np=False)\n",
    "zone_matrix, zone_ids = mx.transform_to_taz()"
   ]
  },
  {
   "cell_type": "markdown",
   "id": "4c8d90cb-e633-4010-9f7c-4fd6678618ad",
   "metadata": {},
   "source": [
    "The final matrix has the shape `(len(taz), len(taz), 2)` with the dimensions `(origin, destination, cost)`. Two costs are given:\n",
    "\n",
    "1) Travel time in s `[0]`\n",
    "2) Distance in m `[1]`"
   ]
  },
  {
   "cell_type": "code",
   "execution_count": 13,
   "id": "5f1909f0-5e48-4bfa-96bc-bd2ad5050c2b",
   "metadata": {},
   "outputs": [],
   "source": [
    "# save \n",
    "np.save(path_export + \"cost-matrices.npy\", zone_matrix)"
   ]
  },
  {
   "cell_type": "markdown",
   "id": "77b80d48-d9d3-41c1-b5ef-29acbf18e186",
   "metadata": {},
   "source": [
    "## Assign matrix index to TAZ\n",
    "\n",
    "In order to enable the connection between the cost matrices and the TAZ, the index used for each TAZ while creating the cost matrices will be added as a column to TAZ."
   ]
  },
  {
   "cell_type": "code",
   "execution_count": 14,
   "id": "9b20d6a1-7035-4cf9-9286-993ec35d1f62",
   "metadata": {},
   "outputs": [
    {
     "data": {
      "text/html": [
       "<div>\n",
       "<style scoped>\n",
       "    .dataframe tbody tr th:only-of-type {\n",
       "        vertical-align: middle;\n",
       "    }\n",
       "\n",
       "    .dataframe tbody tr th {\n",
       "        vertical-align: top;\n",
       "    }\n",
       "\n",
       "    .dataframe thead th {\n",
       "        text-align: right;\n",
       "    }\n",
       "</style>\n",
       "<table border=\"1\" class=\"dataframe\">\n",
       "  <thead>\n",
       "    <tr style=\"text-align: right;\">\n",
       "      <th></th>\n",
       "      <th>nuts_id</th>\n",
       "      <th>cntr_code</th>\n",
       "      <th>nuts_name</th>\n",
       "      <th>geometry</th>\n",
       "      <th>id</th>\n",
       "    </tr>\n",
       "  </thead>\n",
       "  <tbody>\n",
       "    <tr>\n",
       "      <th>0</th>\n",
       "      <td>FI193</td>\n",
       "      <td>FI</td>\n",
       "      <td>Keski-Suomi</td>\n",
       "      <td>MULTIPOLYGON (((26.13865 63.45759, 26.16055 63...</td>\n",
       "      <td>11</td>\n",
       "    </tr>\n",
       "    <tr>\n",
       "      <th>1</th>\n",
       "      <td>FI194</td>\n",
       "      <td>FI</td>\n",
       "      <td>Etelä-Pohjanmaa</td>\n",
       "      <td>MULTIPOLYGON (((21.64783 62.01959, 21.63880 62...</td>\n",
       "      <td>12</td>\n",
       "    </tr>\n",
       "    <tr>\n",
       "      <th>2</th>\n",
       "      <td>FI195</td>\n",
       "      <td>FI</td>\n",
       "      <td>Pohjanmaa</td>\n",
       "      <td>MULTIPOLYGON (((21.64783 62.01959, 21.52578 62...</td>\n",
       "      <td>13</td>\n",
       "    </tr>\n",
       "    <tr>\n",
       "      <th>3</th>\n",
       "      <td>FI196</td>\n",
       "      <td>FI</td>\n",
       "      <td>Satakunta</td>\n",
       "      <td>MULTIPOLYGON (((21.41993 61.04744, 21.42015 61...</td>\n",
       "      <td>14</td>\n",
       "    </tr>\n",
       "    <tr>\n",
       "      <th>4</th>\n",
       "      <td>FI197</td>\n",
       "      <td>FI</td>\n",
       "      <td>Pirkanmaa</td>\n",
       "      <td>MULTIPOLYGON (((22.83124 62.27089, 22.90118 62...</td>\n",
       "      <td>15</td>\n",
       "    </tr>\n",
       "  </tbody>\n",
       "</table>\n",
       "</div>"
      ],
      "text/plain": [
       "  nuts_id cntr_code        nuts_name  \\\n",
       "0   FI193        FI      Keski-Suomi   \n",
       "1   FI194        FI  Etelä-Pohjanmaa   \n",
       "2   FI195        FI        Pohjanmaa   \n",
       "3   FI196        FI        Satakunta   \n",
       "4   FI197        FI        Pirkanmaa   \n",
       "\n",
       "                                            geometry  id  \n",
       "0  MULTIPOLYGON (((26.13865 63.45759, 26.16055 63...  11  \n",
       "1  MULTIPOLYGON (((21.64783 62.01959, 21.63880 62...  12  \n",
       "2  MULTIPOLYGON (((21.64783 62.01959, 21.52578 62...  13  \n",
       "3  MULTIPOLYGON (((21.41993 61.04744, 21.42015 61...  14  \n",
       "4  MULTIPOLYGON (((22.83124 62.27089, 22.90118 62...  15  "
      ]
     },
     "execution_count": 14,
     "metadata": {},
     "output_type": "execute_result"
    }
   ],
   "source": [
    "# add zone_id to taz\n",
    "taz = taz.merge(zone_ids, how='left', left_on='nuts_id', right_on='zone')\n",
    "taz.drop(columns=['zone'], inplace=True)\n",
    "taz.head()"
   ]
  },
  {
   "cell_type": "code",
   "execution_count": 16,
   "id": "cd2cb012-2dec-4f77-b42c-61e83e6f684f",
   "metadata": {},
   "outputs": [],
   "source": [
    "taz.to_file(path_export + 'taz-tutorial-id' + '.gpkg', driver='GPKG')"
   ]
  },
  {
   "cell_type": "code",
   "execution_count": null,
   "id": "8a9875a7-e6c2-46dd-b9f3-45c72cf9b32e",
   "metadata": {},
   "outputs": [],
   "source": []
  }
 ],
 "metadata": {
  "kernelspec": {
   "display_name": "Python 3 (ipykernel)",
   "language": "python",
   "name": "python3"
  },
  "language_info": {
   "codemirror_mode": {
    "name": "ipython",
    "version": 3
   },
   "file_extension": ".py",
   "mimetype": "text/x-python",
   "name": "python",
   "nbconvert_exporter": "python",
   "pygments_lexer": "ipython3",
   "version": "3.10.9"
  }
 },
 "nbformat": 4,
 "nbformat_minor": 5
}
