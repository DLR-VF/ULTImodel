{
 "cells": [
  {
   "cell_type": "markdown",
   "id": "72a48197-b0e7-4a21-94de-a97ba7dde446",
   "metadata": {},
   "source": [
    "# ULTIMO tutorial 6: Generate country attributes for international travel \n",
    "\n",
    "In this tutorial, the general country attributes that influence trip generation will be determined using the `AttractionFactors` methods. For trip generation, the travel volumes per country are classified into national and international (border crossing) trips using certain country attributes, which are determined in the following section using `AttractionFactors.BorderCrossingAtts`."
   ]
  },
  {
   "cell_type": "markdown",
   "id": "9b96b31d-871d-4e07-aa87-5844f136cf6f",
   "metadata": {},
   "source": [
    "The inputs are:\n",
    "- TAZ as `GeoDataFrame`\n",
    "- International road network with edges (see tutorial3)"
   ]
  },
  {
   "cell_type": "code",
   "execution_count": 37,
   "id": "cea1fa52-4521-4d65-aa7b-30d35003c1a8",
   "metadata": {},
   "outputs": [],
   "source": [
    "# for network creation\n",
    "import generationData.AttractionFactors as AttractionFactors"
   ]
  },
  {
   "cell_type": "code",
   "execution_count": 38,
   "id": "2418a4e5-2fe3-4f42-aa33-23bb57cfda29",
   "metadata": {},
   "outputs": [],
   "source": [
    "# for reading and saving files etc.\n",
    "import geopandas as gpd\n",
    "import pandas as pd\n",
    "import numpy as np\n",
    "# for time tracking\n",
    "from datetime import datetime"
   ]
  },
  {
   "cell_type": "markdown",
   "id": "befa4bc9-baa7-4d09-bcd0-05d9afa580d7",
   "metadata": {
    "tags": []
   },
   "source": [
    "## Read input: TAZ and population\n",
    "\n",
    "The input includes georeferenced TAZ in `EPSG:4326` with the following _required_ attributes (columns):\n",
    "\n",
    "* __ID__ | field including a unique ID, e.g. the NUTS ID\n",
    "* __Country__ | field containing the ISO-2 code of the respective country\n",
    "* __population__ | field containing the population\n",
    "\n",
    "The population attribute was added in `tutorial5`, which is why the resulting TAZ `GeoDataFrame` is imported.\n",
    "\n",
    "Other attributes like name etc. can be added, but are not required for the following steps.\n",
    "\n",
    "The international network edges are imported, as created in `tutorial3`."
   ]
  },
  {
   "cell_type": "code",
   "execution_count": 39,
   "id": "22104a34-c99d-49fb-ae3b-250764c06273",
   "metadata": {},
   "outputs": [
    {
     "data": {
      "text/html": [
       "<div>\n",
       "<style scoped>\n",
       "    .dataframe tbody tr th:only-of-type {\n",
       "        vertical-align: middle;\n",
       "    }\n",
       "\n",
       "    .dataframe tbody tr th {\n",
       "        vertical-align: top;\n",
       "    }\n",
       "\n",
       "    .dataframe thead th {\n",
       "        text-align: right;\n",
       "    }\n",
       "</style>\n",
       "<table border=\"1\" class=\"dataframe\">\n",
       "  <thead>\n",
       "    <tr style=\"text-align: right;\">\n",
       "      <th></th>\n",
       "      <th>nuts_id</th>\n",
       "      <th>cntr_code</th>\n",
       "      <th>nuts_name</th>\n",
       "      <th>population</th>\n",
       "      <th>ind_area_count</th>\n",
       "      <th>ind_area_sum</th>\n",
       "      <th>index_nat</th>\n",
       "      <th>index_int</th>\n",
       "      <th>geometry</th>\n",
       "    </tr>\n",
       "  </thead>\n",
       "  <tbody>\n",
       "    <tr>\n",
       "      <th>0</th>\n",
       "      <td>FI193</td>\n",
       "      <td>FI</td>\n",
       "      <td>Keski-Suomi</td>\n",
       "      <td>510850.572340</td>\n",
       "      <td>282</td>\n",
       "      <td>2.246628e+07</td>\n",
       "      <td>0.903992</td>\n",
       "      <td>0.889445</td>\n",
       "      <td>MULTIPOLYGON (((26.13865 63.45759, 26.16055 63...</td>\n",
       "    </tr>\n",
       "    <tr>\n",
       "      <th>1</th>\n",
       "      <td>FI194</td>\n",
       "      <td>FI</td>\n",
       "      <td>Etelä-Pohjanmaa</td>\n",
       "      <td>358466.021589</td>\n",
       "      <td>396</td>\n",
       "      <td>2.183331e+07</td>\n",
       "      <td>0.818465</td>\n",
       "      <td>0.805294</td>\n",
       "      <td>MULTIPOLYGON (((21.64783 62.01959, 21.63880 62...</td>\n",
       "    </tr>\n",
       "    <tr>\n",
       "      <th>2</th>\n",
       "      <td>FI195</td>\n",
       "      <td>FI</td>\n",
       "      <td>Pohjanmaa</td>\n",
       "      <td>340041.957401</td>\n",
       "      <td>276</td>\n",
       "      <td>1.842693e+07</td>\n",
       "      <td>0.698118</td>\n",
       "      <td>0.686884</td>\n",
       "      <td>MULTIPOLYGON (((21.64783 62.01959, 21.52578 62...</td>\n",
       "    </tr>\n",
       "    <tr>\n",
       "      <th>3</th>\n",
       "      <td>FI196</td>\n",
       "      <td>FI</td>\n",
       "      <td>Satakunta</td>\n",
       "      <td>358255.966908</td>\n",
       "      <td>390</td>\n",
       "      <td>3.533939e+07</td>\n",
       "      <td>0.919390</td>\n",
       "      <td>0.904596</td>\n",
       "      <td>MULTIPOLYGON (((21.41993 61.04744, 21.42015 61...</td>\n",
       "    </tr>\n",
       "    <tr>\n",
       "      <th>4</th>\n",
       "      <td>FI197</td>\n",
       "      <td>FI</td>\n",
       "      <td>Pirkanmaa</td>\n",
       "      <td>901022.640876</td>\n",
       "      <td>505</td>\n",
       "      <td>4.031231e+07</td>\n",
       "      <td>1.607394</td>\n",
       "      <td>1.581528</td>\n",
       "      <td>MULTIPOLYGON (((22.83124 62.27089, 22.90118 62...</td>\n",
       "    </tr>\n",
       "  </tbody>\n",
       "</table>\n",
       "</div>"
      ],
      "text/plain": [
       "  nuts_id cntr_code        nuts_name     population  ind_area_count  \\\n",
       "0   FI193        FI      Keski-Suomi  510850.572340             282   \n",
       "1   FI194        FI  Etelä-Pohjanmaa  358466.021589             396   \n",
       "2   FI195        FI        Pohjanmaa  340041.957401             276   \n",
       "3   FI196        FI        Satakunta  358255.966908             390   \n",
       "4   FI197        FI        Pirkanmaa  901022.640876             505   \n",
       "\n",
       "   ind_area_sum  index_nat  index_int  \\\n",
       "0  2.246628e+07   0.903992   0.889445   \n",
       "1  2.183331e+07   0.818465   0.805294   \n",
       "2  1.842693e+07   0.698118   0.686884   \n",
       "3  3.533939e+07   0.919390   0.904596   \n",
       "4  4.031231e+07   1.607394   1.581528   \n",
       "\n",
       "                                            geometry  \n",
       "0  MULTIPOLYGON (((26.13865 63.45759, 26.16055 63...  \n",
       "1  MULTIPOLYGON (((21.64783 62.01959, 21.63880 62...  \n",
       "2  MULTIPOLYGON (((21.64783 62.01959, 21.52578 62...  \n",
       "3  MULTIPOLYGON (((21.41993 61.04744, 21.42015 61...  \n",
       "4  MULTIPOLYGON (((22.83124 62.27089, 22.90118 62...  "
      ]
     },
     "execution_count": 39,
     "metadata": {},
     "output_type": "execute_result"
    }
   ],
   "source": [
    "# load taz from database or local\n",
    "taz = gpd.GeoDataFrame.from_file('tutorial-files/tutorial5/taz-tutorial-attindex.gpkg')\n",
    "\n",
    "# defining ID, country and geometry column names of taz\n",
    "taz_id = \"nuts_id\"\n",
    "taz_cn = \"cntr_code\"\n",
    "taz_geo = \"geometry\"\n",
    "\n",
    "taz.head()"
   ]
  },
  {
   "cell_type": "code",
   "execution_count": 40,
   "id": "85c32517-72de-47b9-99a3-8efc8ca226c8",
   "metadata": {},
   "outputs": [],
   "source": [
    "countries = taz[taz_cn].unique()"
   ]
  },
  {
   "cell_type": "markdown",
   "id": "12aa3317-ceb4-49ac-a177-f35cad2fb708",
   "metadata": {},
   "source": [
    "We will add Polygons at the borders for Germany and Russia in this tutorial to determine the country attributes and no forget any neighbors"
   ]
  },
  {
   "cell_type": "code",
   "execution_count": 41,
   "id": "4304a371-7976-49be-95aa-d85f5f2f5f4c",
   "metadata": {},
   "outputs": [],
   "source": [
    "taz = pd.concat([taz, gpd.GeoDataFrame.from_file('tutorial-files/_input/DE-RU-tutorial6.gpkg')])"
   ]
  },
  {
   "cell_type": "code",
   "execution_count": 42,
   "id": "39f7c0df-3be5-4eb0-ab89-0dbd79ebd672",
   "metadata": {},
   "outputs": [],
   "source": [
    "net_int = gpd.GeoDataFrame.from_file('tutorial-files/tutorial3/international-edges.gpkg')"
   ]
  },
  {
   "cell_type": "code",
   "execution_count": 43,
   "id": "87ac65b3-d604-4e7b-9273-82f582495974",
   "metadata": {},
   "outputs": [],
   "source": [
    "path_export = 'tutorial-files/tutorial6/'"
   ]
  },
  {
   "cell_type": "markdown",
   "id": "f828f1ae-d494-4c67-9380-850e63cba2e9",
   "metadata": {},
   "source": [
    "## Get country attributes\n",
    "\n",
    "This step creates a `DataFrame` of the countries with the following attributes:\n",
    "\n",
    "- population\n",
    "- area\n",
    "- share of land border\n",
    "- number of neighbor countries\n",
    "- number of border-crossing highways per 100km land border"
   ]
  },
  {
   "cell_type": "code",
   "execution_count": 44,
   "id": "ae66c96d-2557-41cc-90bc-957e9f4d9715",
   "metadata": {},
   "outputs": [],
   "source": [
    "border_att = AttractionFactors.BorderCrossingAtts(taz)"
   ]
  },
  {
   "cell_type": "code",
   "execution_count": 45,
   "id": "84b31c59-8fe2-4116-8a4a-65d0d0a0b9c8",
   "metadata": {},
   "outputs": [],
   "source": [
    "# shared border\n",
    "border_att.shared_borders(inplace=True)\n",
    "# border streets\n",
    "border_att.border_streets(net_int, inplace=True)\n",
    "# neighbor countries\n",
    "border_att.count_neighbors(inplace=True)\n",
    "# population and area\n",
    "border_att.pop_area(inplace=True)"
   ]
  },
  {
   "cell_type": "code",
   "execution_count": 46,
   "id": "914284ff-00b9-49da-9529-c78fc63643c4",
   "metadata": {},
   "outputs": [
    {
     "data": {
      "text/html": [
       "<div>\n",
       "<style scoped>\n",
       "    .dataframe tbody tr th:only-of-type {\n",
       "        vertical-align: middle;\n",
       "    }\n",
       "\n",
       "    .dataframe tbody tr th {\n",
       "        vertical-align: top;\n",
       "    }\n",
       "\n",
       "    .dataframe thead th {\n",
       "        text-align: right;\n",
       "    }\n",
       "</style>\n",
       "<table border=\"1\" class=\"dataframe\">\n",
       "  <thead>\n",
       "    <tr style=\"text-align: right;\">\n",
       "      <th></th>\n",
       "      <th>cntr_code</th>\n",
       "      <th>geometry</th>\n",
       "      <th>index</th>\n",
       "      <th>border_share</th>\n",
       "      <th>border_length</th>\n",
       "      <th>border_length_shared</th>\n",
       "      <th>border_crossings_count</th>\n",
       "      <th>neighbors</th>\n",
       "      <th>population</th>\n",
       "      <th>area</th>\n",
       "    </tr>\n",
       "  </thead>\n",
       "  <tbody>\n",
       "    <tr>\n",
       "      <th>1</th>\n",
       "      <td>DK</td>\n",
       "      <td>MULTIPOLYGON (((10.26796 55.03071, 10.27580 55...</td>\n",
       "      <td>0</td>\n",
       "      <td>0.015467</td>\n",
       "      <td>4088.436575</td>\n",
       "      <td>63.236291</td>\n",
       "      <td>5.0</td>\n",
       "      <td>2</td>\n",
       "      <td>8.396369e+06</td>\n",
       "      <td>43653.093630</td>\n",
       "    </tr>\n",
       "    <tr>\n",
       "      <th>2</th>\n",
       "      <td>FI</td>\n",
       "      <td>MULTIPOLYGON (((19.96477 59.98505, 19.96479 59...</td>\n",
       "      <td>0</td>\n",
       "      <td>0.269796</td>\n",
       "      <td>8715.390137</td>\n",
       "      <td>2351.374349</td>\n",
       "      <td>136.0</td>\n",
       "      <td>3</td>\n",
       "      <td>9.547163e+06</td>\n",
       "      <td>337512.028767</td>\n",
       "    </tr>\n",
       "    <tr>\n",
       "      <th>3</th>\n",
       "      <td>NO</td>\n",
       "      <td>MULTIPOLYGON (((4.88766 59.29444, 4.88027 59.2...</td>\n",
       "      <td>0</td>\n",
       "      <td>0.101108</td>\n",
       "      <td>24434.055949</td>\n",
       "      <td>2470.468692</td>\n",
       "      <td>176.0</td>\n",
       "      <td>3</td>\n",
       "      <td>8.527085e+06</td>\n",
       "      <td>322504.893423</td>\n",
       "    </tr>\n",
       "    <tr>\n",
       "      <th>5</th>\n",
       "      <td>SE</td>\n",
       "      <td>MULTIPOLYGON (((12.71874 55.89266, 12.69803 55...</td>\n",
       "      <td>0</td>\n",
       "      <td>0.213012</td>\n",
       "      <td>9981.249404</td>\n",
       "      <td>2126.124196</td>\n",
       "      <td>128.0</td>\n",
       "      <td>3</td>\n",
       "      <td>1.621385e+07</td>\n",
       "      <td>449736.409751</td>\n",
       "    </tr>\n",
       "  </tbody>\n",
       "</table>\n",
       "</div>"
      ],
      "text/plain": [
       "  cntr_code                                           geometry  index  \\\n",
       "1        DK  MULTIPOLYGON (((10.26796 55.03071, 10.27580 55...      0   \n",
       "2        FI  MULTIPOLYGON (((19.96477 59.98505, 19.96479 59...      0   \n",
       "3        NO  MULTIPOLYGON (((4.88766 59.29444, 4.88027 59.2...      0   \n",
       "5        SE  MULTIPOLYGON (((12.71874 55.89266, 12.69803 55...      0   \n",
       "\n",
       "   border_share  border_length  border_length_shared  border_crossings_count  \\\n",
       "1      0.015467    4088.436575             63.236291                     5.0   \n",
       "2      0.269796    8715.390137           2351.374349                   136.0   \n",
       "3      0.101108   24434.055949           2470.468692                   176.0   \n",
       "5      0.213012    9981.249404           2126.124196                   128.0   \n",
       "\n",
       "   neighbors    population           area  \n",
       "1          2  8.396369e+06   43653.093630  \n",
       "2          3  9.547163e+06  337512.028767  \n",
       "3          3  8.527085e+06  322504.893423  \n",
       "5          3  1.621385e+07  449736.409751  "
      ]
     },
     "execution_count": 46,
     "metadata": {},
     "output_type": "execute_result"
    }
   ],
   "source": [
    "# remove surrounding countries (DE, RU)\n",
    "border_att.country_layer = border_att.country_layer.loc[border_att.country_layer[taz_cn].isin(countries)]\n",
    "# final result: country information\n",
    "border_att.country_layer"
   ]
  },
  {
   "cell_type": "code",
   "execution_count": 47,
   "id": "fddcfc2a-9cda-40aa-a257-3896cb97ed54",
   "metadata": {},
   "outputs": [],
   "source": [
    "# save results\n",
    "border_att.country_layer.to_file(path_export + 'country-attributes' + '.gpkg', driver='GPKG')"
   ]
  },
  {
   "cell_type": "code",
   "execution_count": null,
   "id": "3a2bc2b9-8c70-4e9e-b049-098fd2df12d7",
   "metadata": {},
   "outputs": [],
   "source": []
  }
 ],
 "metadata": {
  "kernelspec": {
   "display_name": "Python 3 (ipykernel)",
   "language": "python",
   "name": "python3"
  },
  "language_info": {
   "codemirror_mode": {
    "name": "ipython",
    "version": 3
   },
   "file_extension": ".py",
   "mimetype": "text/x-python",
   "name": "python",
   "nbconvert_exporter": "python",
   "pygments_lexer": "ipython3",
   "version": "3.8.13"
  }
 },
 "nbformat": 4,
 "nbformat_minor": 5
}
