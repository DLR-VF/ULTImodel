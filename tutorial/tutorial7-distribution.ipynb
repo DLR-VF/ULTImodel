{
 "cells": [
  {
   "cell_type": "markdown",
   "id": "4c2afa78-4540-458f-9951-f08b91536547",
   "metadata": {},
   "source": [
    "# ULTIMO tutorial 7: Distribution\n",
    "\n",
    "In this tutorial, the supply model created in tutorial 1 to 6 is applied for a simple demand model with trip generation and trip distribution.  "
   ]
  },
  {
   "cell_type": "markdown",
   "id": "31af0613-9a88-4012-9bbf-5d63dbde08e2",
   "metadata": {},
   "source": [
    "In order to distribute traffic, the network model, cost matrices and attraction factors (supply model) that were created in the previous tutorials are imported. The supply model consists of:\n",
    "\n",
    "- __TAZ__ with attraction factors and subordinate network length\n",
    "- __Road network__ with edges and nodes per country, as created in tutorial 1\n",
    "- __Country attributes__ regarding international travel as created in tutorial 6\n",
    "- _Travel volumes_ as target values per country are read from an external input file\n",
    "\n",
    "In `release version 1.0`, ULTIMO creates OD matrices for long distance and international travel. For a network assignment, the created network and connectors can be imported to different software."
   ]
  },
  {
   "cell_type": "markdown",
   "id": "49831790-6772-47c3-a1cd-4fbbf20166df",
   "metadata": {},
   "source": [
    "## Import packages"
   ]
  },
  {
   "cell_type": "code",
   "execution_count": 1,
   "id": "9d56ae64-e3b7-4668-87b3-be323c3dfdb4",
   "metadata": {},
   "outputs": [],
   "source": [
    "# for distribution\n",
    "from ultimo import DistributeTraffic"
   ]
  },
  {
   "cell_type": "code",
   "execution_count": 2,
   "id": "76b0dd68-8990-4bf8-9202-90fe65ec04e9",
   "metadata": {
    "tags": []
   },
   "outputs": [],
   "source": [
    "# for reading and saving files etc.\n",
    "import geopandas as gpd\n",
    "import pandas as pd\n",
    "import numpy as np\n",
    "# for time tracking\n",
    "from datetime import datetime"
   ]
  },
  {
   "cell_type": "markdown",
   "id": "96e452f7-3b42-4c78-8e80-255e36fc4ab2",
   "metadata": {
    "tags": []
   },
   "source": [
    "## Read input: TAZ and country attributes, cost matrices\n",
    "\n",
    "The input includes georeferenced TAZ in `EPSG:4326` with the following _required_ attributes (columns):\n",
    "\n",
    "* __ID__ | field including a unique ID, e.g. the NUTS ID\n",
    "* __Country__ | field containing the ISO-2 code of the respective country\n",
    "* __population__ | field containing the population, see `tutorial5`\n",
    "* __Attraction indices national and international__ | fields containing the attraction index for national and international distribution, see `tutorial5`\n",
    "* __Matrix index__ | field containing the index of the TAZ in the cost matrix, see `tutorial4`\n",
    "* __Subordinate network length__ | field containing the aggregated length of the subordinate roads per TAZ, see `tutorial1`\n",
    " \n",
    "Using ULTIMO, many of these fields were created following the previous tutorials (1-6). For distribution, the relevant TAZ files will be merged to one `GeoDataFrame` with all the needed information.\n",
    "\n",
    "The country attributes are contained in the file created in `tutorial6`. The last thing missing are the target values, which will be imported as an external input and merged to the country `GeoDataFrame`.\n",
    "\n",
    "The cost of travel in the form of travel times and distances between the TAZ is a key component of the distribution, thus the cost matrices created in `tutorial4` are also needed as an input."
   ]
  },
  {
   "cell_type": "code",
   "execution_count": 3,
   "id": "d1a369f9-360d-49fd-af98-f4ce9d008c72",
   "metadata": {},
   "outputs": [
    {
     "data": {
      "text/html": [
       "<div>\n",
       "<style scoped>\n",
       "    .dataframe tbody tr th:only-of-type {\n",
       "        vertical-align: middle;\n",
       "    }\n",
       "\n",
       "    .dataframe tbody tr th {\n",
       "        vertical-align: top;\n",
       "    }\n",
       "\n",
       "    .dataframe thead th {\n",
       "        text-align: right;\n",
       "    }\n",
       "</style>\n",
       "<table border=\"1\" class=\"dataframe\">\n",
       "  <thead>\n",
       "    <tr style=\"text-align: right;\">\n",
       "      <th></th>\n",
       "      <th>nuts_id</th>\n",
       "      <th>cntr_code</th>\n",
       "      <th>nuts_name</th>\n",
       "      <th>geometry</th>\n",
       "    </tr>\n",
       "  </thead>\n",
       "  <tbody>\n",
       "    <tr>\n",
       "      <th>0</th>\n",
       "      <td>FI193</td>\n",
       "      <td>FI</td>\n",
       "      <td>Keski-Suomi</td>\n",
       "      <td>MULTIPOLYGON (((26.13865 63.45759, 26.16055 63...</td>\n",
       "    </tr>\n",
       "    <tr>\n",
       "      <th>1</th>\n",
       "      <td>FI194</td>\n",
       "      <td>FI</td>\n",
       "      <td>Etelä-Pohjanmaa</td>\n",
       "      <td>MULTIPOLYGON (((21.64783 62.01959, 21.63880 62...</td>\n",
       "    </tr>\n",
       "    <tr>\n",
       "      <th>2</th>\n",
       "      <td>FI195</td>\n",
       "      <td>FI</td>\n",
       "      <td>Pohjanmaa</td>\n",
       "      <td>MULTIPOLYGON (((21.64783 62.01959, 21.52578 62...</td>\n",
       "    </tr>\n",
       "    <tr>\n",
       "      <th>3</th>\n",
       "      <td>FI196</td>\n",
       "      <td>FI</td>\n",
       "      <td>Satakunta</td>\n",
       "      <td>MULTIPOLYGON (((21.41993 61.04744, 21.42015 61...</td>\n",
       "    </tr>\n",
       "    <tr>\n",
       "      <th>4</th>\n",
       "      <td>FI197</td>\n",
       "      <td>FI</td>\n",
       "      <td>Pirkanmaa</td>\n",
       "      <td>MULTIPOLYGON (((22.83124 62.27089, 22.90118 62...</td>\n",
       "    </tr>\n",
       "  </tbody>\n",
       "</table>\n",
       "</div>"
      ],
      "text/plain": [
       "  nuts_id cntr_code        nuts_name                                           geometry\n",
       "0   FI193        FI      Keski-Suomi  MULTIPOLYGON (((26.13865 63.45759, 26.16055 63...\n",
       "1   FI194        FI  Etelä-Pohjanmaa  MULTIPOLYGON (((21.64783 62.01959, 21.63880 62...\n",
       "2   FI195        FI        Pohjanmaa  MULTIPOLYGON (((21.64783 62.01959, 21.52578 62...\n",
       "3   FI196        FI        Satakunta  MULTIPOLYGON (((21.41993 61.04744, 21.42015 61...\n",
       "4   FI197        FI        Pirkanmaa  MULTIPOLYGON (((22.83124 62.27089, 22.90118 62..."
      ]
     },
     "execution_count": 3,
     "metadata": {},
     "output_type": "execute_result"
    }
   ],
   "source": [
    "# load base TAZ file\n",
    "taz = gpd.GeoDataFrame.from_file('tutorial-files/_input/taz-tutorial.gpkg')\n",
    "\n",
    "# defining ID, country and geometry column names of taz\n",
    "taz_id = \"nuts_id\"\n",
    "taz_cn = \"cntr_code\"\n",
    "taz_geo = \"geometry\"\n",
    "\n",
    "taz.head()"
   ]
  },
  {
   "cell_type": "markdown",
   "id": "8a3513c3-41d0-4719-bdd3-2e00cfa065be",
   "metadata": {},
   "source": [
    "Combine tutorial results to single TAZ GeoDataFrame:"
   ]
  },
  {
   "cell_type": "code",
   "execution_count": 4,
   "id": "23b2523f-ebf6-48c0-9b34-340f3482d111",
   "metadata": {
    "tags": []
   },
   "outputs": [
    {
     "data": {
      "text/html": [
       "<div>\n",
       "<style scoped>\n",
       "    .dataframe tbody tr th:only-of-type {\n",
       "        vertical-align: middle;\n",
       "    }\n",
       "\n",
       "    .dataframe tbody tr th {\n",
       "        vertical-align: top;\n",
       "    }\n",
       "\n",
       "    .dataframe thead th {\n",
       "        text-align: right;\n",
       "    }\n",
       "</style>\n",
       "<table border=\"1\" class=\"dataframe\">\n",
       "  <thead>\n",
       "    <tr style=\"text-align: right;\">\n",
       "      <th></th>\n",
       "      <th>nuts_id</th>\n",
       "      <th>cntr_code</th>\n",
       "      <th>nuts_name</th>\n",
       "      <th>geometry</th>\n",
       "      <th>population</th>\n",
       "      <th>index_nat</th>\n",
       "      <th>index_int</th>\n",
       "      <th>id</th>\n",
       "      <th>length_sub</th>\n",
       "    </tr>\n",
       "  </thead>\n",
       "  <tbody>\n",
       "    <tr>\n",
       "      <th>0</th>\n",
       "      <td>FI193</td>\n",
       "      <td>FI</td>\n",
       "      <td>Keski-Suomi</td>\n",
       "      <td>MULTIPOLYGON (((26.13865 63.45759, 26.16055 63...</td>\n",
       "      <td>510850.572340</td>\n",
       "      <td>0.903992</td>\n",
       "      <td>0.889445</td>\n",
       "      <td>11</td>\n",
       "      <td>1130.241897</td>\n",
       "    </tr>\n",
       "    <tr>\n",
       "      <th>1</th>\n",
       "      <td>FI194</td>\n",
       "      <td>FI</td>\n",
       "      <td>Etelä-Pohjanmaa</td>\n",
       "      <td>MULTIPOLYGON (((21.64783 62.01959, 21.63880 62...</td>\n",
       "      <td>358466.021589</td>\n",
       "      <td>0.818465</td>\n",
       "      <td>0.805294</td>\n",
       "      <td>12</td>\n",
       "      <td>871.008000</td>\n",
       "    </tr>\n",
       "    <tr>\n",
       "      <th>2</th>\n",
       "      <td>FI195</td>\n",
       "      <td>FI</td>\n",
       "      <td>Pohjanmaa</td>\n",
       "      <td>MULTIPOLYGON (((21.64783 62.01959, 21.52578 62...</td>\n",
       "      <td>340041.957401</td>\n",
       "      <td>0.698118</td>\n",
       "      <td>0.686884</td>\n",
       "      <td>13</td>\n",
       "      <td>607.585794</td>\n",
       "    </tr>\n",
       "    <tr>\n",
       "      <th>3</th>\n",
       "      <td>FI196</td>\n",
       "      <td>FI</td>\n",
       "      <td>Satakunta</td>\n",
       "      <td>MULTIPOLYGON (((21.41993 61.04744, 21.42015 61...</td>\n",
       "      <td>358255.966908</td>\n",
       "      <td>0.919390</td>\n",
       "      <td>0.904596</td>\n",
       "      <td>14</td>\n",
       "      <td>498.395849</td>\n",
       "    </tr>\n",
       "    <tr>\n",
       "      <th>4</th>\n",
       "      <td>FI197</td>\n",
       "      <td>FI</td>\n",
       "      <td>Pirkanmaa</td>\n",
       "      <td>MULTIPOLYGON (((22.83124 62.27089, 22.90118 62...</td>\n",
       "      <td>901022.640876</td>\n",
       "      <td>1.607394</td>\n",
       "      <td>1.581528</td>\n",
       "      <td>15</td>\n",
       "      <td>974.549378</td>\n",
       "    </tr>\n",
       "  </tbody>\n",
       "</table>\n",
       "</div>"
      ],
      "text/plain": [
       "  nuts_id cntr_code        nuts_name  ... index_int  id   length_sub\n",
       "0   FI193        FI      Keski-Suomi  ...  0.889445  11  1130.241897\n",
       "1   FI194        FI  Etelä-Pohjanmaa  ...  0.805294  12   871.008000\n",
       "2   FI195        FI        Pohjanmaa  ...  0.686884  13   607.585794\n",
       "3   FI196        FI        Satakunta  ...  0.904596  14   498.395849\n",
       "4   FI197        FI        Pirkanmaa  ...  1.581528  15   974.549378\n",
       "\n",
       "[5 rows x 9 columns]"
      ]
     },
     "execution_count": 4,
     "metadata": {},
     "output_type": "execute_result"
    }
   ],
   "source": [
    "# load all tutorial TAZ results and merge to taz\n",
    "# attraction factors\n",
    "taz_t5 = gpd.GeoDataFrame.from_file('tutorial-files/tutorial5/taz-tutorial-attindex.gpkg')[[taz_id, 'population', 'index_nat', 'index_int']]\n",
    "# matrix index (id)\n",
    "taz_t4 = gpd.GeoDataFrame.from_file('tutorial-files/tutorial4/taz-tutorial-id.gpkg')[[taz_id, 'id']]\n",
    "# subordinate network length\n",
    "taz_t1 = gpd.GeoDataFrame.from_file('tutorial-files/tutorial1/taz-tutorial-len.gpkg')[[taz_id, 'length_sub']]\n",
    "\n",
    "# merge\n",
    "taz = taz.merge(taz_t5, on=taz_id, how='left')\n",
    "taz = taz.merge(taz_t4, on=taz_id, how='left')\n",
    "taz = taz.merge(taz_t1, on=taz_id, how='left')\n",
    "\n",
    "del taz_t5, taz_t4, taz_t1\n",
    "\n",
    "taz.head()"
   ]
  },
  {
   "cell_type": "code",
   "execution_count": 5,
   "id": "c61783a8-7ecf-401f-ae32-2c2c0d3d42df",
   "metadata": {},
   "outputs": [],
   "source": [
    "countries = taz[taz_cn].unique()"
   ]
  },
  {
   "cell_type": "markdown",
   "id": "a3fd05e7-b01d-450c-adce-bd4453f08fac",
   "metadata": {},
   "source": [
    "Read country attributes created in `tutorial6`"
   ]
  },
  {
   "cell_type": "code",
   "execution_count": 6,
   "id": "b1a3f699-e3f6-4625-a831-23ea7ccf5049",
   "metadata": {},
   "outputs": [
    {
     "data": {
      "text/html": [
       "<div>\n",
       "<style scoped>\n",
       "    .dataframe tbody tr th:only-of-type {\n",
       "        vertical-align: middle;\n",
       "    }\n",
       "\n",
       "    .dataframe tbody tr th {\n",
       "        vertical-align: top;\n",
       "    }\n",
       "\n",
       "    .dataframe thead th {\n",
       "        text-align: right;\n",
       "    }\n",
       "</style>\n",
       "<table border=\"1\" class=\"dataframe\">\n",
       "  <thead>\n",
       "    <tr style=\"text-align: right;\">\n",
       "      <th></th>\n",
       "      <th>cntr_code</th>\n",
       "      <th>index</th>\n",
       "      <th>border_share</th>\n",
       "      <th>border_length</th>\n",
       "      <th>border_length_shared</th>\n",
       "      <th>border_crossings_count</th>\n",
       "      <th>neighbors</th>\n",
       "      <th>population</th>\n",
       "      <th>area</th>\n",
       "      <th>geometry</th>\n",
       "    </tr>\n",
       "  </thead>\n",
       "  <tbody>\n",
       "    <tr>\n",
       "      <th>0</th>\n",
       "      <td>DK</td>\n",
       "      <td>0</td>\n",
       "      <td>0.015467</td>\n",
       "      <td>4088.436575</td>\n",
       "      <td>63.236291</td>\n",
       "      <td>5.0</td>\n",
       "      <td>2</td>\n",
       "      <td>8.396369e+06</td>\n",
       "      <td>43653.093630</td>\n",
       "      <td>MULTIPOLYGON (((10.26796 55.03071, 10.27580 55...</td>\n",
       "    </tr>\n",
       "    <tr>\n",
       "      <th>1</th>\n",
       "      <td>FI</td>\n",
       "      <td>0</td>\n",
       "      <td>0.269796</td>\n",
       "      <td>8715.390137</td>\n",
       "      <td>2351.374349</td>\n",
       "      <td>136.0</td>\n",
       "      <td>3</td>\n",
       "      <td>9.547163e+06</td>\n",
       "      <td>337512.028767</td>\n",
       "      <td>MULTIPOLYGON (((19.96477 59.98505, 19.96479 59...</td>\n",
       "    </tr>\n",
       "    <tr>\n",
       "      <th>2</th>\n",
       "      <td>NO</td>\n",
       "      <td>0</td>\n",
       "      <td>0.101108</td>\n",
       "      <td>24434.055949</td>\n",
       "      <td>2470.468692</td>\n",
       "      <td>176.0</td>\n",
       "      <td>3</td>\n",
       "      <td>8.527085e+06</td>\n",
       "      <td>322504.893423</td>\n",
       "      <td>MULTIPOLYGON (((4.88766 59.29444, 4.88027 59.2...</td>\n",
       "    </tr>\n",
       "    <tr>\n",
       "      <th>3</th>\n",
       "      <td>SE</td>\n",
       "      <td>0</td>\n",
       "      <td>0.213012</td>\n",
       "      <td>9981.249404</td>\n",
       "      <td>2126.124196</td>\n",
       "      <td>128.0</td>\n",
       "      <td>3</td>\n",
       "      <td>1.621385e+07</td>\n",
       "      <td>449736.409751</td>\n",
       "      <td>MULTIPOLYGON (((12.71874 55.89266, 12.69803 55...</td>\n",
       "    </tr>\n",
       "  </tbody>\n",
       "</table>\n",
       "</div>"
      ],
      "text/plain": [
       "  cntr_code  index  border_share  ...    population           area                                           geometry\n",
       "0        DK      0      0.015467  ...  8.396369e+06   43653.093630  MULTIPOLYGON (((10.26796 55.03071, 10.27580 55...\n",
       "1        FI      0      0.269796  ...  9.547163e+06  337512.028767  MULTIPOLYGON (((19.96477 59.98505, 19.96479 59...\n",
       "2        NO      0      0.101108  ...  8.527085e+06  322504.893423  MULTIPOLYGON (((4.88766 59.29444, 4.88027 59.2...\n",
       "3        SE      0      0.213012  ...  1.621385e+07  449736.409751  MULTIPOLYGON (((12.71874 55.89266, 12.69803 55...\n",
       "\n",
       "[4 rows x 10 columns]"
      ]
     },
     "execution_count": 6,
     "metadata": {},
     "output_type": "execute_result"
    }
   ],
   "source": [
    "country_layer = gpd.GeoDataFrame.from_file('tutorial-files/tutorial6/country-attributes.gpkg')\n",
    "country_layer"
   ]
  },
  {
   "cell_type": "markdown",
   "id": "490eb911-af1e-4686-9e12-2d148a3af6f0",
   "metadata": {},
   "source": [
    "Add target values for total personal km (car pkm) and tonne kilometers (freight tkm):"
   ]
  },
  {
   "cell_type": "code",
   "execution_count": 7,
   "id": "6c391eb0-ca95-4052-a8fa-a603bcba2690",
   "metadata": {},
   "outputs": [
    {
     "data": {
      "text/html": [
       "<div>\n",
       "<style scoped>\n",
       "    .dataframe tbody tr th:only-of-type {\n",
       "        vertical-align: middle;\n",
       "    }\n",
       "\n",
       "    .dataframe tbody tr th {\n",
       "        vertical-align: top;\n",
       "    }\n",
       "\n",
       "    .dataframe thead th {\n",
       "        text-align: right;\n",
       "    }\n",
       "</style>\n",
       "<table border=\"1\" class=\"dataframe\">\n",
       "  <thead>\n",
       "    <tr style=\"text-align: right;\">\n",
       "      <th></th>\n",
       "      <th>cntr_code</th>\n",
       "      <th>index</th>\n",
       "      <th>border_share</th>\n",
       "      <th>border_length</th>\n",
       "      <th>border_length_shared</th>\n",
       "      <th>border_crossings_count</th>\n",
       "      <th>neighbors</th>\n",
       "      <th>population</th>\n",
       "      <th>area</th>\n",
       "      <th>geometry</th>\n",
       "      <th>car_mio_pkm</th>\n",
       "      <th>freight_mio_tkm</th>\n",
       "    </tr>\n",
       "  </thead>\n",
       "  <tbody>\n",
       "    <tr>\n",
       "      <th>0</th>\n",
       "      <td>DK</td>\n",
       "      <td>0</td>\n",
       "      <td>0.015467</td>\n",
       "      <td>4088.436575</td>\n",
       "      <td>63.236291</td>\n",
       "      <td>5.0</td>\n",
       "      <td>2</td>\n",
       "      <td>8.396369e+06</td>\n",
       "      <td>43653.093630</td>\n",
       "      <td>MULTIPOLYGON (((10.26796 55.03071, 10.27580 55...</td>\n",
       "      <td>60000</td>\n",
       "      <td>15000</td>\n",
       "    </tr>\n",
       "    <tr>\n",
       "      <th>1</th>\n",
       "      <td>FI</td>\n",
       "      <td>0</td>\n",
       "      <td>0.269796</td>\n",
       "      <td>8715.390137</td>\n",
       "      <td>2351.374349</td>\n",
       "      <td>136.0</td>\n",
       "      <td>3</td>\n",
       "      <td>9.547163e+06</td>\n",
       "      <td>337512.028767</td>\n",
       "      <td>MULTIPOLYGON (((19.96477 59.98505, 19.96479 59...</td>\n",
       "      <td>65000</td>\n",
       "      <td>17000</td>\n",
       "    </tr>\n",
       "    <tr>\n",
       "      <th>2</th>\n",
       "      <td>NO</td>\n",
       "      <td>0</td>\n",
       "      <td>0.101108</td>\n",
       "      <td>24434.055949</td>\n",
       "      <td>2470.468692</td>\n",
       "      <td>176.0</td>\n",
       "      <td>3</td>\n",
       "      <td>8.527085e+06</td>\n",
       "      <td>322504.893423</td>\n",
       "      <td>MULTIPOLYGON (((4.88766 59.29444, 4.88027 59.2...</td>\n",
       "      <td>65000</td>\n",
       "      <td>20000</td>\n",
       "    </tr>\n",
       "    <tr>\n",
       "      <th>3</th>\n",
       "      <td>SE</td>\n",
       "      <td>0</td>\n",
       "      <td>0.213012</td>\n",
       "      <td>9981.249404</td>\n",
       "      <td>2126.124196</td>\n",
       "      <td>128.0</td>\n",
       "      <td>3</td>\n",
       "      <td>1.621385e+07</td>\n",
       "      <td>449736.409751</td>\n",
       "      <td>MULTIPOLYGON (((12.71874 55.89266, 12.69803 55...</td>\n",
       "      <td>100000</td>\n",
       "      <td>50000</td>\n",
       "    </tr>\n",
       "  </tbody>\n",
       "</table>\n",
       "</div>"
      ],
      "text/plain": [
       "  cntr_code  index  border_share  ...                                           geometry  car_mio_pkm  freight_mio_tkm\n",
       "0        DK      0      0.015467  ...  MULTIPOLYGON (((10.26796 55.03071, 10.27580 55...        60000            15000\n",
       "1        FI      0      0.269796  ...  MULTIPOLYGON (((19.96477 59.98505, 19.96479 59...        65000            17000\n",
       "2        NO      0      0.101108  ...  MULTIPOLYGON (((4.88766 59.29444, 4.88027 59.2...        65000            20000\n",
       "3        SE      0      0.213012  ...  MULTIPOLYGON (((12.71874 55.89266, 12.69803 55...       100000            50000\n",
       "\n",
       "[4 rows x 12 columns]"
      ]
     },
     "execution_count": 7,
     "metadata": {},
     "output_type": "execute_result"
    }
   ],
   "source": [
    "country_layer = country_layer.merge(pd.read_csv('tutorial-files/_input/targets-tutorial.csv')[[taz_cn, 'car_mio_pkm', 'freight_mio_tkm']], on=taz_cn)\n",
    "country_layer"
   ]
  },
  {
   "cell_type": "markdown",
   "id": "62b33563-a806-4888-b205-2dc9d9a2da7b",
   "metadata": {},
   "source": [
    "Cost matrices"
   ]
  },
  {
   "cell_type": "code",
   "execution_count": 8,
   "id": "539d8e62-f962-4503-854f-a2d557d684e5",
   "metadata": {},
   "outputs": [
    {
     "data": {
      "text/plain": [
       "(69, 69, 2)"
      ]
     },
     "execution_count": 8,
     "metadata": {},
     "output_type": "execute_result"
    }
   ],
   "source": [
    "cost_mtx = np.load('tutorial-files/tutorial4/cost-matrices.npy')\n",
    "cost_mtx.shape # (origin, destination, cost), cost: 0=travel time, 1=distance"
   ]
  },
  {
   "cell_type": "markdown",
   "id": "b47ddc7b-8625-453c-b506-d7666add0a4d",
   "metadata": {},
   "source": [
    "## National distribution\n",
    "\n",
    "In an iteration over the countries, national long and short distance transport is distributed. This results in\n",
    "- OD-matrices for long-distance transport\n",
    "- network loads as columns in the edges `GeoDataFrame` for short-distance transport\n",
    "\n",
    "The distribution is performed for both private and freight road-based transport.\n",
    "\n",
    "First, the target values per sector (national and international, long- and short-distance) are determined based on the country attributes from `tutorial6` and the overall target in travel volume. The target values include VKT and trips. Then, these sector targets are applied as input for the\n",
    "- __long-distance gravity model__\n",
    "- __short-distance weighted network assignment__\n",
    "\n",
    "For short distance travel, a part of the VKT is assigned to the subordinate road network, which is not inlcuded in the road network model as edges. For this, the aggregated network length per TAZ is used, and the resulting subordniate network VKT are added as an attribute of the TAZ. "
   ]
  },
  {
   "cell_type": "code",
   "execution_count": 9,
   "id": "c8bb5722-4798-4369-917b-2bb88c93f8dc",
   "metadata": {},
   "outputs": [],
   "source": [
    "path_export = 'tutorial-files/tutorial7/'\n",
    "path_import = 'tutorial-files/tutorial1/'"
   ]
  },
  {
   "cell_type": "code",
   "execution_count": 10,
   "id": "62291c4a-81f7-4142-8f3d-62183f796e1d",
   "metadata": {},
   "outputs": [],
   "source": [
    "gm = DistributeTraffic.GravityModel(cost_mtx, taz, taz_cn='cntr_code')"
   ]
  },
  {
   "cell_type": "markdown",
   "id": "d0c5166c-84ac-411f-9b5b-91e3580361dc",
   "metadata": {},
   "source": [
    "Distribution"
   ]
  },
  {
   "cell_type": "code",
   "execution_count": 11,
   "id": "6fb5ddb6-07e8-4b11-817a-bd44f72a13e1",
   "metadata": {
    "tags": []
   },
   "outputs": [
    {
     "name": "stdout",
     "output_type": "stream",
     "text": [
      "Starting national distribution: 2023-03-21 11:12:07.882902\n",
      "FI\n",
      "Scaling factor personal transport for FI: 0.4490421116342207\n",
      "Freight transport gravity model result for FI: Relation to target vkm 0.9910435259393833\n",
      "DK\n",
      "Scaling factor personal transport for DK: 0.940780924347826\n",
      "Freight transport gravity model result for DK: Relation to target vkm 0.7624308514138889\n",
      "SE\n",
      "Scaling factor personal transport for SE: 0.38607105515386103\n",
      "Freight transport gravity model result for SE: Relation to target vkm 0.97013065643473\n"
     ]
    },
    {
     "name": "stderr",
     "output_type": "stream",
     "text": [
      "C:\\Users\\thom_nn\\.conda\\envs\\ultimo\\lib\\site-packages\\ultimo\\DistributeTraffic.py:650: RuntimeWarning: divide by zero encountered in scalar divide\n",
      "  taz_veh = taz_vkt / agg_w_len\n"
     ]
    },
    {
     "name": "stdout",
     "output_type": "stream",
     "text": [
      "NO\n",
      "Scaling factor personal transport for NO: 0.3621314714443569\n",
      "Freight transport gravity model result for NO: Relation to target vkm 0.7789780510136224\n",
      "Finished at 2023-03-21 11:12:22.951842\n"
     ]
    },
    {
     "data": {
      "text/html": [
       "<div>\n",
       "<style scoped>\n",
       "    .dataframe tbody tr th:only-of-type {\n",
       "        vertical-align: middle;\n",
       "    }\n",
       "\n",
       "    .dataframe tbody tr th {\n",
       "        vertical-align: top;\n",
       "    }\n",
       "\n",
       "    .dataframe thead th {\n",
       "        text-align: right;\n",
       "    }\n",
       "</style>\n",
       "<table border=\"1\" class=\"dataframe\">\n",
       "  <thead>\n",
       "    <tr style=\"text-align: right;\">\n",
       "      <th></th>\n",
       "      <th>nuts_id</th>\n",
       "      <th>cntr_code</th>\n",
       "      <th>nuts_name</th>\n",
       "      <th>geometry</th>\n",
       "      <th>population</th>\n",
       "      <th>index_nat</th>\n",
       "      <th>index_int</th>\n",
       "      <th>id</th>\n",
       "      <th>length_sub</th>\n",
       "      <th>car_sub</th>\n",
       "      <th>area</th>\n",
       "      <th>lcv_sub</th>\n",
       "      <th>mft_sub</th>\n",
       "      <th>hft_sub</th>\n",
       "    </tr>\n",
       "  </thead>\n",
       "  <tbody>\n",
       "    <tr>\n",
       "      <th>0</th>\n",
       "      <td>FI193</td>\n",
       "      <td>FI</td>\n",
       "      <td>Keski-Suomi</td>\n",
       "      <td>MULTIPOLYGON (((26.13865 63.45759, 26.16055 63...</td>\n",
       "      <td>510850.572340</td>\n",
       "      <td>0.903992</td>\n",
       "      <td>0.889445</td>\n",
       "      <td>11</td>\n",
       "      <td>1130.241897</td>\n",
       "      <td>2.369736e+08</td>\n",
       "      <td>1.995183e+10</td>\n",
       "      <td>0.0</td>\n",
       "      <td>0.0</td>\n",
       "      <td>0.0</td>\n",
       "    </tr>\n",
       "    <tr>\n",
       "      <th>1</th>\n",
       "      <td>FI194</td>\n",
       "      <td>FI</td>\n",
       "      <td>Etelä-Pohjanmaa</td>\n",
       "      <td>MULTIPOLYGON (((21.64783 62.01959, 21.63880 62...</td>\n",
       "      <td>358466.021589</td>\n",
       "      <td>0.818465</td>\n",
       "      <td>0.805294</td>\n",
       "      <td>12</td>\n",
       "      <td>871.008000</td>\n",
       "      <td>1.573763e+08</td>\n",
       "      <td>1.399198e+10</td>\n",
       "      <td>0.0</td>\n",
       "      <td>0.0</td>\n",
       "      <td>0.0</td>\n",
       "    </tr>\n",
       "    <tr>\n",
       "      <th>2</th>\n",
       "      <td>FI195</td>\n",
       "      <td>FI</td>\n",
       "      <td>Pohjanmaa</td>\n",
       "      <td>MULTIPOLYGON (((21.64783 62.01959, 21.52578 62...</td>\n",
       "      <td>340041.957401</td>\n",
       "      <td>0.698118</td>\n",
       "      <td>0.686884</td>\n",
       "      <td>13</td>\n",
       "      <td>607.585794</td>\n",
       "      <td>2.032313e+08</td>\n",
       "      <td>7.830521e+09</td>\n",
       "      <td>0.0</td>\n",
       "      <td>0.0</td>\n",
       "      <td>0.0</td>\n",
       "    </tr>\n",
       "    <tr>\n",
       "      <th>3</th>\n",
       "      <td>FI196</td>\n",
       "      <td>FI</td>\n",
       "      <td>Satakunta</td>\n",
       "      <td>MULTIPOLYGON (((21.41993 61.04744, 21.42015 61...</td>\n",
       "      <td>358255.966908</td>\n",
       "      <td>0.919390</td>\n",
       "      <td>0.904596</td>\n",
       "      <td>14</td>\n",
       "      <td>498.395849</td>\n",
       "      <td>1.457683e+08</td>\n",
       "      <td>8.239117e+09</td>\n",
       "      <td>0.0</td>\n",
       "      <td>0.0</td>\n",
       "      <td>0.0</td>\n",
       "    </tr>\n",
       "    <tr>\n",
       "      <th>4</th>\n",
       "      <td>FI197</td>\n",
       "      <td>FI</td>\n",
       "      <td>Pirkanmaa</td>\n",
       "      <td>MULTIPOLYGON (((22.83124 62.27089, 22.90118 62...</td>\n",
       "      <td>901022.640876</td>\n",
       "      <td>1.607394</td>\n",
       "      <td>1.581528</td>\n",
       "      <td>15</td>\n",
       "      <td>974.549378</td>\n",
       "      <td>4.366002e+08</td>\n",
       "      <td>1.461289e+10</td>\n",
       "      <td>0.0</td>\n",
       "      <td>0.0</td>\n",
       "      <td>0.0</td>\n",
       "    </tr>\n",
       "  </tbody>\n",
       "</table>\n",
       "</div>"
      ],
      "text/plain": [
       "  nuts_id cntr_code        nuts_name  ... lcv_sub  mft_sub  hft_sub\n",
       "0   FI193        FI      Keski-Suomi  ...     0.0      0.0      0.0\n",
       "1   FI194        FI  Etelä-Pohjanmaa  ...     0.0      0.0      0.0\n",
       "2   FI195        FI        Pohjanmaa  ...     0.0      0.0      0.0\n",
       "3   FI196        FI        Satakunta  ...     0.0      0.0      0.0\n",
       "4   FI197        FI        Pirkanmaa  ...     0.0      0.0      0.0\n",
       "\n",
       "[5 rows x 14 columns]"
      ]
     },
     "execution_count": 11,
     "metadata": {},
     "output_type": "execute_result"
    }
   ],
   "source": [
    "print('Starting national distribution: {}'.format(datetime.now()))\n",
    "taz_with_subvkt = pd.DataFrame()\n",
    "\n",
    "for cn in countries[:]:\n",
    "    print(cn)\n",
    "    # get targets\n",
    "    tv = DistributeTraffic.TargetValues(country_layer)\n",
    "    pt=tv.targets_personal_transport(cn=cn, target_col='car_mio_pkm')\n",
    "    ft=tv.targets_freight_transport(cn=cn, target_col='freight_mio_tkm')\n",
    "    \n",
    "    # get OD matrices\n",
    "    trips_pt = gm.trip_distribution_pt(target=pt['long'], cn=cn, mob_rate=25)  # cars (personal transport)\n",
    "    trips_ft = gm.trip_distribution_ft(target_vkt=ft['long'], target_trips=ft['trips_long'], cn=cn)  # trucks (freight transport)\n",
    "    \n",
    "    # save country OD matrices\n",
    "    trips_cn = np.zeros((trips_pt.shape[0], trips_pt.shape[0], 2))\n",
    "    trips_cn[:,:,0] += trips_pt\n",
    "    trips_cn[:,:,1] += trips_ft\n",
    "    np.save('tutorial-files/tutorial7/{}-nat.npy'.format(cn), trips_cn)\n",
    "    \n",
    "    # intrazonal network loads\n",
    "    net = gpd.GeoDataFrame.from_file(path_import + '{}_e'.format(cn) + '.gpkg')\n",
    "    # private transport - VKT per TAZ is determined and distributed to all edges within each TAZ \n",
    "    iz = DistributeTraffic.IntraZonal(taz[taz['cntr_code']==cn], net)\n",
    "    targets = {'car': pt['short']}\n",
    "    net_r, taz_pt = iz.road_type_weighted_single(target=targets, veh_types=['car'])\n",
    "    del net\n",
    "    # ft - VKT per TAZ is determined and distributed to all edges within each TAZ and surrounding TAZ within a 50km range\n",
    "    taz_pt.to_crs(epsg=3035, inplace=True)\n",
    "    taz_pt['area'] = taz_pt.area  # area per TAZ (smaller TAZ always get surrounding TAZ included, independent from distance)\n",
    "    iz = DistributeTraffic.IntraZonal(taz_pt, net_r)\n",
    "    net_r, taz_ft = iz.road_type_weighted_multiple(target=ft['short_segments_vkm'], matrix_dis=cost_mtx[:,:,1], index='index_nat', fac_cell=1.5, distance=50000)\n",
    "    \n",
    "    # merge taz_pt and taz_ft\n",
    "    taz_r= taz_pt.merge(taz_ft, on=taz_id)\n",
    "    \n",
    "    # save net with intrazonal traffic to file\n",
    "    net_r.to_file(path_export + '{}_short'.format(cn) + '.gpkg', driver='GPKG')\n",
    "    # add taz_r to result taz\n",
    "    taz_with_subvkt = pd.concat([taz_with_subvkt, taz_r])\n",
    "\n",
    "taz_with_subvkt = taz_with_subvkt.set_geometry(taz_geo)\n",
    "taz_with_subvkt.crs = 3035\n",
    "taz_with_subvkt.to_crs(epsg=4326, inplace=True)\n",
    "\n",
    "taz_with_subvkt.to_file(path_export + 'taz-tutorial-vkt' + '.gpkg', driver='GPKG')\n",
    "    \n",
    "print('Finished at {}'.format(datetime.now()))\n",
    "taz_with_subvkt.head()"
   ]
  },
  {
   "cell_type": "code",
   "execution_count": 12,
   "id": "2bed10db-ae8f-4323-9e83-397501182456",
   "metadata": {
    "tags": []
   },
   "outputs": [
    {
     "data": {
      "text/plain": [
       "<Axes: >"
      ]
     },
     "execution_count": 12,
     "metadata": {},
     "output_type": "execute_result"
    },
    {
     "data": {
      "image/png": "[encoded data removed]",
      "text/plain": [
       "<Figure size 640x480 with 1 Axes>"
      ]
     },
     "metadata": {},
     "output_type": "display_data"
    }
   ],
   "source": [
    "taz_with_subvkt.plot(column='car_sub', kind='geo')"
   ]
  },
  {
   "cell_type": "markdown",
   "id": "c8019a37-a92b-4953-a22c-0a9a5f1b44b2",
   "metadata": {},
   "source": [
    "## International distribution\n",
    "\n",
    "The international distribution results in\n",
    "- OD-matrices for international transport\n",
    "\n",
    "The distribution is performed for both private and freight road-based transport.\n",
    "\n",
    "First, the target values per sector (national and international, long- and short-distance) are determined based on the country attributes from `tutorial6` and the overall target in travel volume. The target values include VKT/PKT and trips. Then, these sector targets are applied as input for the\n",
    "- __long-distance gravity model__\n",
    "\n",
    "In contrast to the national distribution, all TAZ are included in the distribution. The international target values per country are calculated and applied for trip generation. \n",
    "\n",
    "In this tutorial, other surroundung countries are not included, which influences the result. For a project application, we would recommend to include the direct neighbors to the region into the model in order to get a realistic depiction of border-crossing travel."
   ]
  },
  {
   "cell_type": "markdown",
   "id": "194fc15c-e7b4-4271-93bd-e5f36af7b99b",
   "metadata": {},
   "source": [
    "First, the travel volume targets for international trips per country are determined and saved to a dictionary:"
   ]
  },
  {
   "cell_type": "code",
   "execution_count": 13,
   "id": "296228d8-c032-450a-8622-51dd0fb49381",
   "metadata": {},
   "outputs": [
    {
     "name": "stdout",
     "output_type": "stream",
     "text": [
      "FI\n",
      "DK\n",
      "SE\n",
      "NO\n"
     ]
    },
    {
     "data": {
      "text/plain": [
       "(3253124003.379552, 3149043163.39295)"
      ]
     },
     "execution_count": 13,
     "metadata": {},
     "output_type": "execute_result"
    }
   ],
   "source": [
    "targets_int_pt = {}\n",
    "targets_int_ft = {}\n",
    "for cn in countries[:]:\n",
    "    print(cn)\n",
    "    # get targets\n",
    "    tv = DistributeTraffic.TargetValues(country_layer)\n",
    "    pt=tv.targets_personal_transport(cn=cn, target_col='car_mio_pkm')\n",
    "    ft=tv.targets_freight_transport(cn=cn, target_col='freight_mio_tkm')\n",
    "\n",
    "    # save international targets\n",
    "    targets_int_pt.update({cn: {'int': pt['int'], 'trans': pt['trans']}})\n",
    "    targets_int_ft.update({cn: {'int_vkt': ft['int'], 'int_trips': ft['trips_int'], 'trans_vkt': ft['transit']}})\n",
    "\n",
    "# aggregate personal transport vkt (only int, trans is control value)\n",
    "target_pt = sum([targets_int_pt[cn]['int'] for cn in targets_int_pt])\n",
    "# aggregate freight transport vkt (only int, trans is control value)\n",
    "target_ft_vkt = sum([targets_int_ft[cn]['int_vkt'] for cn in targets_int_ft])\n",
    "\n",
    "target_pt, target_ft_vkt"
   ]
  },
  {
   "cell_type": "markdown",
   "id": "36f371db-e87a-45ab-8d33-fc7c04480800",
   "metadata": {},
   "source": [
    "These targets are used to create an international OD-Matrix"
   ]
  },
  {
   "cell_type": "code",
   "execution_count": 14,
   "id": "c1654b82-aa83-4c04-bf80-dce77d5cc3c3",
   "metadata": {},
   "outputs": [
    {
     "name": "stdout",
     "output_type": "stream",
     "text": [
      "2023-03-21 11:12:47.467679\n",
      "Scaling factor personal transport for None: 0.3996563454235578\n",
      "2023-03-21 11:12:48.425406\n"
     ]
    }
   ],
   "source": [
    "# OD matrix personal transport\n",
    "print(datetime.now())\n",
    "trips_pt_int = gm.trip_distribution_pt(target_pt, mob_rate=0.25)\n",
    "print(datetime.now())"
   ]
  },
  {
   "cell_type": "code",
   "execution_count": 15,
   "id": "c5bf03b7-1592-46fc-b415-e83adc58b414",
   "metadata": {},
   "outputs": [
    {
     "name": "stdout",
     "output_type": "stream",
     "text": [
      "2023-03-21 11:12:50.534150\n",
      "Freight transport gravity model result for None: Relation to target vkm 0.4075921353527611\n",
      "2023-03-21 11:12:51.470117\n"
     ]
    }
   ],
   "source": [
    "# OD matrix freight transport\n",
    "print(datetime.now())\n",
    "trips_ft_int = gm.trip_distribution_ft(target_vkt=target_ft_vkt, target_trips=targets_int_ft, trips_key='int_trips')\n",
    "print(datetime.now())"
   ]
  },
  {
   "cell_type": "code",
   "execution_count": 16,
   "id": "14fd240f-17bf-4387-8329-e7848397b9ec",
   "metadata": {},
   "outputs": [],
   "source": [
    "# save international OD matrices\n",
    "trips_int = np.zeros((trips_pt_int.shape[0], trips_pt_int.shape[0], 2))\n",
    "trips_int[:,:,0] += trips_pt_int\n",
    "trips_int[:,:,1] += trips_ft_int\n",
    "np.save('tutorial-files/tutorial7/int.npy', trips_int)"
   ]
  },
  {
   "cell_type": "code",
   "execution_count": null,
   "id": "cb846999-69c6-4c68-9e7b-b89790e2ff08",
   "metadata": {},
   "outputs": [],
   "source": []
  }
 ],
 "metadata": {
  "kernelspec": {
   "display_name": "Python 3 (ipykernel)",
   "language": "python",
   "name": "python3"
  },
  "language_info": {
   "codemirror_mode": {
    "name": "ipython",
    "version": 3
   },
   "file_extension": ".py",
   "mimetype": "text/x-python",
   "name": "python",
   "nbconvert_exporter": "python",
   "pygments_lexer": "ipython3",
   "version": "3.10.9"
  }
 },
 "nbformat": 4,
 "nbformat_minor": 5
}
