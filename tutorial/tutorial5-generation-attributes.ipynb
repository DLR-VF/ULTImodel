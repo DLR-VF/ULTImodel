{
 "cells": [
  {
   "cell_type": "markdown",
   "id": "e905031a-a543-49ad-9c18-cef88afd62c2",
   "metadata": {},
   "source": [
    "# ULTIMO tutorial 5: Finalize attributes for trip generation and distribution\n",
    "\n",
    "In this tutorial, the attraction factors per TAZ that influence trip generation and distribution will be determined using the `AttractionFactors` methods."
   ]
  },
  {
   "cell_type": "markdown",
   "id": "aa71a56a-0877-4df7-97b6-9369e37892bf",
   "metadata": {},
   "source": [
    "The inputs are:\n",
    "- TAZ as GeoDataFrame\n",
    "- Population density as point GeoDataFrame"
   ]
  },
  {
   "cell_type": "code",
   "execution_count": 1,
   "id": "5416986f-370f-49ac-aab3-c472deafa2a8",
   "metadata": {},
   "outputs": [],
   "source": [
    "# for network creation\n",
    "import generationData.AttractionFactors as AttractionFactors"
   ]
  },
  {
   "cell_type": "code",
   "execution_count": 2,
   "id": "3cc5c6b2-01e5-4700-bedc-65c82c1a872e",
   "metadata": {},
   "outputs": [],
   "source": [
    "# for reading and saving files etc.\n",
    "import geopandas as gpd\n",
    "import pandas as pd\n",
    "import numpy as np\n",
    "# for time tracking\n",
    "from datetime import datetime"
   ]
  },
  {
   "cell_type": "markdown",
   "id": "3118231b-a6a3-4fd7-8520-b4cbb6308b1a",
   "metadata": {
    "tags": []
   },
   "source": [
    "## Read input: TAZ and population\n",
    "\n",
    "The input includes georeferenced TAZ in `EPSG:4326` with the following _required_ attributes (columns):\n",
    "\n",
    "* __ID__ | field including a unique ID, e.g. the NUTS ID\n",
    "* __Country__ | field containing the ISO-2 code of the respective country\n",
    "\n",
    "Other attributes like name etc. can be added, but are not required for the following steps.\n",
    "\n",
    "To determine population per TAZ, a GeoDataFrame containing points with population on a 1km grid is used, based on [GHSL](https://ghsl.jrc.ec.europa.eu/download.php?ds=pop). "
   ]
  },
  {
   "cell_type": "code",
   "execution_count": 3,
   "id": "f1f7801d-f328-429c-a75c-4a8fc89e4337",
   "metadata": {},
   "outputs": [
    {
     "data": {
      "text/html": [
       "<div>\n",
       "<style scoped>\n",
       "    .dataframe tbody tr th:only-of-type {\n",
       "        vertical-align: middle;\n",
       "    }\n",
       "\n",
       "    .dataframe tbody tr th {\n",
       "        vertical-align: top;\n",
       "    }\n",
       "\n",
       "    .dataframe thead th {\n",
       "        text-align: right;\n",
       "    }\n",
       "</style>\n",
       "<table border=\"1\" class=\"dataframe\">\n",
       "  <thead>\n",
       "    <tr style=\"text-align: right;\">\n",
       "      <th></th>\n",
       "      <th>nuts_id</th>\n",
       "      <th>cntr_code</th>\n",
       "      <th>nuts_name</th>\n",
       "      <th>geometry</th>\n",
       "    </tr>\n",
       "  </thead>\n",
       "  <tbody>\n",
       "    <tr>\n",
       "      <th>0</th>\n",
       "      <td>FI193</td>\n",
       "      <td>FI</td>\n",
       "      <td>Keski-Suomi</td>\n",
       "      <td>MULTIPOLYGON (((26.13865 63.45759, 26.16055 63...</td>\n",
       "    </tr>\n",
       "    <tr>\n",
       "      <th>1</th>\n",
       "      <td>FI194</td>\n",
       "      <td>FI</td>\n",
       "      <td>Etelä-Pohjanmaa</td>\n",
       "      <td>MULTIPOLYGON (((21.64783 62.01959, 21.63880 62...</td>\n",
       "    </tr>\n",
       "    <tr>\n",
       "      <th>2</th>\n",
       "      <td>FI195</td>\n",
       "      <td>FI</td>\n",
       "      <td>Pohjanmaa</td>\n",
       "      <td>MULTIPOLYGON (((21.64783 62.01959, 21.52578 62...</td>\n",
       "    </tr>\n",
       "    <tr>\n",
       "      <th>3</th>\n",
       "      <td>FI196</td>\n",
       "      <td>FI</td>\n",
       "      <td>Satakunta</td>\n",
       "      <td>MULTIPOLYGON (((21.41993 61.04744, 21.42015 61...</td>\n",
       "    </tr>\n",
       "    <tr>\n",
       "      <th>4</th>\n",
       "      <td>FI197</td>\n",
       "      <td>FI</td>\n",
       "      <td>Pirkanmaa</td>\n",
       "      <td>MULTIPOLYGON (((22.83124 62.27089, 22.90118 62...</td>\n",
       "    </tr>\n",
       "  </tbody>\n",
       "</table>\n",
       "</div>"
      ],
      "text/plain": [
       "  nuts_id cntr_code        nuts_name  \\\n",
       "0   FI193        FI      Keski-Suomi   \n",
       "1   FI194        FI  Etelä-Pohjanmaa   \n",
       "2   FI195        FI        Pohjanmaa   \n",
       "3   FI196        FI        Satakunta   \n",
       "4   FI197        FI        Pirkanmaa   \n",
       "\n",
       "                                            geometry  \n",
       "0  MULTIPOLYGON (((26.13865 63.45759, 26.16055 63...  \n",
       "1  MULTIPOLYGON (((21.64783 62.01959, 21.63880 62...  \n",
       "2  MULTIPOLYGON (((21.64783 62.01959, 21.52578 62...  \n",
       "3  MULTIPOLYGON (((21.41993 61.04744, 21.42015 61...  \n",
       "4  MULTIPOLYGON (((22.83124 62.27089, 22.90118 62...  "
      ]
     },
     "execution_count": 3,
     "metadata": {},
     "output_type": "execute_result"
    }
   ],
   "source": [
    "# load taz from database or local\n",
    "taz = gpd.GeoDataFrame.from_file('tutorial-files/_input/taz-tutorial.gpkg')\n",
    "\n",
    "# defining ID, country and geometry column names of taz\n",
    "taz_id = \"nuts_id\"\n",
    "taz_cn = \"cntr_code\"\n",
    "taz_geo = \"geometry\"\n",
    "\n",
    "taz.head()"
   ]
  },
  {
   "cell_type": "code",
   "execution_count": 4,
   "id": "19040a6e-eb00-4cdd-89ec-6b88d7d7212a",
   "metadata": {},
   "outputs": [],
   "source": [
    "countries = taz[taz_cn].unique()"
   ]
  },
  {
   "cell_type": "code",
   "execution_count": 5,
   "id": "9fe3bdf4-11b3-463f-9d08-2f9c6b5d2216",
   "metadata": {},
   "outputs": [],
   "source": [
    "# read population\n",
    "pop = gpd.GeoDataFrame.from_file('tutorial-files/_input/4326-points-population.gpkg')"
   ]
  },
  {
   "cell_type": "markdown",
   "id": "a74bc985-7a91-4f77-93ac-7f7c820bc496",
   "metadata": {},
   "source": [
    "## Attraction factors on cell level\n",
    "\n",
    "For the attraction factors on cell level, which will be used for trip generation and distribution, __population__ and __industry__ data is aggregated per TAZ. This information will then be transformed to an attraction index for\n",
    "\n",
    "- national distribution\n",
    "- international distribution"
   ]
  },
  {
   "cell_type": "code",
   "execution_count": 6,
   "id": "8555c962-e376-4a45-9a7a-113718296dc4",
   "metadata": {},
   "outputs": [],
   "source": [
    "path_export = 'tutorial-files/tutorial5/'"
   ]
  },
  {
   "cell_type": "code",
   "execution_count": 7,
   "id": "776e857a-5c22-4241-bce3-b05999506849",
   "metadata": {},
   "outputs": [],
   "source": [
    "att = AttractionFactors.AttractionIndex(taz)"
   ]
  },
  {
   "cell_type": "markdown",
   "id": "bdecd0e4-979f-4e9e-a686-26743c95c9e2",
   "metadata": {},
   "source": [
    "### Population\n",
    "\n",
    "Get population per TAZ based on population density from a `Point GeoDataFrame`"
   ]
  },
  {
   "cell_type": "code",
   "execution_count": 8,
   "id": "62209269-9a31-4a4f-80fa-972a3116fa47",
   "metadata": {},
   "outputs": [
    {
     "name": "stdout",
     "output_type": "stream",
     "text": [
      "... get population 2023-03-16 10:50:22.500211\n",
      "finished at 2023-03-16 10:59:48.201868\n"
     ]
    }
   ],
   "source": [
    "# population\n",
    "print(\"... get population {}\".format(datetime.now()))\n",
    "att.population_from_point(pop)\n",
    "print(\"finished at {}\".format(datetime.now()))"
   ]
  },
  {
   "cell_type": "markdown",
   "id": "19afb7a7-f366-4eb4-846c-7a07a9cc3fb8",
   "metadata": {
    "tags": []
   },
   "source": [
    "### Industry\n",
    "\n",
    "Get industry areas from OSM and aggreate total industrial area, number of industrial areas per TAZ"
   ]
  },
  {
   "cell_type": "code",
   "execution_count": 9,
   "id": "8e8d1124-85b8-4098-9cba-729eb62b05d1",
   "metadata": {},
   "outputs": [
    {
     "name": "stdout",
     "output_type": "stream",
     "text": [
      "... get industrial sites from OSM 2023-03-16 10:59:48.211931\n"
     ]
    },
    {
     "name": "stderr",
     "output_type": "stream",
     "text": [
      "69it [23:04, 20.06s/it]"
     ]
    },
    {
     "name": "stdout",
     "output_type": "stream",
     "text": [
      "finished at 2023-03-16 11:22:52.230783\n"
     ]
    },
    {
     "name": "stderr",
     "output_type": "stream",
     "text": [
      "\n"
     ]
    }
   ],
   "source": [
    "# industry\n",
    "print(\"... get industrial sites from OSM {}\".format(datetime.now()))\n",
    "att.industry_attributes_from_osm()\n",
    "print(\"finished at {}\".format(datetime.now()))"
   ]
  },
  {
   "cell_type": "markdown",
   "id": "35285b94-f75f-4672-b067-fbefc32b12f7",
   "metadata": {},
   "source": [
    "### Calculate attraction index\n",
    "\n",
    "The attraction index is calculated per TAZ using the values for population, industrial site count and aggregated area in relation to the mean. This means, the index for national transport is different to the international index. Hence, we set the scope in the `att.attraction_index()` function for the national index and leave is as `None` for the international index."
   ]
  },
  {
   "cell_type": "markdown",
   "id": "10fe0cdc-b15d-45c4-9843-56bc226b661b",
   "metadata": {},
   "source": [
    "For each country (national)"
   ]
  },
  {
   "cell_type": "code",
   "execution_count": 14,
   "id": "1d212e97-2f65-4461-9d94-b7d0ec0be62f",
   "metadata": {},
   "outputs": [
    {
     "data": {
      "text/html": [
       "<div>\n",
       "<style scoped>\n",
       "    .dataframe tbody tr th:only-of-type {\n",
       "        vertical-align: middle;\n",
       "    }\n",
       "\n",
       "    .dataframe tbody tr th {\n",
       "        vertical-align: top;\n",
       "    }\n",
       "\n",
       "    .dataframe thead th {\n",
       "        text-align: right;\n",
       "    }\n",
       "</style>\n",
       "<table border=\"1\" class=\"dataframe\">\n",
       "  <thead>\n",
       "    <tr style=\"text-align: right;\">\n",
       "      <th></th>\n",
       "      <th>nuts_id</th>\n",
       "      <th>cntr_code</th>\n",
       "      <th>nuts_name</th>\n",
       "      <th>geometry</th>\n",
       "      <th>population</th>\n",
       "      <th>ind_area_count</th>\n",
       "      <th>ind_area_sum</th>\n",
       "      <th>index_nat</th>\n",
       "    </tr>\n",
       "  </thead>\n",
       "  <tbody>\n",
       "    <tr>\n",
       "      <th>0</th>\n",
       "      <td>FI193</td>\n",
       "      <td>FI</td>\n",
       "      <td>Keski-Suomi</td>\n",
       "      <td>MULTIPOLYGON (((26.13865 63.45759, 26.16055 63...</td>\n",
       "      <td>510850.572340</td>\n",
       "      <td>282</td>\n",
       "      <td>2.246628e+07</td>\n",
       "      <td>0.903992</td>\n",
       "    </tr>\n",
       "    <tr>\n",
       "      <th>1</th>\n",
       "      <td>FI194</td>\n",
       "      <td>FI</td>\n",
       "      <td>Etelä-Pohjanmaa</td>\n",
       "      <td>MULTIPOLYGON (((21.64783 62.01959, 21.63880 62...</td>\n",
       "      <td>358466.021589</td>\n",
       "      <td>396</td>\n",
       "      <td>2.183331e+07</td>\n",
       "      <td>0.818465</td>\n",
       "    </tr>\n",
       "    <tr>\n",
       "      <th>2</th>\n",
       "      <td>FI195</td>\n",
       "      <td>FI</td>\n",
       "      <td>Pohjanmaa</td>\n",
       "      <td>MULTIPOLYGON (((21.64783 62.01959, 21.52578 62...</td>\n",
       "      <td>340041.957401</td>\n",
       "      <td>276</td>\n",
       "      <td>1.842693e+07</td>\n",
       "      <td>0.698118</td>\n",
       "    </tr>\n",
       "    <tr>\n",
       "      <th>3</th>\n",
       "      <td>FI196</td>\n",
       "      <td>FI</td>\n",
       "      <td>Satakunta</td>\n",
       "      <td>MULTIPOLYGON (((21.41993 61.04744, 21.42015 61...</td>\n",
       "      <td>358255.966908</td>\n",
       "      <td>390</td>\n",
       "      <td>3.533939e+07</td>\n",
       "      <td>0.919390</td>\n",
       "    </tr>\n",
       "    <tr>\n",
       "      <th>4</th>\n",
       "      <td>FI197</td>\n",
       "      <td>FI</td>\n",
       "      <td>Pirkanmaa</td>\n",
       "      <td>MULTIPOLYGON (((22.83124 62.27089, 22.90118 62...</td>\n",
       "      <td>901022.640876</td>\n",
       "      <td>505</td>\n",
       "      <td>4.031231e+07</td>\n",
       "      <td>1.607394</td>\n",
       "    </tr>\n",
       "  </tbody>\n",
       "</table>\n",
       "</div>"
      ],
      "text/plain": [
       "  nuts_id cntr_code        nuts_name  \\\n",
       "0   FI193        FI      Keski-Suomi   \n",
       "1   FI194        FI  Etelä-Pohjanmaa   \n",
       "2   FI195        FI        Pohjanmaa   \n",
       "3   FI196        FI        Satakunta   \n",
       "4   FI197        FI        Pirkanmaa   \n",
       "\n",
       "                                            geometry     population  \\\n",
       "0  MULTIPOLYGON (((26.13865 63.45759, 26.16055 63...  510850.572340   \n",
       "1  MULTIPOLYGON (((21.64783 62.01959, 21.63880 62...  358466.021589   \n",
       "2  MULTIPOLYGON (((21.64783 62.01959, 21.52578 62...  340041.957401   \n",
       "3  MULTIPOLYGON (((21.41993 61.04744, 21.42015 61...  358255.966908   \n",
       "4  MULTIPOLYGON (((22.83124 62.27089, 22.90118 62...  901022.640876   \n",
       "\n",
       "   ind_area_count  ind_area_sum  index_nat  \n",
       "0             282  2.246628e+07   0.903992  \n",
       "1             396  2.183331e+07   0.818465  \n",
       "2             276  1.842693e+07   0.698118  \n",
       "3             390  3.533939e+07   0.919390  \n",
       "4             505  4.031231e+07   1.607394  "
      ]
     },
     "execution_count": 14,
     "metadata": {},
     "output_type": "execute_result"
    }
   ],
   "source": [
    "# iterate over countries, calculate index per country and concat TAZ per country to final TAZ GeoDataFrame\n",
    "for i, cn in enumerate(countries):\n",
    "    taz_cn = att.attraction_index(scope=cn)\n",
    "    if i == 0:\n",
    "        taz_all_nat = taz_cn.copy()\n",
    "    else:\n",
    "        taz_all_nat = pd.concat([taz_all_nat, taz_cn])\n",
    "taz_all_nat.head()"
   ]
  },
  {
   "cell_type": "markdown",
   "id": "9b6d681b-21c9-41b4-9eb0-642cd3ceec27",
   "metadata": {},
   "source": [
    "International"
   ]
  },
  {
   "cell_type": "code",
   "execution_count": 15,
   "id": "df9a68e3-f614-4249-a71e-0792b29fec24",
   "metadata": {},
   "outputs": [
    {
     "data": {
      "text/html": [
       "<div>\n",
       "<style scoped>\n",
       "    .dataframe tbody tr th:only-of-type {\n",
       "        vertical-align: middle;\n",
       "    }\n",
       "\n",
       "    .dataframe tbody tr th {\n",
       "        vertical-align: top;\n",
       "    }\n",
       "\n",
       "    .dataframe thead th {\n",
       "        text-align: right;\n",
       "    }\n",
       "</style>\n",
       "<table border=\"1\" class=\"dataframe\">\n",
       "  <thead>\n",
       "    <tr style=\"text-align: right;\">\n",
       "      <th></th>\n",
       "      <th>nuts_id</th>\n",
       "      <th>cntr_code</th>\n",
       "      <th>nuts_name</th>\n",
       "      <th>geometry</th>\n",
       "      <th>population</th>\n",
       "      <th>ind_area_count</th>\n",
       "      <th>ind_area_sum</th>\n",
       "      <th>index_int</th>\n",
       "    </tr>\n",
       "  </thead>\n",
       "  <tbody>\n",
       "    <tr>\n",
       "      <th>0</th>\n",
       "      <td>FI193</td>\n",
       "      <td>FI</td>\n",
       "      <td>Keski-Suomi</td>\n",
       "      <td>MULTIPOLYGON (((26.13865 63.45759, 26.16055 63...</td>\n",
       "      <td>510850.572340</td>\n",
       "      <td>282</td>\n",
       "      <td>2.246628e+07</td>\n",
       "      <td>0.889445</td>\n",
       "    </tr>\n",
       "    <tr>\n",
       "      <th>1</th>\n",
       "      <td>FI194</td>\n",
       "      <td>FI</td>\n",
       "      <td>Etelä-Pohjanmaa</td>\n",
       "      <td>MULTIPOLYGON (((21.64783 62.01959, 21.63880 62...</td>\n",
       "      <td>358466.021589</td>\n",
       "      <td>396</td>\n",
       "      <td>2.183331e+07</td>\n",
       "      <td>0.805294</td>\n",
       "    </tr>\n",
       "    <tr>\n",
       "      <th>2</th>\n",
       "      <td>FI195</td>\n",
       "      <td>FI</td>\n",
       "      <td>Pohjanmaa</td>\n",
       "      <td>MULTIPOLYGON (((21.64783 62.01959, 21.52578 62...</td>\n",
       "      <td>340041.957401</td>\n",
       "      <td>276</td>\n",
       "      <td>1.842693e+07</td>\n",
       "      <td>0.686884</td>\n",
       "    </tr>\n",
       "    <tr>\n",
       "      <th>3</th>\n",
       "      <td>FI196</td>\n",
       "      <td>FI</td>\n",
       "      <td>Satakunta</td>\n",
       "      <td>MULTIPOLYGON (((21.41993 61.04744, 21.42015 61...</td>\n",
       "      <td>358255.966908</td>\n",
       "      <td>390</td>\n",
       "      <td>3.533939e+07</td>\n",
       "      <td>0.904596</td>\n",
       "    </tr>\n",
       "    <tr>\n",
       "      <th>4</th>\n",
       "      <td>FI197</td>\n",
       "      <td>FI</td>\n",
       "      <td>Pirkanmaa</td>\n",
       "      <td>MULTIPOLYGON (((22.83124 62.27089, 22.90118 62...</td>\n",
       "      <td>901022.640876</td>\n",
       "      <td>505</td>\n",
       "      <td>4.031231e+07</td>\n",
       "      <td>1.581528</td>\n",
       "    </tr>\n",
       "  </tbody>\n",
       "</table>\n",
       "</div>"
      ],
      "text/plain": [
       "  nuts_id cntr_code        nuts_name  \\\n",
       "0   FI193        FI      Keski-Suomi   \n",
       "1   FI194        FI  Etelä-Pohjanmaa   \n",
       "2   FI195        FI        Pohjanmaa   \n",
       "3   FI196        FI        Satakunta   \n",
       "4   FI197        FI        Pirkanmaa   \n",
       "\n",
       "                                            geometry     population  \\\n",
       "0  MULTIPOLYGON (((26.13865 63.45759, 26.16055 63...  510850.572340   \n",
       "1  MULTIPOLYGON (((21.64783 62.01959, 21.63880 62...  358466.021589   \n",
       "2  MULTIPOLYGON (((21.64783 62.01959, 21.52578 62...  340041.957401   \n",
       "3  MULTIPOLYGON (((21.41993 61.04744, 21.42015 61...  358255.966908   \n",
       "4  MULTIPOLYGON (((22.83124 62.27089, 22.90118 62...  901022.640876   \n",
       "\n",
       "   ind_area_count  ind_area_sum  index_int  \n",
       "0             282  2.246628e+07   0.889445  \n",
       "1             396  2.183331e+07   0.805294  \n",
       "2             276  1.842693e+07   0.686884  \n",
       "3             390  3.533939e+07   0.904596  \n",
       "4             505  4.031231e+07   1.581528  "
      ]
     },
     "execution_count": 15,
     "metadata": {},
     "output_type": "execute_result"
    }
   ],
   "source": [
    "# get international index\n",
    "taz_int = att.attraction_index()\n",
    "taz_int.head()"
   ]
  },
  {
   "cell_type": "markdown",
   "id": "0977a1d0-e750-4044-a69d-3cbfed580851",
   "metadata": {},
   "source": [
    "Merge both national and intenational index to final TAZ `GeoDataFrame` with attraction factors"
   ]
  },
  {
   "cell_type": "code",
   "execution_count": 16,
   "id": "0fa15b99-d92f-498b-9d52-fe10708cc49d",
   "metadata": {},
   "outputs": [
    {
     "data": {
      "text/html": [
       "<div>\n",
       "<style scoped>\n",
       "    .dataframe tbody tr th:only-of-type {\n",
       "        vertical-align: middle;\n",
       "    }\n",
       "\n",
       "    .dataframe tbody tr th {\n",
       "        vertical-align: top;\n",
       "    }\n",
       "\n",
       "    .dataframe thead th {\n",
       "        text-align: right;\n",
       "    }\n",
       "</style>\n",
       "<table border=\"1\" class=\"dataframe\">\n",
       "  <thead>\n",
       "    <tr style=\"text-align: right;\">\n",
       "      <th></th>\n",
       "      <th>nuts_id</th>\n",
       "      <th>cntr_code</th>\n",
       "      <th>nuts_name</th>\n",
       "      <th>geometry</th>\n",
       "      <th>population</th>\n",
       "      <th>ind_area_count</th>\n",
       "      <th>ind_area_sum</th>\n",
       "      <th>index_nat</th>\n",
       "      <th>index_int</th>\n",
       "    </tr>\n",
       "  </thead>\n",
       "  <tbody>\n",
       "    <tr>\n",
       "      <th>0</th>\n",
       "      <td>FI193</td>\n",
       "      <td>FI</td>\n",
       "      <td>Keski-Suomi</td>\n",
       "      <td>MULTIPOLYGON (((26.13865 63.45759, 26.16055 63...</td>\n",
       "      <td>510850.572340</td>\n",
       "      <td>282</td>\n",
       "      <td>2.246628e+07</td>\n",
       "      <td>0.903992</td>\n",
       "      <td>0.889445</td>\n",
       "    </tr>\n",
       "    <tr>\n",
       "      <th>1</th>\n",
       "      <td>FI194</td>\n",
       "      <td>FI</td>\n",
       "      <td>Etelä-Pohjanmaa</td>\n",
       "      <td>MULTIPOLYGON (((21.64783 62.01959, 21.63880 62...</td>\n",
       "      <td>358466.021589</td>\n",
       "      <td>396</td>\n",
       "      <td>2.183331e+07</td>\n",
       "      <td>0.818465</td>\n",
       "      <td>0.805294</td>\n",
       "    </tr>\n",
       "    <tr>\n",
       "      <th>2</th>\n",
       "      <td>FI195</td>\n",
       "      <td>FI</td>\n",
       "      <td>Pohjanmaa</td>\n",
       "      <td>MULTIPOLYGON (((21.64783 62.01959, 21.52578 62...</td>\n",
       "      <td>340041.957401</td>\n",
       "      <td>276</td>\n",
       "      <td>1.842693e+07</td>\n",
       "      <td>0.698118</td>\n",
       "      <td>0.686884</td>\n",
       "    </tr>\n",
       "    <tr>\n",
       "      <th>3</th>\n",
       "      <td>FI196</td>\n",
       "      <td>FI</td>\n",
       "      <td>Satakunta</td>\n",
       "      <td>MULTIPOLYGON (((21.41993 61.04744, 21.42015 61...</td>\n",
       "      <td>358255.966908</td>\n",
       "      <td>390</td>\n",
       "      <td>3.533939e+07</td>\n",
       "      <td>0.919390</td>\n",
       "      <td>0.904596</td>\n",
       "    </tr>\n",
       "    <tr>\n",
       "      <th>4</th>\n",
       "      <td>FI197</td>\n",
       "      <td>FI</td>\n",
       "      <td>Pirkanmaa</td>\n",
       "      <td>MULTIPOLYGON (((22.83124 62.27089, 22.90118 62...</td>\n",
       "      <td>901022.640876</td>\n",
       "      <td>505</td>\n",
       "      <td>4.031231e+07</td>\n",
       "      <td>1.607394</td>\n",
       "      <td>1.581528</td>\n",
       "    </tr>\n",
       "  </tbody>\n",
       "</table>\n",
       "</div>"
      ],
      "text/plain": [
       "  nuts_id cntr_code        nuts_name  \\\n",
       "0   FI193        FI      Keski-Suomi   \n",
       "1   FI194        FI  Etelä-Pohjanmaa   \n",
       "2   FI195        FI        Pohjanmaa   \n",
       "3   FI196        FI        Satakunta   \n",
       "4   FI197        FI        Pirkanmaa   \n",
       "\n",
       "                                            geometry     population  \\\n",
       "0  MULTIPOLYGON (((26.13865 63.45759, 26.16055 63...  510850.572340   \n",
       "1  MULTIPOLYGON (((21.64783 62.01959, 21.63880 62...  358466.021589   \n",
       "2  MULTIPOLYGON (((21.64783 62.01959, 21.52578 62...  340041.957401   \n",
       "3  MULTIPOLYGON (((21.41993 61.04744, 21.42015 61...  358255.966908   \n",
       "4  MULTIPOLYGON (((22.83124 62.27089, 22.90118 62...  901022.640876   \n",
       "\n",
       "   ind_area_count  ind_area_sum  index_nat  index_int  \n",
       "0             282  2.246628e+07   0.903992   0.889445  \n",
       "1             396  2.183331e+07   0.818465   0.805294  \n",
       "2             276  1.842693e+07   0.698118   0.686884  \n",
       "3             390  3.533939e+07   0.919390   0.904596  \n",
       "4             505  4.031231e+07   1.607394   1.581528  "
      ]
     },
     "execution_count": 16,
     "metadata": {},
     "output_type": "execute_result"
    }
   ],
   "source": [
    "taz_final = taz_all_nat.merge(taz_int[[taz_id, 'index_int']], on=taz_id, how='left')\n",
    "taz_final.head()"
   ]
  },
  {
   "cell_type": "code",
   "execution_count": 17,
   "id": "75dc9d80-e158-40be-902b-b7879053194b",
   "metadata": {},
   "outputs": [],
   "source": [
    "taz_final.to_file(path_export + 'taz-tutorial-attindex' + '.gpkg', driver='GPKG')"
   ]
  },
  {
   "cell_type": "code",
   "execution_count": null,
   "id": "ee3cbd67-7529-4cf5-88b2-930cfea2b2a2",
   "metadata": {},
   "outputs": [],
   "source": []
  }
 ],
 "metadata": {
  "kernelspec": {
   "display_name": "Python 3 (ipykernel)",
   "language": "python",
   "name": "python3"
  },
  "language_info": {
   "codemirror_mode": {
    "name": "ipython",
    "version": 3
   },
   "file_extension": ".py",
   "mimetype": "text/x-python",
   "name": "python",
   "nbconvert_exporter": "python",
   "pygments_lexer": "ipython3",
   "version": "3.8.13"
  }
 },
 "nbformat": 4,
 "nbformat_minor": 5
}
