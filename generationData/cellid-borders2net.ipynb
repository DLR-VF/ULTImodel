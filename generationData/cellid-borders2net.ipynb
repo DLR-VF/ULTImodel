{
 "cells": [
  {
   "cell_type": "code",
   "execution_count": 1,
   "metadata": {},
   "outputs": [],
   "source": [
    "import pandas as pd\n",
    "import geopandas as gpd\n",
    "\n",
    "import warnings\n",
    "warnings.filterwarnings('ignore') # hide annoying DeprecationWarning "
   ]
  },
  {
   "cell_type": "markdown",
   "metadata": {},
   "source": [
    "# Grenzen und ZonenID an Netz\n",
    "\n",
    "## input\n",
    "* Zonen einlesen\n",
    "* Netzwerk einlesen\n",
    "\n",
    "## get all Network links on border\n",
    "* dissolve zonen-layer\n",
    "* get only border of dissolved zonen-layer\n",
    "* sjoin net and border\n",
    "\n",
    "## Ags/Kreise 2 Links\n",
    "* Links den Nuts zuordnen\n",
    "* duplicate entfernen\n",
    "* linklaenge hinzufuegen\n",
    "\n",
    "## output\n",
    "* shp rausschreiben\n",
    "---"
   ]
  },
  {
   "cell_type": "markdown",
   "metadata": {},
   "source": [
    "### Zonen einlesen\n",
    "\n",
    "[source](https://ec.europa.eu/eurostat/web/gisco/geodata/reference-data/administrative-units-statistical-units/nuts)"
   ]
  },
  {
   "cell_type": "code",
   "execution_count": 2,
   "metadata": {},
   "outputs": [],
   "source": [
    "area='EU'\n",
    "    \n",
    "if area=='EU':\n",
    "    dic_name = 'major_streets_prim_europe_junction'"
   ]
  },
  {
   "cell_type": "code",
   "execution_count": 3,
   "metadata": {},
   "outputs": [
    {
     "data": {
      "text/plain": [
       "<matplotlib.axes._subplots.AxesSubplot at 0x236eece7648>"
      ]
     },
     "execution_count": 3,
     "metadata": {},
     "output_type": "execute_result"
    },
    {
     "data": {
      "image/png": "[encoded data removed]",
      "text/plain": [
       "<Figure size 432x288 with 1 Axes>"
      ]
     },
     "metadata": {
      "needs_background": "light"
     },
     "output_type": "display_data"
    }
   ],
   "source": [
    "zones=gpd.read_file(\"input/NUTS_BN_03M_2016_4326_NUTS3.shp\", encoding='utf8')\n",
    "zones = zones.to_crs(\"epsg:3035\")\n",
    "zones.plot()"
   ]
  },
  {
   "cell_type": "code",
   "execution_count": 4,
   "metadata": {},
   "outputs": [
    {
     "data": {
      "text/plain": [
       "<Projected CRS: EPSG:3035>\n",
       "Name: ETRS89-extended / LAEA Europe\n",
       "Axis Info [cartesian]:\n",
       "- Y[north]: Northing (metre)\n",
       "- X[east]: Easting (metre)\n",
       "Area of Use:\n",
       "- name: Europe - LCC & LAEA\n",
       "- bounds: (-35.58, 24.6, 44.83, 84.17)\n",
       "Coordinate Operation:\n",
       "- name: Europe Equal Area 2001\n",
       "- method: Lambert Azimuthal Equal Area\n",
       "Datum: European Terrestrial Reference System 1989\n",
       "- Ellipsoid: GRS 1980\n",
       "- Prime Meridian: Greenwich"
      ]
     },
     "execution_count": 4,
     "metadata": {},
     "output_type": "execute_result"
    }
   ],
   "source": [
    "zones.crs"
   ]
  },
  {
   "cell_type": "code",
   "execution_count": 5,
   "metadata": {},
   "outputs": [
    {
     "data": {
      "text/html": [
       "<div>\n",
       "<style scoped>\n",
       "    .dataframe tbody tr th:only-of-type {\n",
       "        vertical-align: middle;\n",
       "    }\n",
       "\n",
       "    .dataframe tbody tr th {\n",
       "        vertical-align: top;\n",
       "    }\n",
       "\n",
       "    .dataframe thead th {\n",
       "        text-align: right;\n",
       "    }\n",
       "</style>\n",
       "<table border=\"1\" class=\"dataframe\">\n",
       "  <thead>\n",
       "    <tr style=\"text-align: right;\">\n",
       "      <th></th>\n",
       "      <th>LEVL_CODE</th>\n",
       "      <th>NUTS_ID</th>\n",
       "      <th>CNTR_CODE</th>\n",
       "      <th>NUTS_NAME</th>\n",
       "      <th>FID</th>\n",
       "      <th>_count</th>\n",
       "      <th>_sum</th>\n",
       "      <th>_mean</th>\n",
       "      <th>area</th>\n",
       "      <th>geometry</th>\n",
       "    </tr>\n",
       "  </thead>\n",
       "  <tbody>\n",
       "    <tr>\n",
       "      <th>0</th>\n",
       "      <td>3</td>\n",
       "      <td>FRK23</td>\n",
       "      <td>FR</td>\n",
       "      <td>Drôme</td>\n",
       "      <td>FRK23</td>\n",
       "      <td>6570.0</td>\n",
       "      <td>5.058516e+05</td>\n",
       "      <td>76.994148</td>\n",
       "      <td>6568</td>\n",
       "      <td>MULTIPOLYGON (((3974775.039 2352354.733, 39729...</td>\n",
       "    </tr>\n",
       "    <tr>\n",
       "      <th>1</th>\n",
       "      <td>3</td>\n",
       "      <td>FRK24</td>\n",
       "      <td>FR</td>\n",
       "      <td>Isère</td>\n",
       "      <td>FRK24</td>\n",
       "      <td>7868.0</td>\n",
       "      <td>1.251906e+06</td>\n",
       "      <td>159.113662</td>\n",
       "      <td>7868</td>\n",
       "      <td>MULTIPOLYGON (((3940042.115 2534830.469, 39405...</td>\n",
       "    </tr>\n",
       "    <tr>\n",
       "      <th>2</th>\n",
       "      <td>3</td>\n",
       "      <td>AT313</td>\n",
       "      <td>AT</td>\n",
       "      <td>Mühlviertel</td>\n",
       "      <td>AT313</td>\n",
       "      <td>2656.0</td>\n",
       "      <td>2.041628e+05</td>\n",
       "      <td>76.868516</td>\n",
       "      <td>2658</td>\n",
       "      <td>POLYGON ((4596341.482 2829133.808, 4597570.306...</td>\n",
       "    </tr>\n",
       "    <tr>\n",
       "      <th>3</th>\n",
       "      <td>3</td>\n",
       "      <td>FI200</td>\n",
       "      <td>FI</td>\n",
       "      <td>Åland</td>\n",
       "      <td>FI200</td>\n",
       "      <td>1368.0</td>\n",
       "      <td>2.674366e+04</td>\n",
       "      <td>19.549461</td>\n",
       "      <td>1361</td>\n",
       "      <td>MULTIPOLYGON (((4868609.423 4182783.023, 48695...</td>\n",
       "    </tr>\n",
       "    <tr>\n",
       "      <th>4</th>\n",
       "      <td>3</td>\n",
       "      <td>FR102</td>\n",
       "      <td>FR</td>\n",
       "      <td>Seine-et-Marne</td>\n",
       "      <td>FR102</td>\n",
       "      <td>5940.0</td>\n",
       "      <td>1.408577e+06</td>\n",
       "      <td>237.134172</td>\n",
       "      <td>5940</td>\n",
       "      <td>POLYGON ((3780605.063 2912395.408, 3783967.894...</td>\n",
       "    </tr>\n",
       "  </tbody>\n",
       "</table>\n",
       "</div>"
      ],
      "text/plain": [
       "   LEVL_CODE NUTS_ID CNTR_CODE       NUTS_NAME    FID  _count          _sum  \\\n",
       "0          3   FRK23        FR           Drôme  FRK23  6570.0  5.058516e+05   \n",
       "1          3   FRK24        FR           Isère  FRK24  7868.0  1.251906e+06   \n",
       "2          3   AT313        AT     Mühlviertel  AT313  2656.0  2.041628e+05   \n",
       "3          3   FI200        FI           Åland  FI200  1368.0  2.674366e+04   \n",
       "4          3   FR102        FR  Seine-et-Marne  FR102  5940.0  1.408577e+06   \n",
       "\n",
       "        _mean  area                                           geometry  \n",
       "0   76.994148  6568  MULTIPOLYGON (((3974775.039 2352354.733, 39729...  \n",
       "1  159.113662  7868  MULTIPOLYGON (((3940042.115 2534830.469, 39405...  \n",
       "2   76.868516  2658  POLYGON ((4596341.482 2829133.808, 4597570.306...  \n",
       "3   19.549461  1361  MULTIPOLYGON (((4868609.423 4182783.023, 48695...  \n",
       "4  237.134172  5940  POLYGON ((3780605.063 2912395.408, 3783967.894...  "
      ]
     },
     "execution_count": 5,
     "metadata": {},
     "output_type": "execute_result"
    }
   ],
   "source": [
    "zones.head()"
   ]
  },
  {
   "cell_type": "code",
   "execution_count": 6,
   "metadata": {},
   "outputs": [
    {
     "data": {
      "text/plain": [
       "array(['FR', 'AT', 'FI', 'EL', 'ES', 'TR', 'EE', 'RS', 'SE', 'SK', 'DE',\n",
       "       'CH', 'BG', 'AL', 'BE', 'DK', 'CZ', 'CY', 'IT', 'PL', 'HU', 'HR',\n",
       "       'PT', 'LI', 'LT', 'IE', 'RO', 'NO', 'IS', 'UK', 'SI', 'LU', 'LV',\n",
       "       'ME', 'MK', 'MT', 'NL'], dtype=object)"
      ]
     },
     "execution_count": 6,
     "metadata": {},
     "output_type": "execute_result"
    }
   ],
   "source": [
    "zones['CNTR_CODE'].unique()"
   ]
  },
  {
   "cell_type": "code",
   "execution_count": 7,
   "metadata": {},
   "outputs": [
    {
     "data": {
      "image/png": "[encoded data removed]",
      "text/plain": [
       "<Figure size 432x288 with 1 Axes>"
      ]
     },
     "metadata": {
      "needs_background": "light"
     },
     "output_type": "display_data"
    }
   ],
   "source": [
    "if area=='EU':\n",
    "    zones=zones[(zones['LEVL_CODE']==3)].copy()\n",
    "    zones.plot()"
   ]
  },
  {
   "cell_type": "markdown",
   "metadata": {},
   "source": [
    "### Netzwerk einlesen\n",
    "\n",
    "- [x] create base lines file"
   ]
  },
  {
   "cell_type": "code",
   "execution_count": 8,
   "metadata": {},
   "outputs": [
    {
     "data": {
      "text/html": [
       "<div>\n",
       "<style scoped>\n",
       "    .dataframe tbody tr th:only-of-type {\n",
       "        vertical-align: middle;\n",
       "    }\n",
       "\n",
       "    .dataframe tbody tr th {\n",
       "        vertical-align: top;\n",
       "    }\n",
       "\n",
       "    .dataframe thead th {\n",
       "        text-align: right;\n",
       "    }\n",
       "</style>\n",
       "<table border=\"1\" class=\"dataframe\">\n",
       "  <thead>\n",
       "    <tr style=\"text-align: right;\">\n",
       "      <th></th>\n",
       "      <th>osm_id</th>\n",
       "      <th>name</th>\n",
       "      <th>highway</th>\n",
       "      <th>waterway</th>\n",
       "      <th>aerialway</th>\n",
       "      <th>barrier</th>\n",
       "      <th>man_made</th>\n",
       "      <th>oneway</th>\n",
       "      <th>maxspeed</th>\n",
       "      <th>junction</th>\n",
       "      <th>z_order</th>\n",
       "      <th>other_tags</th>\n",
       "      <th>geometry</th>\n",
       "    </tr>\n",
       "  </thead>\n",
       "  <tbody>\n",
       "    <tr>\n",
       "      <th>0</th>\n",
       "      <td>73</td>\n",
       "      <td>Ballards Lane</td>\n",
       "      <td>primary</td>\n",
       "      <td>None</td>\n",
       "      <td>None</td>\n",
       "      <td>None</td>\n",
       "      <td>None</td>\n",
       "      <td>yes</td>\n",
       "      <td>30 mph</td>\n",
       "      <td>None</td>\n",
       "      <td>7</td>\n",
       "      <td>\"abutters\"=&gt;\"mixed\",\"lit\"=&gt;\"yes\",\"ref\"=&gt;\"A598\"...</td>\n",
       "      <td>LINESTRING (-0.17788 51.61228, -0.17785 51.61235)</td>\n",
       "    </tr>\n",
       "    <tr>\n",
       "      <th>1</th>\n",
       "      <td>74</td>\n",
       "      <td>Ballards Lane</td>\n",
       "      <td>primary</td>\n",
       "      <td>None</td>\n",
       "      <td>None</td>\n",
       "      <td>None</td>\n",
       "      <td>None</td>\n",
       "      <td>None</td>\n",
       "      <td>30 mph</td>\n",
       "      <td>None</td>\n",
       "      <td>7</td>\n",
       "      <td>\"abutters\"=&gt;\"retail\",\"lit\"=&gt;\"yes\",\"ref\"=&gt;\"A598...</td>\n",
       "      <td>LINESTRING (-0.19312 51.60172, -0.19297 51.60186)</td>\n",
       "    </tr>\n",
       "    <tr>\n",
       "      <th>2</th>\n",
       "      <td>75</td>\n",
       "      <td>High Road</td>\n",
       "      <td>primary</td>\n",
       "      <td>None</td>\n",
       "      <td>None</td>\n",
       "      <td>None</td>\n",
       "      <td>None</td>\n",
       "      <td>None</td>\n",
       "      <td>30 mph</td>\n",
       "      <td>None</td>\n",
       "      <td>7</td>\n",
       "      <td>\"lit\"=&gt;\"yes\",\"ref\"=&gt;\"A1000\",\"abutters\"=&gt;\"retail\"</td>\n",
       "      <td>LINESTRING (-0.17679 51.61732, -0.17679 51.616...</td>\n",
       "    </tr>\n",
       "    <tr>\n",
       "      <th>3</th>\n",
       "      <td>79</td>\n",
       "      <td>East End Road</td>\n",
       "      <td>primary</td>\n",
       "      <td>None</td>\n",
       "      <td>None</td>\n",
       "      <td>None</td>\n",
       "      <td>None</td>\n",
       "      <td>None</td>\n",
       "      <td>30 mph</td>\n",
       "      <td>None</td>\n",
       "      <td>7</td>\n",
       "      <td>\"lit\"=&gt;\"yes\",\"ref\"=&gt;\"A504\"</td>\n",
       "      <td>LINESTRING (-0.19799 51.59712, -0.19778 51.596...</td>\n",
       "    </tr>\n",
       "    <tr>\n",
       "      <th>4</th>\n",
       "      <td>188</td>\n",
       "      <td>Marsh Lane</td>\n",
       "      <td>primary</td>\n",
       "      <td>None</td>\n",
       "      <td>None</td>\n",
       "      <td>None</td>\n",
       "      <td>None</td>\n",
       "      <td>yes</td>\n",
       "      <td>30 mph</td>\n",
       "      <td>None</td>\n",
       "      <td>7</td>\n",
       "      <td>\"cycleway\"=&gt;\"opposite_track\",\"cycleway:left\"=&gt;...</td>\n",
       "      <td>LINESTRING (-1.39698 50.90121, -1.39690 50.901...</td>\n",
       "    </tr>\n",
       "  </tbody>\n",
       "</table>\n",
       "</div>"
      ],
      "text/plain": [
       "  osm_id           name  highway waterway aerialway barrier man_made oneway  \\\n",
       "0     73  Ballards Lane  primary     None      None    None     None    yes   \n",
       "1     74  Ballards Lane  primary     None      None    None     None   None   \n",
       "2     75      High Road  primary     None      None    None     None   None   \n",
       "3     79  East End Road  primary     None      None    None     None   None   \n",
       "4    188     Marsh Lane  primary     None      None    None     None    yes   \n",
       "\n",
       "  maxspeed junction  z_order  \\\n",
       "0   30 mph     None        7   \n",
       "1   30 mph     None        7   \n",
       "2   30 mph     None        7   \n",
       "3   30 mph     None        7   \n",
       "4   30 mph     None        7   \n",
       "\n",
       "                                          other_tags  \\\n",
       "0  \"abutters\"=>\"mixed\",\"lit\"=>\"yes\",\"ref\"=>\"A598\"...   \n",
       "1  \"abutters\"=>\"retail\",\"lit\"=>\"yes\",\"ref\"=>\"A598...   \n",
       "2   \"lit\"=>\"yes\",\"ref\"=>\"A1000\",\"abutters\"=>\"retail\"   \n",
       "3                         \"lit\"=>\"yes\",\"ref\"=>\"A504\"   \n",
       "4  \"cycleway\"=>\"opposite_track\",\"cycleway:left\"=>...   \n",
       "\n",
       "                                            geometry  \n",
       "0  LINESTRING (-0.17788 51.61228, -0.17785 51.61235)  \n",
       "1  LINESTRING (-0.19312 51.60172, -0.19297 51.60186)  \n",
       "2  LINESTRING (-0.17679 51.61732, -0.17679 51.616...  \n",
       "3  LINESTRING (-0.19799 51.59712, -0.19778 51.596...  \n",
       "4  LINESTRING (-1.39698 50.90121, -1.39690 50.901...  "
      ]
     },
     "execution_count": 8,
     "metadata": {},
     "output_type": "execute_result"
    }
   ],
   "source": [
    "net = gpd.read_file('input/europe-primary-plus.gpkg', layer = 'Lines')\n",
    "net.head()"
   ]
  },
  {
   "cell_type": "code",
   "execution_count": 9,
   "metadata": {},
   "outputs": [
    {
     "data": {
      "text/plain": [
       "array(['primary', 'trunk', 'motorway_link', 'motorway', 'trunk_link',\n",
       "       'primary_link', 'secondary', 'residential', 'unclassified',\n",
       "       'tertiary', 'living_street', 'service', 'secondary_link', None],\n",
       "      dtype=object)"
      ]
     },
     "execution_count": 9,
     "metadata": {},
     "output_type": "execute_result"
    }
   ],
   "source": [
    "net['highway'].unique()"
   ]
  },
  {
   "cell_type": "code",
   "execution_count": 10,
   "metadata": {},
   "outputs": [
    {
     "data": {
      "text/plain": [
       "array(['primary', 'trunk', 'motorway_link', 'motorway', 'trunk_link',\n",
       "       'primary_link'], dtype=object)"
      ]
     },
     "execution_count": 10,
     "metadata": {},
     "output_type": "execute_result"
    }
   ],
   "source": [
    "# filter highway types\n",
    "net = net[net['highway'].isin(['motorway', 'motorway_link', 'trunk', 'trunk_link', 'primary', 'primary_link'])].copy()\n",
    "net['highway'].unique()"
   ]
  },
  {
   "cell_type": "code",
   "execution_count": 11,
   "metadata": {},
   "outputs": [
    {
     "data": {
      "text/plain": [
       "<matplotlib.axes._subplots.AxesSubplot at 0x2368c9ce248>"
      ]
     },
     "execution_count": 11,
     "metadata": {},
     "output_type": "execute_result"
    },
    {
     "data": {
      "image/png": "[encoded data removed]",
      "text/plain": [
       "<Figure size 432x288 with 1 Axes>"
      ]
     },
     "metadata": {
      "needs_background": "light"
     },
     "output_type": "display_data"
    }
   ],
   "source": [
    "net = net.to_crs('epsg:3035') \n",
    "net[::10].plot()"
   ]
  },
  {
   "cell_type": "markdown",
   "metadata": {},
   "source": [
    "---"
   ]
  },
  {
   "cell_type": "markdown",
   "metadata": {},
   "source": [
    "## get all Network links on border\n",
    "\n",
    "* dissolve zonen-layer\n",
    "* get only border of dissolved zonen-layer\n",
    "* sjoin net and border"
   ]
  },
  {
   "cell_type": "markdown",
   "metadata": {},
   "source": [
    "### dissolve krs-layer"
   ]
  },
  {
   "cell_type": "code",
   "execution_count": 12,
   "metadata": {},
   "outputs": [
    {
     "data": {
      "text/html": [
       "<div>\n",
       "<style scoped>\n",
       "    .dataframe tbody tr th:only-of-type {\n",
       "        vertical-align: middle;\n",
       "    }\n",
       "\n",
       "    .dataframe tbody tr th {\n",
       "        vertical-align: top;\n",
       "    }\n",
       "\n",
       "    .dataframe thead th {\n",
       "        text-align: right;\n",
       "    }\n",
       "</style>\n",
       "<table border=\"1\" class=\"dataframe\">\n",
       "  <thead>\n",
       "    <tr style=\"text-align: right;\">\n",
       "      <th></th>\n",
       "      <th>geometry</th>\n",
       "      <th>LEVL_CODE</th>\n",
       "      <th>_count</th>\n",
       "      <th>_sum</th>\n",
       "      <th>_mean</th>\n",
       "      <th>area</th>\n",
       "    </tr>\n",
       "    <tr>\n",
       "      <th>all</th>\n",
       "      <th></th>\n",
       "      <th></th>\n",
       "      <th></th>\n",
       "      <th></th>\n",
       "      <th></th>\n",
       "      <th></th>\n",
       "    </tr>\n",
       "  </thead>\n",
       "  <tbody>\n",
       "    <tr>\n",
       "      <th>1</th>\n",
       "      <td>MULTIPOLYGON (((10004004.326 -3022294.871, 100...</td>\n",
       "      <td>4566</td>\n",
       "      <td>5854880.0</td>\n",
       "      <td>6.068201e+08</td>\n",
       "      <td>811673.613286</td>\n",
       "      <td>5863367</td>\n",
       "    </tr>\n",
       "  </tbody>\n",
       "</table>\n",
       "</div>"
      ],
      "text/plain": [
       "                                              geometry  LEVL_CODE     _count  \\\n",
       "all                                                                            \n",
       "1    MULTIPOLYGON (((10004004.326 -3022294.871, 100...       4566  5854880.0   \n",
       "\n",
       "             _sum          _mean     area  \n",
       "all                                        \n",
       "1    6.068201e+08  811673.613286  5863367  "
      ]
     },
     "execution_count": 12,
     "metadata": {},
     "output_type": "execute_result"
    }
   ],
   "source": [
    "# dissolve\n",
    "zones_dis = zones.copy()\n",
    "zones_dis['all']=1\n",
    "zone_full = zones_dis.dissolve(by='all', aggfunc='sum').copy()\n",
    "zone_full.head()\n",
    "#zone_full.plot()"
   ]
  },
  {
   "cell_type": "markdown",
   "metadata": {},
   "source": [
    "### get only border of dissolved krs-layer"
   ]
  },
  {
   "cell_type": "code",
   "execution_count": 13,
   "metadata": {},
   "outputs": [
    {
     "data": {
      "text/plain": [
       "<matplotlib.axes._subplots.AxesSubplot at 0x2368ce299c8>"
      ]
     },
     "execution_count": 13,
     "metadata": {},
     "output_type": "execute_result"
    },
    {
     "data": {
      "image/png": "[encoded data removed]",
      "text/plain": [
       "<Figure size 432x288 with 1 Axes>"
      ]
     },
     "metadata": {
      "needs_background": "light"
     },
     "output_type": "display_data"
    }
   ],
   "source": [
    "grenzen=zone_full.copy()\n",
    "grenzen['geometry']= zone_full['geometry'].boundary\n",
    "grenzen['geometry'][:1].values[0]=grenzen['geometry'][:1].values[0].simplify(40, preserve_topology=True) #simplify\n",
    "grenzen.plot()"
   ]
  },
  {
   "cell_type": "markdown",
   "metadata": {},
   "source": [
    "### sjoin net and border"
   ]
  },
  {
   "cell_type": "code",
   "execution_count": 15,
   "metadata": {},
   "outputs": [],
   "source": [
    "sjoin_grenzen_net=gpd.sjoin(grenzen[['geometry']], net, how='inner', op='intersects')"
   ]
  },
  {
   "cell_type": "code",
   "execution_count": 16,
   "metadata": {},
   "outputs": [
    {
     "data": {
      "text/html": [
       "<div>\n",
       "<style scoped>\n",
       "    .dataframe tbody tr th:only-of-type {\n",
       "        vertical-align: middle;\n",
       "    }\n",
       "\n",
       "    .dataframe tbody tr th {\n",
       "        vertical-align: top;\n",
       "    }\n",
       "\n",
       "    .dataframe thead th {\n",
       "        text-align: right;\n",
       "    }\n",
       "</style>\n",
       "<table border=\"1\" class=\"dataframe\">\n",
       "  <thead>\n",
       "    <tr style=\"text-align: right;\">\n",
       "      <th></th>\n",
       "      <th>osm_id</th>\n",
       "      <th>name</th>\n",
       "      <th>highway</th>\n",
       "      <th>waterway</th>\n",
       "      <th>aerialway</th>\n",
       "      <th>barrier</th>\n",
       "      <th>man_made</th>\n",
       "      <th>oneway</th>\n",
       "      <th>maxspeed</th>\n",
       "      <th>junction</th>\n",
       "      <th>z_order</th>\n",
       "      <th>other_tags</th>\n",
       "      <th>geometry</th>\n",
       "    </tr>\n",
       "  </thead>\n",
       "  <tbody>\n",
       "    <tr>\n",
       "      <th>110</th>\n",
       "      <td>1637</td>\n",
       "      <td>Rosslandsvegen</td>\n",
       "      <td>primary</td>\n",
       "      <td>None</td>\n",
       "      <td>None</td>\n",
       "      <td>None</td>\n",
       "      <td>None</td>\n",
       "      <td>None</td>\n",
       "      <td>70</td>\n",
       "      <td>None</td>\n",
       "      <td>7</td>\n",
       "      <td>\"ref\"=&gt;\"564\",\"surface\"=&gt;\"paved\"</td>\n",
       "      <td>LINESTRING (4059594.951 4167480.100, 4059588.9...</td>\n",
       "    </tr>\n",
       "    <tr>\n",
       "      <th>111</th>\n",
       "      <td>1641</td>\n",
       "      <td>None</td>\n",
       "      <td>trunk_link</td>\n",
       "      <td>None</td>\n",
       "      <td>None</td>\n",
       "      <td>None</td>\n",
       "      <td>None</td>\n",
       "      <td>yes</td>\n",
       "      <td>80</td>\n",
       "      <td>None</td>\n",
       "      <td>8</td>\n",
       "      <td>\"bicycle\"=&gt;\"no\",\"foot\"=&gt;\"no\",\"lanes\"=&gt;\"1\",\"ref...</td>\n",
       "      <td>LINESTRING (4060026.325 4167819.275, 4060036.5...</td>\n",
       "    </tr>\n",
       "    <tr>\n",
       "      <th>152</th>\n",
       "      <td>2097</td>\n",
       "      <td>Dunglass Roundabout</td>\n",
       "      <td>trunk</td>\n",
       "      <td>None</td>\n",
       "      <td>None</td>\n",
       "      <td>None</td>\n",
       "      <td>None</td>\n",
       "      <td>None</td>\n",
       "      <td>70 mph</td>\n",
       "      <td>roundabout</td>\n",
       "      <td>8</td>\n",
       "      <td>\"lit\"=&gt;\"yes\",\"lanes\"=&gt;\"2\",\"operator\"=&gt;\"Transpo...</td>\n",
       "      <td>LINESTRING (3421059.666 3738734.290, 3421055.7...</td>\n",
       "    </tr>\n",
       "    <tr>\n",
       "      <th>153</th>\n",
       "      <td>2098</td>\n",
       "      <td>Dumbarton Road</td>\n",
       "      <td>trunk</td>\n",
       "      <td>None</td>\n",
       "      <td>None</td>\n",
       "      <td>None</td>\n",
       "      <td>None</td>\n",
       "      <td>yes</td>\n",
       "      <td>70 mph</td>\n",
       "      <td>None</td>\n",
       "      <td>8</td>\n",
       "      <td>\"lanes\"=&gt;\"2\",\"lit\"=&gt;\"yes\",\"maxspeed:type\"=&gt;\"GB...</td>\n",
       "      <td>LINESTRING (3421055.761 3738736.928, 3421028.7...</td>\n",
       "    </tr>\n",
       "    <tr>\n",
       "      <th>154</th>\n",
       "      <td>2099</td>\n",
       "      <td>Dumbarton Road</td>\n",
       "      <td>trunk</td>\n",
       "      <td>None</td>\n",
       "      <td>None</td>\n",
       "      <td>None</td>\n",
       "      <td>None</td>\n",
       "      <td>yes</td>\n",
       "      <td>40 mph</td>\n",
       "      <td>None</td>\n",
       "      <td>8</td>\n",
       "      <td>\"lanes\"=&gt;\"2\",\"lit\"=&gt;\"yes\",\"operator\"=&gt;\"Transpo...</td>\n",
       "      <td>LINESTRING (3419701.105 3739411.072, 3419729.1...</td>\n",
       "    </tr>\n",
       "  </tbody>\n",
       "</table>\n",
       "</div>"
      ],
      "text/plain": [
       "    osm_id                 name     highway waterway aerialway barrier  \\\n",
       "110   1637       Rosslandsvegen     primary     None      None    None   \n",
       "111   1641                 None  trunk_link     None      None    None   \n",
       "152   2097  Dunglass Roundabout       trunk     None      None    None   \n",
       "153   2098       Dumbarton Road       trunk     None      None    None   \n",
       "154   2099       Dumbarton Road       trunk     None      None    None   \n",
       "\n",
       "    man_made oneway maxspeed    junction  z_order  \\\n",
       "110     None   None       70        None        7   \n",
       "111     None    yes       80        None        8   \n",
       "152     None   None   70 mph  roundabout        8   \n",
       "153     None    yes   70 mph        None        8   \n",
       "154     None    yes   40 mph        None        8   \n",
       "\n",
       "                                            other_tags  \\\n",
       "110                    \"ref\"=>\"564\",\"surface\"=>\"paved\"   \n",
       "111  \"bicycle\"=>\"no\",\"foot\"=>\"no\",\"lanes\"=>\"1\",\"ref...   \n",
       "152  \"lit\"=>\"yes\",\"lanes\"=>\"2\",\"operator\"=>\"Transpo...   \n",
       "153  \"lanes\"=>\"2\",\"lit\"=>\"yes\",\"maxspeed:type\"=>\"GB...   \n",
       "154  \"lanes\"=>\"2\",\"lit\"=>\"yes\",\"operator\"=>\"Transpo...   \n",
       "\n",
       "                                              geometry  \n",
       "110  LINESTRING (4059594.951 4167480.100, 4059588.9...  \n",
       "111  LINESTRING (4060026.325 4167819.275, 4060036.5...  \n",
       "152  LINESTRING (3421059.666 3738734.290, 3421055.7...  \n",
       "153  LINESTRING (3421055.761 3738736.928, 3421028.7...  \n",
       "154  LINESTRING (3419701.105 3739411.072, 3419729.1...  "
      ]
     },
     "execution_count": 16,
     "metadata": {},
     "output_type": "execute_result"
    }
   ],
   "source": [
    "grenz_links=net[net['osm_id'].isin(sjoin_grenzen_net['osm_id'])]\n",
    "grenz_links.head()"
   ]
  },
  {
   "cell_type": "code",
   "execution_count": 17,
   "metadata": {},
   "outputs": [],
   "source": [
    "# add border attribute to net_df\n",
    "net_g=net.copy()\n",
    "\n",
    "net_g['grenze']=0\n",
    "net_g.loc[net_g['osm_id'].isin(sjoin_grenzen_net.osm_id), 'grenze'] = 1\n",
    "\n",
    "#net_g.grenze.value_counts()"
   ]
  },
  {
   "cell_type": "code",
   "execution_count": 18,
   "metadata": {},
   "outputs": [
    {
     "data": {
      "text/plain": [
       "2251854"
      ]
     },
     "execution_count": 18,
     "metadata": {},
     "output_type": "execute_result"
    }
   ],
   "source": [
    "len(net_g)"
   ]
  },
  {
   "cell_type": "code",
   "execution_count": 19,
   "metadata": {},
   "outputs": [
    {
     "data": {
      "text/plain": [
       "3909"
      ]
     },
     "execution_count": 19,
     "metadata": {},
     "output_type": "execute_result"
    }
   ],
   "source": [
    "sum(net_g['grenze'])"
   ]
  },
  {
   "cell_type": "markdown",
   "metadata": {},
   "source": [
    "## ZonenID 2 Links\n",
    "* Links den Zonen zuordnen\n",
    "* duplicate entfernen\n",
    "* linklaenge hinzufuegen"
   ]
  },
  {
   "cell_type": "code",
   "execution_count": 20,
   "metadata": {},
   "outputs": [
    {
     "data": {
      "text/html": [
       "<div>\n",
       "<style scoped>\n",
       "    .dataframe tbody tr th:only-of-type {\n",
       "        vertical-align: middle;\n",
       "    }\n",
       "\n",
       "    .dataframe tbody tr th {\n",
       "        vertical-align: top;\n",
       "    }\n",
       "\n",
       "    .dataframe thead th {\n",
       "        text-align: right;\n",
       "    }\n",
       "</style>\n",
       "<table border=\"1\" class=\"dataframe\">\n",
       "  <thead>\n",
       "    <tr style=\"text-align: right;\">\n",
       "      <th></th>\n",
       "      <th>LEVL_CODE</th>\n",
       "      <th>NUTS_ID</th>\n",
       "      <th>CNTR_CODE</th>\n",
       "      <th>NUTS_NAME</th>\n",
       "      <th>FID</th>\n",
       "      <th>_count</th>\n",
       "      <th>_sum</th>\n",
       "      <th>_mean</th>\n",
       "      <th>area</th>\n",
       "      <th>geometry</th>\n",
       "    </tr>\n",
       "  </thead>\n",
       "  <tbody>\n",
       "    <tr>\n",
       "      <th>0</th>\n",
       "      <td>3</td>\n",
       "      <td>FRK23</td>\n",
       "      <td>FR</td>\n",
       "      <td>Drôme</td>\n",
       "      <td>FRK23</td>\n",
       "      <td>6570.0</td>\n",
       "      <td>5.058516e+05</td>\n",
       "      <td>76.994148</td>\n",
       "      <td>6568</td>\n",
       "      <td>MULTIPOLYGON (((3974775.039 2352354.733, 39729...</td>\n",
       "    </tr>\n",
       "    <tr>\n",
       "      <th>1</th>\n",
       "      <td>3</td>\n",
       "      <td>FRK24</td>\n",
       "      <td>FR</td>\n",
       "      <td>Isère</td>\n",
       "      <td>FRK24</td>\n",
       "      <td>7868.0</td>\n",
       "      <td>1.251906e+06</td>\n",
       "      <td>159.113662</td>\n",
       "      <td>7868</td>\n",
       "      <td>MULTIPOLYGON (((3940042.115 2534830.469, 39405...</td>\n",
       "    </tr>\n",
       "    <tr>\n",
       "      <th>2</th>\n",
       "      <td>3</td>\n",
       "      <td>AT313</td>\n",
       "      <td>AT</td>\n",
       "      <td>Mühlviertel</td>\n",
       "      <td>AT313</td>\n",
       "      <td>2656.0</td>\n",
       "      <td>2.041628e+05</td>\n",
       "      <td>76.868516</td>\n",
       "      <td>2658</td>\n",
       "      <td>POLYGON ((4596341.482 2829133.808, 4597570.306...</td>\n",
       "    </tr>\n",
       "    <tr>\n",
       "      <th>3</th>\n",
       "      <td>3</td>\n",
       "      <td>FI200</td>\n",
       "      <td>FI</td>\n",
       "      <td>Åland</td>\n",
       "      <td>FI200</td>\n",
       "      <td>1368.0</td>\n",
       "      <td>2.674366e+04</td>\n",
       "      <td>19.549461</td>\n",
       "      <td>1361</td>\n",
       "      <td>MULTIPOLYGON (((4868609.423 4182783.023, 48695...</td>\n",
       "    </tr>\n",
       "    <tr>\n",
       "      <th>4</th>\n",
       "      <td>3</td>\n",
       "      <td>FR102</td>\n",
       "      <td>FR</td>\n",
       "      <td>Seine-et-Marne</td>\n",
       "      <td>FR102</td>\n",
       "      <td>5940.0</td>\n",
       "      <td>1.408577e+06</td>\n",
       "      <td>237.134172</td>\n",
       "      <td>5940</td>\n",
       "      <td>POLYGON ((3780605.063 2912395.408, 3783967.894...</td>\n",
       "    </tr>\n",
       "  </tbody>\n",
       "</table>\n",
       "</div>"
      ],
      "text/plain": [
       "   LEVL_CODE NUTS_ID CNTR_CODE       NUTS_NAME    FID  _count          _sum  \\\n",
       "0          3   FRK23        FR           Drôme  FRK23  6570.0  5.058516e+05   \n",
       "1          3   FRK24        FR           Isère  FRK24  7868.0  1.251906e+06   \n",
       "2          3   AT313        AT     Mühlviertel  AT313  2656.0  2.041628e+05   \n",
       "3          3   FI200        FI           Åland  FI200  1368.0  2.674366e+04   \n",
       "4          3   FR102        FR  Seine-et-Marne  FR102  5940.0  1.408577e+06   \n",
       "\n",
       "        _mean  area                                           geometry  \n",
       "0   76.994148  6568  MULTIPOLYGON (((3974775.039 2352354.733, 39729...  \n",
       "1  159.113662  7868  MULTIPOLYGON (((3940042.115 2534830.469, 39405...  \n",
       "2   76.868516  2658  POLYGON ((4596341.482 2829133.808, 4597570.306...  \n",
       "3   19.549461  1361  MULTIPOLYGON (((4868609.423 4182783.023, 48695...  \n",
       "4  237.134172  5940  POLYGON ((3780605.063 2912395.408, 3783967.894...  "
      ]
     },
     "execution_count": 20,
     "metadata": {},
     "output_type": "execute_result"
    }
   ],
   "source": [
    "zones.head()"
   ]
  },
  {
   "cell_type": "code",
   "execution_count": 21,
   "metadata": {},
   "outputs": [],
   "source": [
    "sjoin_zone_net=gpd.sjoin(zones[['geometry','NUTS_ID']], net_g, how='inner', op='intersects')"
   ]
  },
  {
   "cell_type": "code",
   "execution_count": 22,
   "metadata": {},
   "outputs": [
    {
     "data": {
      "text/plain": [
       "1    2071249\n",
       "2      31680\n",
       "3        273\n",
       "Name: freq_osmid, dtype: int64"
      ]
     },
     "execution_count": 22,
     "metadata": {},
     "output_type": "execute_result"
    }
   ],
   "source": [
    "# frequency of ids ( lines in more than 1 AGS)\n",
    "sjoin_zone_net['freq_osmid'] = sjoin_zone_net.groupby('osm_id')['osm_id'].transform('size')\n",
    "sjoin_zone_net['freq_osmid'].value_counts()"
   ]
  },
  {
   "cell_type": "markdown",
   "metadata": {},
   "source": [
    "drop duplicates ids"
   ]
  },
  {
   "cell_type": "code",
   "execution_count": 23,
   "metadata": {},
   "outputs": [
    {
     "data": {
      "text/plain": [
       "1    2087180\n",
       "Name: freq_osmid, dtype: int64"
      ]
     },
     "execution_count": 23,
     "metadata": {},
     "output_type": "execute_result"
    }
   ],
   "source": [
    "sjoin_zone_net= sjoin_zone_net.drop_duplicates(subset=['osm_id'], keep='first', inplace=False)\n",
    "sjoin_zone_net['freq_osmid'] = sjoin_zone_net.groupby('osm_id')['osm_id'].transform('size')\n",
    "sjoin_zone_net['freq_osmid'].value_counts()"
   ]
  },
  {
   "cell_type": "code",
   "execution_count": 24,
   "metadata": {},
   "outputs": [
    {
     "data": {
      "text/html": [
       "<div>\n",
       "<style scoped>\n",
       "    .dataframe tbody tr th:only-of-type {\n",
       "        vertical-align: middle;\n",
       "    }\n",
       "\n",
       "    .dataframe tbody tr th {\n",
       "        vertical-align: top;\n",
       "    }\n",
       "\n",
       "    .dataframe thead th {\n",
       "        text-align: right;\n",
       "    }\n",
       "</style>\n",
       "<table border=\"1\" class=\"dataframe\">\n",
       "  <thead>\n",
       "    <tr style=\"text-align: right;\">\n",
       "      <th></th>\n",
       "      <th>osm_id</th>\n",
       "      <th>NUTS_ID</th>\n",
       "    </tr>\n",
       "  </thead>\n",
       "  <tbody>\n",
       "    <tr>\n",
       "      <th>0</th>\n",
       "      <td>354710240</td>\n",
       "      <td>FRK23</td>\n",
       "    </tr>\n",
       "    <tr>\n",
       "      <th>0</th>\n",
       "      <td>354710241</td>\n",
       "      <td>FRK23</td>\n",
       "    </tr>\n",
       "    <tr>\n",
       "      <th>0</th>\n",
       "      <td>22141159</td>\n",
       "      <td>FRK23</td>\n",
       "    </tr>\n",
       "    <tr>\n",
       "      <th>0</th>\n",
       "      <td>22141155</td>\n",
       "      <td>FRK23</td>\n",
       "    </tr>\n",
       "    <tr>\n",
       "      <th>0</th>\n",
       "      <td>517328937</td>\n",
       "      <td>FRK23</td>\n",
       "    </tr>\n",
       "  </tbody>\n",
       "</table>\n",
       "</div>"
      ],
      "text/plain": [
       "      osm_id NUTS_ID\n",
       "0  354710240   FRK23\n",
       "0  354710241   FRK23\n",
       "0   22141159   FRK23\n",
       "0   22141155   FRK23\n",
       "0  517328937   FRK23"
      ]
     },
     "execution_count": 24,
     "metadata": {},
     "output_type": "execute_result"
    }
   ],
   "source": [
    "sjoin_zone_net[['osm_id','NUTS_ID']].head()"
   ]
  },
  {
   "cell_type": "code",
   "execution_count": 25,
   "metadata": {},
   "outputs": [],
   "source": [
    "net_done=pd.merge(net_g,sjoin_zone_net[['osm_id','NUTS_ID']])"
   ]
  },
  {
   "cell_type": "markdown",
   "metadata": {},
   "source": [
    "Add line length"
   ]
  },
  {
   "cell_type": "code",
   "execution_count": 26,
   "metadata": {},
   "outputs": [],
   "source": [
    "net_done['geom_len']=net_done['geometry'].apply(lambda x: int(round(x.length)))"
   ]
  },
  {
   "cell_type": "code",
   "execution_count": 27,
   "metadata": {},
   "outputs": [
    {
     "data": {
      "text/html": [
       "<div>\n",
       "<style scoped>\n",
       "    .dataframe tbody tr th:only-of-type {\n",
       "        vertical-align: middle;\n",
       "    }\n",
       "\n",
       "    .dataframe tbody tr th {\n",
       "        vertical-align: top;\n",
       "    }\n",
       "\n",
       "    .dataframe thead th {\n",
       "        text-align: right;\n",
       "    }\n",
       "</style>\n",
       "<table border=\"1\" class=\"dataframe\">\n",
       "  <thead>\n",
       "    <tr style=\"text-align: right;\">\n",
       "      <th></th>\n",
       "      <th>osm_id</th>\n",
       "      <th>name</th>\n",
       "      <th>highway</th>\n",
       "      <th>waterway</th>\n",
       "      <th>aerialway</th>\n",
       "      <th>barrier</th>\n",
       "      <th>man_made</th>\n",
       "      <th>oneway</th>\n",
       "      <th>maxspeed</th>\n",
       "      <th>junction</th>\n",
       "      <th>z_order</th>\n",
       "      <th>other_tags</th>\n",
       "      <th>geometry</th>\n",
       "      <th>grenze</th>\n",
       "      <th>NUTS_ID</th>\n",
       "      <th>geom_len</th>\n",
       "    </tr>\n",
       "  </thead>\n",
       "  <tbody>\n",
       "    <tr>\n",
       "      <th>0</th>\n",
       "      <td>73</td>\n",
       "      <td>Ballards Lane</td>\n",
       "      <td>primary</td>\n",
       "      <td>None</td>\n",
       "      <td>None</td>\n",
       "      <td>None</td>\n",
       "      <td>None</td>\n",
       "      <td>yes</td>\n",
       "      <td>30 mph</td>\n",
       "      <td>None</td>\n",
       "      <td>7</td>\n",
       "      <td>\"abutters\"=&gt;\"mixed\",\"lit\"=&gt;\"yes\",\"ref\"=&gt;\"A598\"...</td>\n",
       "      <td>LINESTRING (3618620.553 3215959.506, 3618623.9...</td>\n",
       "      <td>0</td>\n",
       "      <td>UKI71</td>\n",
       "      <td>8</td>\n",
       "    </tr>\n",
       "    <tr>\n",
       "      <th>1</th>\n",
       "      <td>74</td>\n",
       "      <td>Ballards Lane</td>\n",
       "      <td>primary</td>\n",
       "      <td>None</td>\n",
       "      <td>None</td>\n",
       "      <td>None</td>\n",
       "      <td>None</td>\n",
       "      <td>None</td>\n",
       "      <td>30 mph</td>\n",
       "      <td>None</td>\n",
       "      <td>7</td>\n",
       "      <td>\"abutters\"=&gt;\"retail\",\"lit\"=&gt;\"yes\",\"ref\"=&gt;\"A598...</td>\n",
       "      <td>LINESTRING (3617413.294 3214941.334, 3617425.6...</td>\n",
       "      <td>0</td>\n",
       "      <td>UKI71</td>\n",
       "      <td>18</td>\n",
       "    </tr>\n",
       "    <tr>\n",
       "      <th>2</th>\n",
       "      <td>75</td>\n",
       "      <td>High Road</td>\n",
       "      <td>primary</td>\n",
       "      <td>None</td>\n",
       "      <td>None</td>\n",
       "      <td>None</td>\n",
       "      <td>None</td>\n",
       "      <td>None</td>\n",
       "      <td>30 mph</td>\n",
       "      <td>None</td>\n",
       "      <td>7</td>\n",
       "      <td>\"lit\"=&gt;\"yes\",\"ref\"=&gt;\"A1000\",\"abutters\"=&gt;\"retail\"</td>\n",
       "      <td>LINESTRING (3618773.573 3216504.927, 3618765.8...</td>\n",
       "      <td>0</td>\n",
       "      <td>UKI71</td>\n",
       "      <td>62</td>\n",
       "    </tr>\n",
       "    <tr>\n",
       "      <th>3</th>\n",
       "      <td>79</td>\n",
       "      <td>East End Road</td>\n",
       "      <td>primary</td>\n",
       "      <td>None</td>\n",
       "      <td>None</td>\n",
       "      <td>None</td>\n",
       "      <td>None</td>\n",
       "      <td>None</td>\n",
       "      <td>30 mph</td>\n",
       "      <td>None</td>\n",
       "      <td>7</td>\n",
       "      <td>\"lit\"=&gt;\"yes\",\"ref\"=&gt;\"A504\"</td>\n",
       "      <td>LINESTRING (3617008.948 3214480.394, 3617021.0...</td>\n",
       "      <td>0</td>\n",
       "      <td>UKI71</td>\n",
       "      <td>674</td>\n",
       "    </tr>\n",
       "    <tr>\n",
       "      <th>4</th>\n",
       "      <td>188</td>\n",
       "      <td>Marsh Lane</td>\n",
       "      <td>primary</td>\n",
       "      <td>None</td>\n",
       "      <td>None</td>\n",
       "      <td>None</td>\n",
       "      <td>None</td>\n",
       "      <td>yes</td>\n",
       "      <td>30 mph</td>\n",
       "      <td>None</td>\n",
       "      <td>7</td>\n",
       "      <td>\"cycleway\"=&gt;\"opposite_track\",\"cycleway:left\"=&gt;...</td>\n",
       "      <td>LINESTRING (3522979.626 3150106.869, 3522984.4...</td>\n",
       "      <td>0</td>\n",
       "      <td>UKJ32</td>\n",
       "      <td>151</td>\n",
       "    </tr>\n",
       "  </tbody>\n",
       "</table>\n",
       "</div>"
      ],
      "text/plain": [
       "  osm_id           name  highway waterway aerialway barrier man_made oneway  \\\n",
       "0     73  Ballards Lane  primary     None      None    None     None    yes   \n",
       "1     74  Ballards Lane  primary     None      None    None     None   None   \n",
       "2     75      High Road  primary     None      None    None     None   None   \n",
       "3     79  East End Road  primary     None      None    None     None   None   \n",
       "4    188     Marsh Lane  primary     None      None    None     None    yes   \n",
       "\n",
       "  maxspeed junction  z_order  \\\n",
       "0   30 mph     None        7   \n",
       "1   30 mph     None        7   \n",
       "2   30 mph     None        7   \n",
       "3   30 mph     None        7   \n",
       "4   30 mph     None        7   \n",
       "\n",
       "                                          other_tags  \\\n",
       "0  \"abutters\"=>\"mixed\",\"lit\"=>\"yes\",\"ref\"=>\"A598\"...   \n",
       "1  \"abutters\"=>\"retail\",\"lit\"=>\"yes\",\"ref\"=>\"A598...   \n",
       "2   \"lit\"=>\"yes\",\"ref\"=>\"A1000\",\"abutters\"=>\"retail\"   \n",
       "3                         \"lit\"=>\"yes\",\"ref\"=>\"A504\"   \n",
       "4  \"cycleway\"=>\"opposite_track\",\"cycleway:left\"=>...   \n",
       "\n",
       "                                            geometry  grenze NUTS_ID  geom_len  \n",
       "0  LINESTRING (3618620.553 3215959.506, 3618623.9...       0   UKI71         8  \n",
       "1  LINESTRING (3617413.294 3214941.334, 3617425.6...       0   UKI71        18  \n",
       "2  LINESTRING (3618773.573 3216504.927, 3618765.8...       0   UKI71        62  \n",
       "3  LINESTRING (3617008.948 3214480.394, 3617021.0...       0   UKI71       674  \n",
       "4  LINESTRING (3522979.626 3150106.869, 3522984.4...       0   UKJ32       151  "
      ]
     },
     "execution_count": 27,
     "metadata": {},
     "output_type": "execute_result"
    }
   ],
   "source": [
    "net_done.head(5)"
   ]
  },
  {
   "cell_type": "code",
   "execution_count": 28,
   "metadata": {},
   "outputs": [
    {
     "data": {
      "text/plain": [
       "Index(['osm_id', 'name', 'highway', 'waterway', 'aerialway', 'barrier',\n",
       "       'man_made', 'oneway', 'maxspeed', 'junction', 'z_order', 'other_tags',\n",
       "       'geometry', 'grenze', 'NUTS_ID', 'geom_len'],\n",
       "      dtype='object')"
      ]
     },
     "execution_count": 28,
     "metadata": {},
     "output_type": "execute_result"
    }
   ],
   "source": [
    "net_done.columns"
   ]
  },
  {
   "cell_type": "code",
   "execution_count": 29,
   "metadata": {},
   "outputs": [],
   "source": [
    "net_done=net_done[['osm_id', 'highway', 'oneway', 'junction', 'geometry', 'grenze', 'NUTS_ID', 'geom_len']].copy()"
   ]
  },
  {
   "cell_type": "markdown",
   "metadata": {},
   "source": [
    "## rausschreiben "
   ]
  },
  {
   "cell_type": "code",
   "execution_count": 61,
   "metadata": {},
   "outputs": [],
   "source": [
    "#net_done = net_done.to_crs(\"epsg:4326\")"
   ]
  },
  {
   "cell_type": "code",
   "execution_count": 106,
   "metadata": {},
   "outputs": [
    {
     "data": {
      "text/html": [
       "<div>\n",
       "<style scoped>\n",
       "    .dataframe tbody tr th:only-of-type {\n",
       "        vertical-align: middle;\n",
       "    }\n",
       "\n",
       "    .dataframe tbody tr th {\n",
       "        vertical-align: top;\n",
       "    }\n",
       "\n",
       "    .dataframe thead th {\n",
       "        text-align: right;\n",
       "    }\n",
       "</style>\n",
       "<table border=\"1\" class=\"dataframe\">\n",
       "  <thead>\n",
       "    <tr style=\"text-align: right;\">\n",
       "      <th></th>\n",
       "      <th>osm_id</th>\n",
       "      <th>highway</th>\n",
       "      <th>oneway</th>\n",
       "      <th>junction</th>\n",
       "      <th>geometry</th>\n",
       "      <th>grenze</th>\n",
       "      <th>NUTS_ID</th>\n",
       "      <th>geom_len</th>\n",
       "    </tr>\n",
       "  </thead>\n",
       "  <tbody>\n",
       "    <tr>\n",
       "      <th>0</th>\n",
       "      <td>73</td>\n",
       "      <td>primary</td>\n",
       "      <td>yes</td>\n",
       "      <td>None</td>\n",
       "      <td>LINESTRING (3618620.553 3215959.506, 3618623.9...</td>\n",
       "      <td>0</td>\n",
       "      <td>UKI71</td>\n",
       "      <td>8</td>\n",
       "    </tr>\n",
       "    <tr>\n",
       "      <th>1</th>\n",
       "      <td>74</td>\n",
       "      <td>primary</td>\n",
       "      <td>None</td>\n",
       "      <td>None</td>\n",
       "      <td>LINESTRING (3617413.294 3214941.334, 3617425.6...</td>\n",
       "      <td>0</td>\n",
       "      <td>UKI71</td>\n",
       "      <td>18</td>\n",
       "    </tr>\n",
       "    <tr>\n",
       "      <th>2</th>\n",
       "      <td>75</td>\n",
       "      <td>primary</td>\n",
       "      <td>None</td>\n",
       "      <td>None</td>\n",
       "      <td>LINESTRING (3618773.573 3216504.927, 3618765.8...</td>\n",
       "      <td>0</td>\n",
       "      <td>UKI71</td>\n",
       "      <td>62</td>\n",
       "    </tr>\n",
       "    <tr>\n",
       "      <th>3</th>\n",
       "      <td>79</td>\n",
       "      <td>primary</td>\n",
       "      <td>None</td>\n",
       "      <td>None</td>\n",
       "      <td>LINESTRING (3617008.948 3214480.394, 3617021.0...</td>\n",
       "      <td>0</td>\n",
       "      <td>UKI71</td>\n",
       "      <td>674</td>\n",
       "    </tr>\n",
       "    <tr>\n",
       "      <th>4</th>\n",
       "      <td>188</td>\n",
       "      <td>primary</td>\n",
       "      <td>yes</td>\n",
       "      <td>None</td>\n",
       "      <td>LINESTRING (3522979.626 3150106.869, 3522984.4...</td>\n",
       "      <td>0</td>\n",
       "      <td>UKJ32</td>\n",
       "      <td>151</td>\n",
       "    </tr>\n",
       "  </tbody>\n",
       "</table>\n",
       "</div>"
      ],
      "text/plain": [
       "  osm_id  highway oneway junction  \\\n",
       "0     73  primary    yes     None   \n",
       "1     74  primary   None     None   \n",
       "2     75  primary   None     None   \n",
       "3     79  primary   None     None   \n",
       "4    188  primary    yes     None   \n",
       "\n",
       "                                            geometry  grenze NUTS_ID  geom_len  \n",
       "0  LINESTRING (3618620.553 3215959.506, 3618623.9...       0   UKI71         8  \n",
       "1  LINESTRING (3617413.294 3214941.334, 3617425.6...       0   UKI71        18  \n",
       "2  LINESTRING (3618773.573 3216504.927, 3618765.8...       0   UKI71        62  \n",
       "3  LINESTRING (3617008.948 3214480.394, 3617021.0...       0   UKI71       674  \n",
       "4  LINESTRING (3522979.626 3150106.869, 3522984.4...       0   UKJ32       151  "
      ]
     },
     "execution_count": 106,
     "metadata": {},
     "output_type": "execute_result"
    }
   ],
   "source": [
    "net_done.head()"
   ]
  },
  {
   "cell_type": "code",
   "execution_count": 30,
   "metadata": {},
   "outputs": [
    {
     "data": {
      "text/plain": [
       "highway\n",
       "motorway         166577240\n",
       "motorway_link     36297457\n",
       "primary          362010530\n",
       "primary_link       8328149\n",
       "trunk            177122989\n",
       "trunk_link        18971311\n",
       "Name: geom_len, dtype: int64"
      ]
     },
     "execution_count": 30,
     "metadata": {},
     "output_type": "execute_result"
    }
   ],
   "source": [
    "net_done.groupby('highway')['geom_len'].sum()"
   ]
  },
  {
   "cell_type": "code",
   "execution_count": 31,
   "metadata": {},
   "outputs": [
    {
     "data": {
      "text/plain": [
       "highway\n",
       "motorway          262856\n",
       "motorway_link     190173\n",
       "primary          1069361\n",
       "primary_link       98664\n",
       "trunk             332074\n",
       "trunk_link        134052\n",
       "Name: osm_id, dtype: int64"
      ]
     },
     "execution_count": 31,
     "metadata": {},
     "output_type": "execute_result"
    }
   ],
   "source": [
    "net_done.groupby('highway')['osm_id'].count()"
   ]
  },
  {
   "cell_type": "markdown",
   "metadata": {},
   "source": [
    "## Kontrolle & Export"
   ]
  },
  {
   "cell_type": "code",
   "execution_count": 32,
   "metadata": {},
   "outputs": [
    {
     "data": {
      "text/plain": [
       "<matplotlib.axes._subplots.AxesSubplot at 0x2368cf4b988>"
      ]
     },
     "execution_count": 32,
     "metadata": {},
     "output_type": "execute_result"
    },
    {
     "data": {
      "image/png": "[encoded data removed]",
      "text/plain": [
       "<Figure size 432x288 with 1 Axes>"
      ]
     },
     "metadata": {
      "needs_background": "light"
     },
     "output_type": "display_data"
    }
   ],
   "source": [
    "net_done[::100].plot(column='NUTS_ID', cmap='prism')#, legend=True)"
   ]
  },
  {
   "cell_type": "code",
   "execution_count": 33,
   "metadata": {},
   "outputs": [],
   "source": [
    "net_done.to_file('input/lines-border-nutsid.gpkg', driver = 'GPKG')"
   ]
  },
  {
   "cell_type": "markdown",
   "metadata": {},
   "source": [
    "---"
   ]
  }
 ],
 "metadata": {
  "kernelspec": {
   "display_name": "Python 3",
   "language": "python",
   "name": "python3"
  },
  "language_info": {
   "codemirror_mode": {
    "name": "ipython",
    "version": 3
   },
   "file_extension": ".py",
   "mimetype": "text/x-python",
   "name": "python",
   "nbconvert_exporter": "python",
   "pygments_lexer": "ipython3",
   "version": "3.7.6"
  }
 },
 "nbformat": 4,
 "nbformat_minor": 4
}
